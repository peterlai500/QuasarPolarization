{
 "cells": [
  {
   "cell_type": "code",
   "execution_count": 1,
   "id": "d299a8b3-5b72-474a-8928-85dd5778d64e",
   "metadata": {},
   "outputs": [],
   "source": [
    "from QuasarPol_Class import QuasarPol"
   ]
  },
  {
   "cell_type": "code",
   "execution_count": 2,
   "id": "ce4219c9-bd09-4a41-a0f7-022c365b2561",
   "metadata": {},
   "outputs": [],
   "source": [
    "target = 'J2253+1608'\n",
    "calibration = False\n",
    "polarization = 'Dual'\n",
    "data_length = 5000"
   ]
  },
  {
   "cell_type": "code",
   "execution_count": 3,
   "id": "767dbf82-1cba-4264-ae22-199d48045e99",
   "metadata": {},
   "outputs": [],
   "source": [
    "result = QuasarPol(target, calibration, polarization, data_length)"
   ]
  },
  {
   "cell_type": "code",
   "execution_count": 4,
   "id": "a9731b51-114c-4aaf-8b9c-78a042898187",
   "metadata": {},
   "outputs": [],
   "source": [
    "data = result.get_tables()"
   ]
  },
  {
   "cell_type": "code",
   "execution_count": 5,
   "id": "acc23a07-57db-4f7c-9279-c8c92fdc0130",
   "metadata": {},
   "outputs": [
    {
     "ename": "ValueError",
     "evalue": "hour must be in 0..23",
     "output_type": "error",
     "traceback": [
      "\u001b[0;31m---------------------------------------------------------------------------\u001b[0m",
      "\u001b[0;31mValueError\u001b[0m                                Traceback (most recent call last)",
      "Cell \u001b[0;32mIn[5], line 1\u001b[0m\n\u001b[0;32m----> 1\u001b[0m PA_data \u001b[38;5;241m=\u001b[39m \u001b[43mresult\u001b[49m\u001b[38;5;241;43m.\u001b[39;49m\u001b[43mget_ParaAngle\u001b[49m\u001b[43m(\u001b[49m\u001b[43m)\u001b[49m\n",
      "File \u001b[0;32m~/Research/QuasarPolarization/QuasarPol_Class.py:153\u001b[0m, in \u001b[0;36mQuasarPol.get_ParaAngle\u001b[0;34m(self)\u001b[0m\n\u001b[1;32m    150\u001b[0m end_minutes \u001b[38;5;241m=\u001b[39m \u001b[38;5;28mint\u001b[39m(end_time \u001b[38;5;241m%\u001b[39m \u001b[38;5;241m3600\u001b[39m \u001b[38;5;241m/\u001b[39m \u001b[38;5;241m60\u001b[39m)\n\u001b[1;32m    151\u001b[0m end_seconds \u001b[38;5;241m=\u001b[39m \u001b[38;5;28mint\u001b[39m(end_time \u001b[38;5;241m%\u001b[39m \u001b[38;5;241m3600\u001b[39m \u001b[38;5;241m-\u001b[39m end_minutes \u001b[38;5;241m*\u001b[39m \u001b[38;5;241m60\u001b[39m)\n\u001b[0;32m--> 153\u001b[0m end_object \u001b[38;5;241m=\u001b[39m \u001b[43mdatetime\u001b[49m\u001b[43m(\u001b[49m\u001b[38;5;28;43mint\u001b[39;49m\u001b[43m(\u001b[49m\u001b[43myear\u001b[49m\u001b[43m)\u001b[49m\u001b[43m,\u001b[49m\u001b[43m \u001b[49m\u001b[38;5;28;43mint\u001b[39;49m\u001b[43m(\u001b[49m\u001b[43mmonth\u001b[49m\u001b[43m)\u001b[49m\u001b[43m,\u001b[49m\u001b[43m \u001b[49m\u001b[38;5;28;43mint\u001b[39;49m\u001b[43m(\u001b[49m\u001b[43mday\u001b[49m\u001b[43m)\u001b[49m\u001b[43m,\u001b[49m\u001b[43m \u001b[49m\u001b[43mend_hours\u001b[49m\u001b[43m,\u001b[49m\u001b[43m \u001b[49m\u001b[43mend_minutes\u001b[49m\u001b[43m,\u001b[49m\u001b[43m \u001b[49m\u001b[43mend_seconds\u001b[49m\u001b[43m)\u001b[49m\n\u001b[1;32m    154\u001b[0m obs_end_Datetime \u001b[38;5;241m=\u001b[39m Time(end_object, scale\u001b[38;5;241m=\u001b[39m\u001b[38;5;124m'\u001b[39m\u001b[38;5;124mutc\u001b[39m\u001b[38;5;124m'\u001b[39m)\n\u001b[1;32m    156\u001b[0m end_PA \u001b[38;5;241m=\u001b[39m Angle(ALMA_location\u001b[38;5;241m.\u001b[39mparallactic_angle(obs_end_Datetime, target_coord), u\u001b[38;5;241m.\u001b[39mdeg)\n",
      "\u001b[0;31mValueError\u001b[0m: hour must be in 0..23"
     ]
    }
   ],
   "source": [
    "PA_data = result.get_ParaAngle()"
   ]
  }
 ],
 "metadata": {
  "kernelspec": {
   "display_name": "Python 3 (ipykernel)",
   "language": "python",
   "name": "python3"
  },
  "language_info": {
   "codemirror_mode": {
    "name": "ipython",
    "version": 3
   },
   "file_extension": ".py",
   "mimetype": "text/x-python",
   "name": "python",
   "nbconvert_exporter": "python",
   "pygments_lexer": "ipython3",
   "version": "3.8.13"
  }
 },
 "nbformat": 4,
 "nbformat_minor": 5
}
