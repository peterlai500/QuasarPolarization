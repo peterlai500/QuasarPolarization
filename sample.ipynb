{
 "cells": [
  {
   "cell_type": "markdown",
   "id": "0d2cdbbb-0f58-48ec-8bd5-ecef3475cbf0",
   "metadata": {},
   "source": [
    "# The QuasarPol Package Demonstration and Explanation\n",
    "There are many useful functions within the package.  \n",
    "In this sample notebook, I will detailly clarify the overall functions and how to use it."
   ]
  },
  {
   "cell_type": "code",
   "execution_count": 1,
   "id": "d299a8b3-5b72-474a-8928-85dd5778d64e",
   "metadata": {},
   "outputs": [],
   "source": [
    "from QuasarPol_Class import QuasarPol\n",
    "\n",
    "import os\n",
    "from datetime import date\n",
    "import numpy as np"
   ]
  },
  {
   "cell_type": "markdown",
   "id": "da3d5b21-ce83-4bad-8e43-497df88454ba",
   "metadata": {},
   "source": [
    "Below is the example target condition, the calibrator J2253+1608 with dual polarization type and I only want to query the former 5000 data."
   ]
  },
  {
   "cell_type": "code",
   "execution_count": 2,
   "id": "ce4219c9-bd09-4a41-a0f7-022c365b2561",
   "metadata": {},
   "outputs": [],
   "source": [
    "target = 'J2253+1608'\n",
    "calibration = False\n",
    "polarization = 'Dual'\n",
    "data_length = 5000"
   ]
  },
  {
   "cell_type": "markdown",
   "id": "5cfc5e4e-92d8-4142-9f8f-37fd0216b48c",
   "metadata": {},
   "source": [
    "To initialize the package, we need 4 parameters:  \n",
    "`QuasarPol(source, sci_obs, pol, table_length)`  \n",
    "The order of the parameters cannot be swapped or ignored.\n",
    "1. `source`: (string)  \n",
    "   The name of the target, use the `source_name_alma` in astroquery. If using the name in the ObsCore model, the data may be an error, or no data outputted.\n",
    "3. `sci_obs`: (bool)  \n",
    "   Determined that the observation is for a science goal or calibration purpose.\n",
    "5. `pol`: (string)  \n",
    "   The polarization type data we want to acquire. There are `'Single'`, `'Dual'`, or `'Full'`\n",
    "7. `table_length`: (integer)  \n",
    "   To constrain the amount of the outcome data.\n"
   ]
  },
  {
   "cell_type": "code",
   "execution_count": 3,
   "id": "767dbf82-1cba-4264-ae22-199d48045e99",
   "metadata": {},
   "outputs": [],
   "source": [
    "result = QuasarPol(target, calibration, polarization, data_length)"
   ]
  },
  {
   "cell_type": "markdown",
   "id": "a5cd7ea8-f3de-478d-856f-148d9beb3e33",
   "metadata": {},
   "source": [
    "## Functions\n",
    "\n",
    "There are many useful functions within the package.  \n",
    "- `get_table()` returns the data in ObsCore table format. Add the `legacy_column=True` to return the ALMA legacy columns.\n",
    "- `get_ParaAngle()` returns the table in which containing parallactic-angle-related information.\n",
    "- `filter_data(min_change_in_PA, Max_change_in_PA)`  returns the data table with a certain parallactic angle change range.\n",
    "\n",
    "Call the `show_in_notebook()` or `show_in_browser()` object to browse the table thoroughly."
   ]
  },
  {
   "cell_type": "code",
   "execution_count": 4,
   "id": "a9731b51-114c-4aaf-8b9c-78a042898187",
   "metadata": {},
   "outputs": [
    {
     "name": "stdout",
     "output_type": "stream",
     "text": [
      "J2253+1608 has 3549 data\n"
     ]
    }
   ],
   "source": [
    "table = result.get_tables()\n",
    "print(f\"{target} has {len(table)} data\")"
   ]
  },
  {
   "cell_type": "code",
   "execution_count": 5,
   "id": "03d81b0d-b813-4161-ac1c-e08de862d8e2",
   "metadata": {},
   "outputs": [],
   "source": [
    "table.show_in_browser()"
   ]
  },
  {
   "cell_type": "code",
   "execution_count": 6,
   "id": "723424b8-6dd3-4ef1-be91-a5a1892d2bd9",
   "metadata": {},
   "outputs": [],
   "source": [
    "PA_table = result.get_ParaAngle()"
   ]
  },
  {
   "cell_type": "code",
   "execution_count": 7,
   "id": "6b567cc7-5fb4-494a-9eda-dc65c29e7dc3",
   "metadata": {},
   "outputs": [
    {
     "name": "stdout",
     "output_type": "stream",
     "text": [
      "J2253+1608 has 1 data between 33 and 43 degrees.\n"
     ]
    }
   ],
   "source": [
    "filter_PA = result.filter_data(33, 43)\n",
    "print(f\"{target} has {len(np.unique(filter_PA['member_ous_uid']))} data between {result.min_PA} and {result.max_PA} degrees.\")"
   ]
  },
  {
   "cell_type": "markdown",
   "id": "69484745-7ee0-4cbf-8d1e-6887b1fe6b22",
   "metadata": {},
   "source": [
    "Below are the filter result."
   ]
  },
  {
   "cell_type": "code",
   "execution_count": 8,
   "id": "88e97715-8eed-4740-a5e7-1ccbf69871b2",
   "metadata": {},
   "outputs": [
    {
     "data": {
      "text/html": [
       "<i>QTable length=4</i>\n",
       "<table id=\"table140688646400176\" class=\"table-striped table-bordered table-condensed\">\n",
       "<thead><tr><th>member_ous_uid</th><th>Obs_date</th><th>Change_PA</th><th>Init_PA</th><th>End_PA</th></tr></thead>\n",
       "<thead><tr><th></th><th></th><th>deg</th><th>deg</th><th>deg</th></tr></thead>\n",
       "<thead><tr><th>str21</th><th>str10</th><th>float64</th><th>float64</th><th>float64</th></tr></thead>\n",
       "<tr><td>uid://A001/X15aa/X20f</td><td>23-08-2022</td><td>34.025316441942465</td><td>127.56883485643155</td><td>161.59415129837402</td></tr>\n",
       "<tr><td>uid://A001/X15aa/X20f</td><td>23-08-2022</td><td>34.025316441942465</td><td>127.56883485643155</td><td>161.59415129837402</td></tr>\n",
       "<tr><td>uid://A001/X15aa/X20f</td><td>23-08-2022</td><td>34.025316441942465</td><td>127.56883485643155</td><td>161.59415129837402</td></tr>\n",
       "<tr><td>uid://A001/X15aa/X20f</td><td>23-08-2022</td><td>34.025316441942465</td><td>127.56883485643155</td><td>161.59415129837402</td></tr>\n",
       "</table>"
      ],
      "text/plain": [
       "<QTable length=4>\n",
       "    member_ous_uid     Obs_date  ...      Init_PA             End_PA      \n",
       "                                 ...        deg                deg        \n",
       "        str21           str10    ...      float64            float64      \n",
       "--------------------- ---------- ... ------------------ ------------------\n",
       "uid://A001/X15aa/X20f 23-08-2022 ... 127.56883485643155 161.59415129837402\n",
       "uid://A001/X15aa/X20f 23-08-2022 ... 127.56883485643155 161.59415129837402\n",
       "uid://A001/X15aa/X20f 23-08-2022 ... 127.56883485643155 161.59415129837402\n",
       "uid://A001/X15aa/X20f 23-08-2022 ... 127.56883485643155 161.59415129837402"
      ]
     },
     "execution_count": 8,
     "metadata": {},
     "output_type": "execute_result"
    }
   ],
   "source": [
    "filter_PA"
   ]
  },
  {
   "cell_type": "markdown",
   "id": "a0fe38bb-6a8e-46cd-b75b-58d30a02c983",
   "metadata": {},
   "source": [
    "When downloading the target path can sort in the way of the below cell."
   ]
  },
  {
   "cell_type": "code",
   "execution_count": 10,
   "id": "1e2cf051-e146-40a1-b681-6436f458e9b9",
   "metadata": {},
   "outputs": [],
   "source": [
    "today = str(date.today()).replace('-', '')\n",
    "target_name = target.replace('+', 'p')\n",
    "storage_path = '/run/media/pinhsien/Storage24TB/DATA'\n",
    "download_path = f'{storage_path}/{target_name}.{today}'"
   ]
  },
  {
   "cell_type": "code",
   "execution_count": null,
   "id": "58f8b60f-33db-457e-9fdb-d07b587f1979",
   "metadata": {
    "scrolled": true
   },
   "outputs": [],
   "source": [
    "1/0\n",
    "result.download(filtered=True, save_directory=download_path)\n",
    "result.untar()\n",
    "result.run_script()"
   ]
  }
 ],
 "metadata": {
  "kernelspec": {
   "display_name": "Python 3 (ipykernel)",
   "language": "python",
   "name": "python3"
  },
  "language_info": {
   "codemirror_mode": {
    "name": "ipython",
    "version": 3
   },
   "file_extension": ".py",
   "mimetype": "text/x-python",
   "name": "python",
   "nbconvert_exporter": "python",
   "pygments_lexer": "ipython3",
   "version": "3.8.13"
  }
 },
 "nbformat": 4,
 "nbformat_minor": 5
}
