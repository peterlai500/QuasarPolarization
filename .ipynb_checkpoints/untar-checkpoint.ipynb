{
 "cells": [
  {
   "cell_type": "code",
   "execution_count": 1,
   "id": "f0aea6b7",
   "metadata": {},
   "outputs": [],
   "source": [
    "from QuasarPol_Class import QuasarPol"
   ]
  },
  {
   "cell_type": "code",
   "execution_count": 5,
   "id": "6150e649",
   "metadata": {},
   "outputs": [
    {
     "data": {
      "text/plain": [
       "['J1924-2914\\n', 'M87\\n', 'SgrA*\\n']"
      ]
     },
     "execution_count": 5,
     "metadata": {},
     "output_type": "execute_result"
    }
   ],
   "source": [
    "targets = '/home/pinhsien/Research/QuasarPolarization/target_list.txt'\n",
    "\n",
    "with open(targets, 'r') as file:\n",
    "    target_list = file.readlines()\n",
    "    \n",
    "target_list"
   ]
  }
 ],
 "metadata": {
  "kernelspec": {
   "display_name": "Python 3",
   "language": "python",
   "name": "python3"
  },
  "language_info": {
   "codemirror_mode": {
    "name": "ipython",
    "version": 3
   },
   "file_extension": ".py",
   "mimetype": "text/x-python",
   "name": "python",
   "nbconvert_exporter": "python",
   "pygments_lexer": "ipython3",
   "version": "3.6.13"
  }
 },
 "nbformat": 4,
 "nbformat_minor": 5
}
