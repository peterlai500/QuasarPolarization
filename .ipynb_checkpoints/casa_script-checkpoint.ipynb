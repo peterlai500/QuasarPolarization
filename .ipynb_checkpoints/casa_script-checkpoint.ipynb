{
 "cells": [
  {
   "cell_type": "markdown",
   "id": "c99adae3",
   "metadata": {},
   "source": [
    "# Try to find CASA version\n",
    "\n",
    "Link that contain the compaibility is [here](https://almascience.nrao.edu/processing/science-pipeline)"
   ]
  },
  {
   "cell_type": "code",
   "execution_count": 1,
   "id": "25d895d5",
   "metadata": {},
   "outputs": [],
   "source": [
    "from QuasarPol_Class import QuasarPol"
   ]
  },
  {
   "cell_type": "code",
   "execution_count": 2,
   "id": "b0b823c8",
   "metadata": {},
   "outputs": [],
   "source": [
    "import numpy as np"
   ]
  },
  {
   "cell_type": "code",
   "execution_count": 3,
   "id": "f7b7fde8",
   "metadata": {},
   "outputs": [],
   "source": [
    "from datetime import date, datetime, timedelta"
   ]
  },
  {
   "cell_type": "code",
   "execution_count": null,
   "id": "97687041",
   "metadata": {
    "scrolled": false
   },
   "outputs": [],
   "source": [
    "target = QuasarPol('J1924-2914', False, 'Full', 1000)\n",
    "data_table = target.get_tables()\n",
    "PA_table = target.get_ParaAngle()\n",
    "f_PA = target.filter_data(2, 2.2)"
   ]
  },
  {
   "cell_type": "code",
   "execution_count": 57,
   "id": "7052e32c",
   "metadata": {
    "scrolled": true
   },
   "outputs": [
    {
     "name": "stdout",
     "output_type": "stream",
     "text": [
      "CASA 6.2.1\n",
      "CASA 6.2.1\n",
      "CASA 6.2.1\n",
      "CASA 6.2.1\n",
      "CASA 5.6.1\n",
      "CASA 5.6.1\n",
      "CASA 5.6.1\n",
      "CASA 5.6.1\n",
      "CASA 5.6.1\n",
      "not check yet\n",
      "not check yet\n",
      "not check yet\n",
      "not check yet\n"
     ]
    }
   ],
   "source": [
    "for day in f_PA['Obs_date']:\n",
    "    \n",
    "    [dd, mm, yyyy] = day.split('-')\n",
    "    obs_date = date(int(yyyy), int(mm), int(dd))\n",
    "    if date(2021, 10, 1) < obs_date < date(2022, 9, 26):\n",
    "        print('CASA 6.2.1')\n",
    "    elif date(2021, 5, 10) < obs_date < date(2021, 9, 30):\n",
    "        print('CASA 6.1.1')\n",
    "    elif date(2019, 10, 1) < obs_date < date(2021, 5, 9):\n",
    "        print('CASA 5.6.1')\n",
    "    else:\n",
    "        print('not check yet')"
   ]
  },
  {
   "cell_type": "code",
   "execution_count": 51,
   "id": "ed4fb605",
   "metadata": {},
   "outputs": [
    {
     "data": {
      "text/plain": [
       "datetime.timedelta(1)"
      ]
     },
     "execution_count": 51,
     "metadata": {},
     "output_type": "execute_result"
    }
   ],
   "source": [
    "timedelta(days=1)"
   ]
  },
  {
   "cell_type": "code",
   "execution_count": 55,
   "id": "9495ee8a",
   "metadata": {
    "scrolled": true
   },
   "outputs": [
    {
     "name": "stdout",
     "output_type": "stream",
     "text": [
      "2022-09-27\n"
     ]
    }
   ],
   "source": [
    "print(date(2022, 9, 26) + timedelta(days=1))"
   ]
  },
  {
   "cell_type": "code",
   "execution_count": 5,
   "id": "af5f5f69",
   "metadata": {
    "scrolled": true
   },
   "outputs": [
    {
     "data": {
      "text/html": [
       "<i>QTable length=13</i>\n",
       "<table id=\"table140625133256096-354134\" class=\"table-striped table-bordered table-condensed\">\n",
       "<thead><tr><th>idx</th><th>obs_id</th><th>member_ous_uid</th><th>Obs_date</th><th>Change_PA</th><th>Init_PA</th><th>End_PA</th></tr></thead>\n",
       "<thead><tr><th></th><th></th><th></th><th></th><th>deg</th><th>deg</th><th>deg</th></tr></thead>\n",
       "<tr><td>0</td><td>uid://A001/X1590/X2a76.source.J1924-2914.spw.20</td><td>uid://A001/X1590/X2a76</td><td>10-04-2022</td><td>2.189957255733546</td><td>109.7459299719308</td><td>111.93588722766435</td></tr>\n",
       "<tr><td>1</td><td>uid://A001/X1590/X2a76.source.J1924-2914.spw.24</td><td>uid://A001/X1590/X2a76</td><td>10-04-2022</td><td>2.189957255733546</td><td>109.7459299719308</td><td>111.93588722766435</td></tr>\n",
       "<tr><td>2</td><td>uid://A001/X1590/X2a76.source.J1924-2914.spw.28</td><td>uid://A001/X1590/X2a76</td><td>10-04-2022</td><td>2.189957255733546</td><td>109.7459299719308</td><td>111.93588722766435</td></tr>\n",
       "<tr><td>3</td><td>uid://A001/X1590/X2a76.source.J1924-2914.spw.32</td><td>uid://A001/X1590/X2a76</td><td>10-04-2022</td><td>2.189957255733546</td><td>109.7459299719308</td><td>111.93588722766435</td></tr>\n",
       "<tr><td>4</td><td>uid://A001/X137a/X18.source.J1924-2914.spw.26</td><td>uid://A001/X137a/X18</td><td>04-05-2021</td><td>2.063619934581098</td><td>120.34841968278361</td><td>122.41203961736471</td></tr>\n",
       "<tr><td>5</td><td>uid://A001/X137a/X18.source.J1924-2914.spw.30</td><td>uid://A001/X137a/X18</td><td>04-05-2021</td><td>2.063619934581098</td><td>120.34841968278361</td><td>122.41203961736471</td></tr>\n",
       "<tr><td>6</td><td>uid://A001/X137a/X18.source.J1924-2914.spw.34</td><td>uid://A001/X137a/X18</td><td>04-05-2021</td><td>2.063619934581098</td><td>120.34841968278361</td><td>122.41203961736471</td></tr>\n",
       "<tr><td>7</td><td>uid://A001/X137a/X18.source.J1924-2914.spw.38</td><td>uid://A001/X137a/X18</td><td>04-05-2021</td><td>2.063619934581098</td><td>120.34841968278361</td><td>122.41203961736471</td></tr>\n",
       "<tr><td>8</td><td>uid://A001/X137a/X18.source.J1924-2914.spw.42</td><td>uid://A001/X137a/X18</td><td>04-05-2021</td><td>2.063619934581098</td><td>120.34841968278361</td><td>122.41203961736471</td></tr>\n",
       "<tr><td>9</td><td>uid://A001/X133d/X21a7.source.J1924-2914.spw.18</td><td>uid://A001/X133d/X21a7</td><td>01-11-2018</td><td>2.181720430286802</td><td>-104.0579228854107</td><td>-101.8762024551239</td></tr>\n",
       "<tr><td>10</td><td>uid://A001/X133d/X21a7.source.J1924-2914.spw.14</td><td>uid://A001/X133d/X21a7</td><td>01-11-2018</td><td>2.181720430286802</td><td>-104.0579228854107</td><td>-101.8762024551239</td></tr>\n",
       "<tr><td>11</td><td>uid://A001/X133d/X21a7.source.J1924-2914.spw.22</td><td>uid://A001/X133d/X21a7</td><td>01-11-2018</td><td>2.181720430286802</td><td>-104.0579228854107</td><td>-101.8762024551239</td></tr>\n",
       "<tr><td>12</td><td>uid://A001/X133d/X21a7.source.J1924-2914.spw.26</td><td>uid://A001/X133d/X21a7</td><td>01-11-2018</td><td>2.181720430286802</td><td>-104.0579228854107</td><td>-101.8762024551239</td></tr>\n",
       "</table><style>table.dataTable {clear: both; width: auto !important; margin: 0 !important;}\n",
       ".dataTables_info, .dataTables_length, .dataTables_filter, .dataTables_paginate{\n",
       "display: inline-block; margin-right: 1em; }\n",
       ".paginate_button { margin-right: 5px; }\n",
       "</style>\n",
       "<script>\n",
       "\n",
       "var astropy_sort_num = function(a, b) {\n",
       "    var a_num = parseFloat(a);\n",
       "    var b_num = parseFloat(b);\n",
       "\n",
       "    if (isNaN(a_num) && isNaN(b_num))\n",
       "        return ((a < b) ? -1 : ((a > b) ? 1 : 0));\n",
       "    else if (!isNaN(a_num) && !isNaN(b_num))\n",
       "        return ((a_num < b_num) ? -1 : ((a_num > b_num) ? 1 : 0));\n",
       "    else\n",
       "        return isNaN(a_num) ? -1 : 1;\n",
       "}\n",
       "\n",
       "require.config({paths: {\n",
       "    datatables: 'https://cdn.datatables.net/1.10.12/js/jquery.dataTables.min'\n",
       "}});\n",
       "require([\"datatables\"], function(){\n",
       "    console.log(\"$('#table140625133256096-354134').dataTable()\");\n",
       "    \n",
       "jQuery.extend( jQuery.fn.dataTableExt.oSort, {\n",
       "    \"optionalnum-asc\": astropy_sort_num,\n",
       "    \"optionalnum-desc\": function (a,b) { return -astropy_sort_num(a, b); }\n",
       "});\n",
       "\n",
       "    $('#table140625133256096-354134').dataTable({\n",
       "        order: [],\n",
       "        pageLength: 50,\n",
       "        lengthMenu: [[10, 25, 50, 100, 500, 1000, -1], [10, 25, 50, 100, 500, 1000, 'All']],\n",
       "        pagingType: \"full_numbers\",\n",
       "        columnDefs: [{targets: [0, 4, 5, 6], type: \"optionalnum\"}]\n",
       "    });\n",
       "});\n",
       "</script>\n"
      ],
      "text/plain": [
       "<IPython.core.display.HTML object>"
      ]
     },
     "execution_count": 5,
     "metadata": {},
     "output_type": "execute_result"
    }
   ],
   "source": [
    "f_PA.show_in_notebook()"
   ]
  }
 ],
 "metadata": {
  "kernelspec": {
   "display_name": "Python 3",
   "language": "python",
   "name": "python3"
  },
  "language_info": {
   "codemirror_mode": {
    "name": "ipython",
    "version": 3
   },
   "file_extension": ".py",
   "mimetype": "text/x-python",
   "name": "python",
   "nbconvert_exporter": "python",
   "pygments_lexer": "ipython3",
   "version": "3.6.13"
  }
 },
 "nbformat": 4,
 "nbformat_minor": 5
}
