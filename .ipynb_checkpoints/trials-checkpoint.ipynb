{
 "cells": [
  {
   "cell_type": "code",
   "execution_count": 1,
   "id": "e164e970-fb10-4ee6-9d50-6db314c87268",
   "metadata": {},
   "outputs": [],
   "source": [
    "from QuasarPol_Class import QuasarPol\n",
    "\n",
    "from astropy import units as u\n",
    "from astropy.table import Table\n",
    "from astropy.time import Time\n",
    "from astropy.coordinates import Angle, SkyCoord\n",
    "\n",
    "from astroplan import Observer\n",
    "\n",
    "import os\n",
    "from datetime import date, datetime\n",
    "import numpy as np"
   ]
  },
  {
   "cell_type": "code",
   "execution_count": 2,
   "id": "070046ef-7013-4fef-9909-ea1f5583d97e",
   "metadata": {},
   "outputs": [],
   "source": [
    "target = 'J1924-2914'\n",
    "calibration = False\n",
    "polarization = 'Dual'\n",
    "data_length = 200000"
   ]
  },
  {
   "cell_type": "code",
   "execution_count": 3,
   "id": "c39c2b48-68b5-45ff-b7e7-473d2d7e017b",
   "metadata": {},
   "outputs": [],
   "source": [
    "result = QuasarPol(target, calibration, polarization, data_length)"
   ]
  },
  {
   "cell_type": "code",
   "execution_count": 4,
   "id": "50c7f610-c289-4b29-a354-142c30c15240",
   "metadata": {},
   "outputs": [],
   "source": [
    "ALMA_table = result.get_tables(legacy_columns=True)"
   ]
  },
  {
   "cell_type": "code",
   "execution_count": 5,
   "id": "248091f7-44f0-4252-9958-cddfe08643d1",
   "metadata": {},
   "outputs": [],
   "source": [
    "ObsCore_table = result.get_tables()"
   ]
  },
  {
   "cell_type": "code",
   "execution_count": 13,
   "id": "5aeca204-df39-444d-869c-15e659632af1",
   "metadata": {},
   "outputs": [
    {
     "name": "stdout",
     "output_type": "stream",
     "text": [
      "59834.002882\n",
      "59837.942405\n",
      "<SkyCoord (ICRS): (ra, dec) in deg\n",
      "    (291.21273315, -29.24170029)>\n",
      "<Observer: name='ALMA',\n",
      "    location (lon, lat, el)=(-67.755 deg, -23.029000000000003 deg, 5000.00000000001 m),\n",
      "    timezone=<UTC>>\n",
      "2022-09-12 00:04:09.005000\n",
      "2022-09-15 22:37:03.792000\n"
     ]
    }
   ],
   "source": [
    "ALMA_location = Observer.at_site('ALMA')\n",
    "\n",
    "Ra = ALMA_table['RA'][1]\n",
    "Dec = ALMA_table['Dec'][1]\n",
    "date = ALMA_table['Observation date'][1]\n",
    "\n",
    "start_time = ObsCore_table['t_min'][1]\n",
    "print(start_time)\n",
    "duration_time = ObsCore_table['t_exptime'][1]\n",
    "end_time = ObsCore_table['t_max'][1]\n",
    "print(end_time)\n",
    "\n",
    "target_coord = SkyCoord(ra=Ra*u.deg, dec=Dec*u.deg)\n",
    "\n",
    "print(target_coord)\n",
    "print(ALMA_location)\n",
    "\n",
    "start_time = Time(start_time, format='mjd').utc.iso\n",
    "start_time = datetime.fromisoformat(start_time)\n",
    "# start_time = datetime(start_time, scale='utc')\n",
    "print(start_time)\n",
    "end_time = Time(end_time, format='mjd').utc.iso\n",
    "end_time = datetime.fromisoformat(end_time)\n",
    "print(end_time)\n",
    "\n",
    "init_PA = ALMA_location.parallactic_angle(start_time, target_coord)\n",
    "end_PA = ALMA_location.parallactic_angle(end_time, target_coord)"
   ]
  }
 ],
 "metadata": {
  "kernelspec": {
   "display_name": "Python 3 (ipykernel)",
   "language": "python",
   "name": "python3"
  },
  "language_info": {
   "codemirror_mode": {
    "name": "ipython",
    "version": 3
   },
   "file_extension": ".py",
   "mimetype": "text/x-python",
   "name": "python",
   "nbconvert_exporter": "python",
   "pygments_lexer": "ipython3",
   "version": "3.8.13"
  }
 },
 "nbformat": 4,
 "nbformat_minor": 5
}
