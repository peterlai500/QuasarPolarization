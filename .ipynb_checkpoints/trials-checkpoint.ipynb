{
 "cells": [
  {
   "cell_type": "code",
   "execution_count": 1,
   "id": "e164e970-fb10-4ee6-9d50-6db314c87268",
   "metadata": {},
   "outputs": [],
   "source": [
    "from QuasarPol_Class import QuasarPol\n",
    "\n",
    "from astropy import units as u\n",
    "from astropy.table import Table\n",
    "from astropy.time import Time\n",
    "from astropy.coordinates import Angle, SkyCoord\n",
    "\n",
    "from astroplan import Observer\n",
    "\n",
    "import os\n",
    "from datetime import date, datetime\n",
    "import numpy as np\n",
    "\n",
    "from astroquery.alma import Alma\n",
    "alma=Alma()\n",
    "import os\n",
    "import subprocess\n",
    "import xml.etree.ElementTree as ET"
   ]
  },
  {
   "cell_type": "code",
   "execution_count": 2,
   "id": "070046ef-7013-4fef-9909-ea1f5583d97e",
   "metadata": {},
   "outputs": [],
   "source": [
    "target = 'J1924-2914'\n",
    "calibration = False\n",
    "polarization = 'Dual'\n",
    "data_length = 200000"
   ]
  },
  {
   "cell_type": "code",
   "execution_count": 3,
   "id": "96c6c3fb-3e29-49a5-b299-fd73716d9d4c",
   "metadata": {},
   "outputs": [],
   "source": [
    "result = QuasarPol(target, calibration, polarization, data_length)"
   ]
  },
  {
   "cell_type": "code",
   "execution_count": 4,
   "id": "4d8908d1-a55a-442e-ad87-26ec39b1ca0d",
   "metadata": {},
   "outputs": [],
   "source": [
    "t = result.get_ParaAngle()"
   ]
  },
  {
   "cell_type": "code",
   "execution_count": 14,
   "id": "3b32e67d-81ab-425f-a942-9cbcf75373da",
   "metadata": {},
   "outputs": [],
   "source": [
    "f_PA = result.filter_data(\"27-09-2022\", \"30-09-2023\", -1, 1)"
   ]
  },
  {
   "cell_type": "code",
   "execution_count": 12,
   "id": "07c000df-c0e6-438f-93d7-2dc0646d1b93",
   "metadata": {},
   "outputs": [],
   "source": [
    "f_PA.show_in_browser()"
   ]
  },
  {
   "cell_type": "code",
   "execution_count": 15,
   "id": "2ffaf685-7bc1-4baf-9bcd-20d284f867a0",
   "metadata": {},
   "outputs": [
    {
     "data": {
      "text/plain": [
       "5"
      ]
     },
     "execution_count": 15,
     "metadata": {},
     "output_type": "execute_result"
    }
   ],
   "source": [
    "len(np.unique(f_PA))"
   ]
  },
  {
   "cell_type": "code",
   "execution_count": 16,
   "id": "b4a3caa8-d8d8-4f22-a40a-b661f5d7169a",
   "metadata": {},
   "outputs": [
    {
     "data": {
      "text/html": [
       "<div><i>QTable length=20</i>\n",
       "<table id=\"table139655392534240\" class=\"table-striped table-bordered table-condensed\">\n",
       "<thead><tr><th>proposal_id</th><th>group_ous_uid</th><th>member_ous_uid</th><th>Obs_date</th><th>End_date</th><th>Change_PA</th><th>Init_PA</th><th>End_PA</th></tr></thead>\n",
       "<thead><tr><th></th><th></th><th></th><th></th><th></th><th>deg</th><th>deg</th><th>deg</th></tr></thead>\n",
       "<thead><tr><th>str14</th><th>str22</th><th>str22</th><th>str10</th><th>str10</th><th>float64</th><th>float64</th><th>float64</th></tr></thead>\n",
       "<tr><td>2022.1.01182.T</td><td>uid://A001/X335d/X2ee</td><td>uid://A001/X335d/X2ef</td><td>08-10-2022</td><td>08-10-2022</td><td>0.8434475145792675</td><td>83.47866352122554</td><td>84.32211103580481</td></tr>\n",
       "<tr><td>2022.1.01182.T</td><td>uid://A001/X335d/X2ee</td><td>uid://A001/X335d/X2ef</td><td>08-10-2022</td><td>08-10-2022</td><td>0.8434475145792675</td><td>83.47866352122554</td><td>84.32211103580481</td></tr>\n",
       "<tr><td>2022.1.01182.T</td><td>uid://A001/X335d/X2ee</td><td>uid://A001/X335d/X2ef</td><td>08-10-2022</td><td>08-10-2022</td><td>0.8434475145792675</td><td>83.47866352122554</td><td>84.32211103580481</td></tr>\n",
       "<tr><td>2022.1.01182.T</td><td>uid://A001/X335d/X2ee</td><td>uid://A001/X335d/X2ef</td><td>08-10-2022</td><td>08-10-2022</td><td>0.8434475145792675</td><td>83.47866352122554</td><td>84.32211103580481</td></tr>\n",
       "<tr><td>2022.1.01182.T</td><td>uid://A001/X335d/X2eb</td><td>uid://A001/X335d/X2ec</td><td>05-10-2022</td><td>05-10-2022</td><td>0.9194489623515238</td><td>81.99863280001716</td><td>82.91808176236869</td></tr>\n",
       "<tr><td>2022.1.01182.T</td><td>uid://A001/X335d/X2eb</td><td>uid://A001/X335d/X2ec</td><td>05-10-2022</td><td>05-10-2022</td><td>0.9194489623515238</td><td>81.99863280001716</td><td>82.91808176236869</td></tr>\n",
       "<tr><td>...</td><td>...</td><td>...</td><td>...</td><td>...</td><td>...</td><td>...</td><td>...</td></tr>\n",
       "<tr><td>2022.1.00014.S</td><td>uid://A001/X2d20/X3ee4</td><td>uid://A001/X2d20/X3ee5</td><td>07-10-2022</td><td>07-10-2022</td><td>0.82828059474339</td><td>-84.62510108815754</td><td>-83.79682049341415</td></tr>\n",
       "<tr><td>2022.1.00014.S</td><td>uid://A001/X2d20/X3ee4</td><td>uid://A001/X2d20/X3ee5</td><td>07-10-2022</td><td>07-10-2022</td><td>0.82828059474339</td><td>-84.62510108815754</td><td>-83.79682049341415</td></tr>\n",
       "<tr><td>2022.1.00014.S</td><td>uid://A001/X2d20/X3ec7</td><td>uid://A001/X2d20/X3ec8</td><td>04-10-2022</td><td>04-10-2022</td><td>0.9110920071597377</td><td>-83.06422509233559</td><td>-82.15313308517585</td></tr>\n",
       "<tr><td>2022.1.00014.S</td><td>uid://A001/X2d20/X3ec7</td><td>uid://A001/X2d20/X3ec8</td><td>04-10-2022</td><td>04-10-2022</td><td>0.9110920071597377</td><td>-83.06422509233559</td><td>-82.15313308517585</td></tr>\n",
       "<tr><td>2022.1.00014.S</td><td>uid://A001/X2d20/X3ec7</td><td>uid://A001/X2d20/X3ec8</td><td>04-10-2022</td><td>04-10-2022</td><td>0.9110920071597377</td><td>-83.06422509233559</td><td>-82.15313308517585</td></tr>\n",
       "<tr><td>2022.1.00014.S</td><td>uid://A001/X2d20/X3ec7</td><td>uid://A001/X2d20/X3ec8</td><td>04-10-2022</td><td>04-10-2022</td><td>0.9110920071597377</td><td>-83.06422509233559</td><td>-82.15313308517585</td></tr>\n",
       "</table></div>"
      ],
      "text/plain": [
       "<QTable length=20>\n",
       " proposal_id       group_ous_uid      ...      Init_PA             End_PA      \n",
       "                                      ...        deg                deg        \n",
       "    str14              str22          ...      float64            float64      \n",
       "-------------- ---------------------- ... ------------------ ------------------\n",
       "2022.1.01182.T  uid://A001/X335d/X2ee ...  83.47866352122554  84.32211103580481\n",
       "2022.1.01182.T  uid://A001/X335d/X2ee ...  83.47866352122554  84.32211103580481\n",
       "2022.1.01182.T  uid://A001/X335d/X2ee ...  83.47866352122554  84.32211103580481\n",
       "2022.1.01182.T  uid://A001/X335d/X2ee ...  83.47866352122554  84.32211103580481\n",
       "2022.1.01182.T  uid://A001/X335d/X2eb ...  81.99863280001716  82.91808176236869\n",
       "2022.1.01182.T  uid://A001/X335d/X2eb ...  81.99863280001716  82.91808176236869\n",
       "           ...                    ... ...                ...                ...\n",
       "2022.1.00014.S uid://A001/X2d20/X3ee4 ... -84.62510108815754 -83.79682049341415\n",
       "2022.1.00014.S uid://A001/X2d20/X3ee4 ... -84.62510108815754 -83.79682049341415\n",
       "2022.1.00014.S uid://A001/X2d20/X3ec7 ... -83.06422509233559 -82.15313308517585\n",
       "2022.1.00014.S uid://A001/X2d20/X3ec7 ... -83.06422509233559 -82.15313308517585\n",
       "2022.1.00014.S uid://A001/X2d20/X3ec7 ... -83.06422509233559 -82.15313308517585\n",
       "2022.1.00014.S uid://A001/X2d20/X3ec7 ... -83.06422509233559 -82.15313308517585"
      ]
     },
     "execution_count": 16,
     "metadata": {},
     "output_type": "execute_result"
    }
   ],
   "source": [
    "f_PA"
   ]
  },
  {
   "cell_type": "code",
   "execution_count": null,
   "id": "5d1c2b5e-7591-4b23-b950-204789d033d2",
   "metadata": {},
   "outputs": [],
   "source": []
  }
 ],
 "metadata": {
  "kernelspec": {
   "display_name": "Python 3 (ipykernel)",
   "language": "python",
   "name": "python3"
  },
  "language_info": {
   "codemirror_mode": {
    "name": "ipython",
    "version": 3
   },
   "file_extension": ".py",
   "mimetype": "text/x-python",
   "name": "python",
   "nbconvert_exporter": "python",
   "pygments_lexer": "ipython3",
   "version": "3.8.18"
  }
 },
 "nbformat": 4,
 "nbformat_minor": 5
}
