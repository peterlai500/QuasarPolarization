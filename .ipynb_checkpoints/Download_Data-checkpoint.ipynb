{
 "cells": [
  {
   "cell_type": "code",
   "execution_count": 2,
   "id": "0ae8baa0",
   "metadata": {},
   "outputs": [],
   "source": [
    "from astroquery.alma import Alma\n",
    "alma=Alma()\n",
    "\n",
    "from astropy import units as u\n",
    "from astropy.coordinates import Angle, SkyCoord\n",
    "from astropy.table import QTable\n",
    "from astropy.time import Time\n",
    "from astropy.io import fits\n",
    "\n",
    "from astroplan import Observer\n",
    "\n",
    "import numpy as np"
   ]
  },
  {
   "cell_type": "code",
   "execution_count": 3,
   "id": "61bb0435",
   "metadata": {},
   "outputs": [],
   "source": [
    "# use ALMA query documents as template"
   ]
  },
  {
   "cell_type": "code",
   "execution_count": 4,
   "id": "50704761",
   "metadata": {},
   "outputs": [],
   "source": [
    "source = 'J1924-2914'\n",
    "baobab = 'Hauyu Baobob Liu'\n",
    "bib= '2016A&A...593A.107L'"
   ]
  },
  {
   "cell_type": "code",
   "execution_count": 40,
   "id": "52f2aad0",
   "metadata": {},
   "outputs": [
    {
     "name": "stderr",
     "output_type": "stream",
     "text": [
      "/home/Peter/Softwares/anaconda3/envs/DataQuery/lib/python3.10/site-packages/pyvo/dal/query.py:324: DALOverflowWarning: Partial result set. Potential causes MAXREC, async storage space, etc.\n",
      "  warn(\"Partial result set. Potential causes MAXREC, async storage space, etc.\",\n"
     ]
    }
   ],
   "source": [
    "J1924_data = alma.query({'source_name_alma':'J1924-2914'},\n",
    "                        science=False,\n",
    "                        maxrec=5)\n"
   ]
  },
  {
   "cell_type": "code",
   "execution_count": null,
   "id": "af19e8d9",
   "metadata": {},
   "outputs": [],
   "source": [
    "uids = np.unique(J1924_data['member_ous_uid'])"
   ]
  },
  {
   "cell_type": "code",
   "execution_count": 31,
   "id": "85b448cb",
   "metadata": {},
   "outputs": [
    {
     "name": "stdout",
     "output_type": "stream",
     "text": [
      "/home/Peter/Research/download_trial/cache\n",
      "INFO: Found cached file /home/Peter/Research/download_trial/cache/member.uid___A001_X122_X419.README.txt with expected size 3608. [astroquery.query]\n",
      "INFO: Found cached file /home/Peter/Research/download_trial/cache/2013.1.00126.S_uid___A001_X122_X419_001_of_001.tar with expected size 372071424. [astroquery.query]\n",
      "Downloading URL https://almascience.nao.ac.jp/dataPortal/2013.1.00126.S_uid___A001_X122_X419_auxiliary.tar to /home/Peter/Research/download_trial/cache/2013.1.00126.S_uid___A001_X122_X419_auxiliary.tar ... [Done]\n",
      "Downloading URL https://almascience.nao.ac.jp/dataPortal/2013.1.00126.S_uid___A002_X87b480_X780.asdm.sdm.tar to /home/Peter/Research/download_trial/cache/2013.1.00126.S_uid___A002_X87b480_X780.asdm.sdm.tar ... [Done]\n",
      "Downloading URL https://almascience.nao.ac.jp/dataPortal/2013.1.00126.S_uid___A002_Xb6e0b3_X2f0.asdm.sdm.tar to /home/Peter/Research/download_trial/cache/2013.1.00126.S_uid___A002_Xb6e0b3_X2f0.asdm.sdm.tar ... [Done]\n",
      "Downloading URL https://almascience.nao.ac.jp/dataPortal/uid___A002_X87b480_X4ef to /home/Peter/Research/download_trial/cache/uid___A002_X87b480_X4ef.asdm.sdm.tar ... [Done]\n",
      "Downloading URL https://almascience.nao.ac.jp/dataPortal/uid___A002_Xa342f2_X2b55 to /home/Peter/Research/download_trial/cache/uid___A002_Xa342f2_X2b55.asdm.sdm.tar ... [Done]\n",
      "Downloading URL https://almascience.nao.ac.jp/dataPortal/uid___A002_Xa7f13b_X6eb to /home/Peter/Research/download_trial/cache/uid___A002_Xa7f13b_X6eb.asdm.sdm.tar ... [Done]\n"
     ]
    }
   ],
   "source": [
    "# Get data info\n",
    "data_info = alma.get_data_info('uid://A001/X122/X419')\n",
    "\n",
    "# Extract the URLs from the data_info table\n",
    "link_list = [row['access_url'] for row in data_info if row['access_url']]\n",
    "\n",
    "alma.cache_location = '/home/Peter/Research/download_trial/cache'\n",
    "print(alma.cache_location)\n",
    "\n",
    "# Download files if there are valid URLs\n",
    "if link_list:\n",
    "    alma.download_files(link_list)\n",
    "else:\n",
    "    print(\"No valid URLs found for download.\")"
   ]
  }
 ],
 "metadata": {
  "kernelspec": {
   "display_name": "Python 3 (ipykernel)",
   "language": "python",
   "name": "python3"
  },
  "language_info": {
   "codemirror_mode": {
    "name": "ipython",
    "version": 3
   },
   "file_extension": ".py",
   "mimetype": "text/x-python",
   "name": "python",
   "nbconvert_exporter": "python",
   "pygments_lexer": "ipython3",
   "version": "3.9.17"
  }
 },
 "nbformat": 4,
 "nbformat_minor": 5
}
