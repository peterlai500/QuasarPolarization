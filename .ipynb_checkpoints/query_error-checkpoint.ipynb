{
 "cells": [
  {
   "cell_type": "code",
   "execution_count": 1,
   "id": "27ded8be",
   "metadata": {},
   "outputs": [],
   "source": [
    "from QuasarPol_Class import QuasarPol\n",
    "\n",
    "from astroquery.alma import Alma\n",
    "alma = Alma()"
   ]
  },
  {
   "cell_type": "code",
   "execution_count": 2,
   "id": "db9f9eaf",
   "metadata": {},
   "outputs": [
    {
     "data": {
      "text/plain": [
       "20"
      ]
     },
     "execution_count": 2,
     "metadata": {},
     "output_type": "execute_result"
    }
   ],
   "source": [
    "with open('target_list.txt', 'r') as file:\n",
    "    targets = file.readlines()\n",
    "len(targets)"
   ]
  },
  {
   "cell_type": "code",
   "execution_count": 4,
   "id": "637ba101-26ec-4d0b-b94e-0994e4a10a6f",
   "metadata": {
    "scrolled": true
   },
   "outputs": [
    {
     "name": "stdout",
     "output_type": "stream",
     "text": [
      "DALQueryError\n",
      "DALQueryError\n"
     ]
    },
    {
     "ename": "TypeError",
     "evalue": "list indices must be integers or slices, not str",
     "output_type": "error",
     "traceback": [
      "\u001b[0;31m---------------------------------------------------------------------------\u001b[0m",
      "\u001b[0;31mTypeError\u001b[0m                                 Traceback (most recent call last)",
      "Cell \u001b[0;32mIn[4], line 4\u001b[0m\n\u001b[1;32m      2\u001b[0m target \u001b[38;5;241m=\u001b[39m target\u001b[38;5;241m.\u001b[39mstrip()\n\u001b[1;32m      3\u001b[0m result \u001b[38;5;241m=\u001b[39m QuasarPol(target, \u001b[38;5;28;01mFalse\u001b[39;00m, \u001b[38;5;124m'\u001b[39m\u001b[38;5;124mDual\u001b[39m\u001b[38;5;124m'\u001b[39m, \u001b[38;5;241m750\u001b[39m)\n\u001b[0;32m----> 4\u001b[0m PA_table \u001b[38;5;241m=\u001b[39m \u001b[43mresult\u001b[49m\u001b[38;5;241;43m.\u001b[39;49m\u001b[43mfilter_data\u001b[49m\u001b[43m(\u001b[49m\u001b[38;5;241;43m10\u001b[39;49m\u001b[43m,\u001b[49m\u001b[43m \u001b[49m\u001b[38;5;241;43m20\u001b[39;49m\u001b[43m)\u001b[49m\n\u001b[1;32m      6\u001b[0m \u001b[38;5;28mprint\u001b[39m(\u001b[38;5;124mf\u001b[39m\u001b[38;5;124m\"\u001b[39m\u001b[38;5;132;01m{\u001b[39;00mtarget\u001b[38;5;132;01m}\u001b[39;00m\u001b[38;5;124m : \u001b[39m\u001b[38;5;132;01m{\u001b[39;00m\u001b[38;5;28mlen\u001b[39m(PA_table)\u001b[38;5;132;01m}\u001b[39;00m\u001b[38;5;124m\"\u001b[39m)\n",
      "File \u001b[0;32m~/Research/QuasarPolarization/QuasarPol_Class.py:197\u001b[0m, in \u001b[0;36mQuasarPol.filter_data\u001b[0;34m(self, min_change_in_PA, Max)\u001b[0m\n\u001b[1;32m    194\u001b[0m \u001b[38;5;28mself\u001b[39m\u001b[38;5;241m.\u001b[39mmin_PA \u001b[38;5;241m=\u001b[39m min_change_in_PA\n\u001b[1;32m    195\u001b[0m \u001b[38;5;28mself\u001b[39m\u001b[38;5;241m.\u001b[39mmax_PA \u001b[38;5;241m=\u001b[39m Max\n\u001b[0;32m--> 197\u001b[0m ParaAngle \u001b[38;5;241m=\u001b[39m \u001b[38;5;28;43mself\u001b[39;49m\u001b[38;5;241;43m.\u001b[39;49m\u001b[43mget_ParaAngle\u001b[49m\u001b[43m(\u001b[49m\u001b[43m)\u001b[49m\n\u001b[1;32m    199\u001b[0m obs_id \u001b[38;5;241m=\u001b[39m []\n\u001b[1;32m    200\u001b[0m member_id \u001b[38;5;241m=\u001b[39m []\n",
      "File \u001b[0;32m~/Research/QuasarPolarization/QuasarPol_Class.py:118\u001b[0m, in \u001b[0;36mQuasarPol.get_ParaAngle\u001b[0;34m(self)\u001b[0m\n\u001b[1;32m    116\u001b[0m End_PA \u001b[38;5;241m=\u001b[39m []\n\u001b[1;32m    117\u001b[0m Delta_PA \u001b[38;5;241m=\u001b[39m []\n\u001b[0;32m--> 118\u001b[0m Obs_ids \u001b[38;5;241m=\u001b[39m \u001b[43mObsCore_table\u001b[49m\u001b[43m[\u001b[49m\u001b[38;5;124;43m'\u001b[39;49m\u001b[38;5;124;43mobs_id\u001b[39;49m\u001b[38;5;124;43m'\u001b[39;49m\u001b[43m]\u001b[49m[\u001b[38;5;241m0\u001b[39m:]\n\u001b[1;32m    119\u001b[0m Uids \u001b[38;5;241m=\u001b[39m ObsCore_table[\u001b[38;5;124m'\u001b[39m\u001b[38;5;124mmember_ous_uid\u001b[39m\u001b[38;5;124m'\u001b[39m]\n\u001b[1;32m    120\u001b[0m Obs_date \u001b[38;5;241m=\u001b[39m ALMA_table[\u001b[38;5;124m'\u001b[39m\u001b[38;5;124mObservation date\u001b[39m\u001b[38;5;124m'\u001b[39m]\n",
      "\u001b[0;31mTypeError\u001b[0m: list indices must be integers or slices, not str"
     ]
    }
   ],
   "source": [
    "for target in targets:\n",
    "    target = target.strip()\n",
    "    result = QuasarPol(target, False, 'Dual', 750)\n",
    "    PA_table = result.filter_data(10, 20)\n",
    "    \n",
    "    print(f\"{target} : {len(PA_table)}\")"
   ]
  },
  {
   "cell_type": "code",
   "execution_count": null,
   "id": "b02fdf6d-561c-4c1c-a0e5-8db166c6d35f",
   "metadata": {},
   "outputs": [],
   "source": []
  }
 ],
 "metadata": {
  "kernelspec": {
   "display_name": "Python 3 (ipykernel)",
   "language": "python",
   "name": "python3"
  },
  "language_info": {
   "codemirror_mode": {
    "name": "ipython",
    "version": 3
   },
   "file_extension": ".py",
   "mimetype": "text/x-python",
   "name": "python",
   "nbconvert_exporter": "python",
   "pygments_lexer": "ipython3",
   "version": "3.8.13"
  }
 },
 "nbformat": 4,
 "nbformat_minor": 5
}
