{
 "cells": [
  {
   "cell_type": "code",
   "execution_count": 1,
   "id": "d299a8b3-5b72-474a-8928-85dd5778d64e",
   "metadata": {},
   "outputs": [],
   "source": [
    "from QuasarPol_Class import QuasarPol"
   ]
  },
  {
   "cell_type": "code",
   "execution_count": 2,
   "id": "ce4219c9-bd09-4a41-a0f7-022c365b2561",
   "metadata": {},
   "outputs": [],
   "source": [
    "target = 'J2253+1608'\n",
    "calibration = False\n",
    "polarization = 'Dual'\n",
    "data_length = 5000"
   ]
  },
  {
   "cell_type": "code",
   "execution_count": 3,
   "id": "767dbf82-1cba-4264-ae22-199d48045e99",
   "metadata": {},
   "outputs": [],
   "source": [
    "result = QuasarPol(target, calibration, polarization, data_length)"
   ]
  },
  {
   "cell_type": "code",
   "execution_count": 4,
   "id": "a9731b51-114c-4aaf-8b9c-78a042898187",
   "metadata": {},
   "outputs": [],
   "source": [
    "data = result.get_tables()"
   ]
  },
  {
   "cell_type": "code",
   "execution_count": 5,
   "id": "877e1a93-c615-4b10-bead-5801c08efe91",
   "metadata": {},
   "outputs": [
    {
     "name": "stdout",
     "output_type": "stream",
     "text": [
      "59542.949849 16 32 22.949848999996902\n"
     ]
    },
    {
     "data": {
      "text/plain": [
       "str"
      ]
     },
     "execution_count": 5,
     "metadata": {},
     "output_type": "execute_result"
    }
   ],
   "source": [
    "from astropy.time import Time\n",
    "start = data['t_min'][1]\n",
    "ALMA = result.get_tables(legacy_columns=True)\n",
    "date = ALMA['Observation date'][1]\n",
    "[day, month, year] = date.split('-')\n",
    "\n",
    "hour = int(start / 3600)\n",
    "minute = int((start % 3600) / 60)\n",
    "second = start % 3600 - minute * 60\n",
    "print(start, hour, minute, second)\n",
    "date = Time({'year': int(year), 'month': int(month) , 'day': int(day),\n",
    "             'hour': hour, 'minute': minute, 'second': second},\n",
    "            sc"
   ]
  },
  {
   "cell_type": "code",
   "execution_count": 6,
   "id": "a4ceea50-975b-4c85-9bc2-760a12750c2e",
   "metadata": {},
   "outputs": [
    {
     "name": "stdout",
     "output_type": "stream",
     "text": [
      "J2253+1608: 3549 data\n"
     ]
    }
   ],
   "source": [
    "print(f\"{target}: {len(data)} data\")"
   ]
  },
  {
   "cell_type": "code",
   "execution_count": 7,
   "id": "c6bec667-6d51-4a58-9d56-f9f8c0e83c88",
   "metadata": {
    "scrolled": true
   },
   "outputs": [
    {
     "ename": "ValueError",
     "evalue": "Input values did not match any of the formats where the format keyword is optional: {'datetime': TypeError('Input values for datetime class must be datetime objects'), 'ymdhms': ErfaError('ERFA function \"dtf2d\" yielded 1 of \"bad hour\"'), 'iso': TypeError('Input values for iso class must be strings'), 'isot': TypeError('Input values for isot class must be strings'), 'yday': TypeError('Input values for yday class must be strings'), 'datetime64': TypeError('Input values for datetime64 class must be datetime64 objects'), 'fits': TypeError('Input values for fits class must be strings'), 'byear_str': TypeError('Input values for byear_str class must be strings'), 'jyear_str': TypeError('Input values for jyear_str class must be strings'), 'astropy_time': TypeError('Input values for astropy_time class must all be the same astropy Time type.')}",
     "output_type": "error",
     "traceback": [
      "\u001b[0;31m---------------------------------------------------------------------------\u001b[0m",
      "\u001b[0;31mTypeError\u001b[0m                                 Traceback (most recent call last)",
      "File \u001b[0;32m~/Softwares/Anaconda/anaconda3/envs/Quasarpol/lib/python3.8/site-packages/astropy/time/core.py:599\u001b[0m, in \u001b[0;36mTimeBase._get_time_fmt\u001b[0;34m(self, val, val2, format, scale, precision, in_subfmt, out_subfmt)\u001b[0m\n\u001b[1;32m    598\u001b[0m \u001b[38;5;28;01mtry\u001b[39;00m:\n\u001b[0;32m--> 599\u001b[0m     \u001b[38;5;28;01mreturn\u001b[39;00m \u001b[38;5;28;43mcls\u001b[39;49m\u001b[43m(\u001b[49m\u001b[43mval\u001b[49m\u001b[43m,\u001b[49m\u001b[43m \u001b[49m\u001b[43mval2\u001b[49m\u001b[43m,\u001b[49m\u001b[43m \u001b[49m\u001b[43mscale\u001b[49m\u001b[43m,\u001b[49m\u001b[43m \u001b[49m\u001b[43mprecision\u001b[49m\u001b[43m,\u001b[49m\u001b[43m \u001b[49m\u001b[43min_subfmt\u001b[49m\u001b[43m,\u001b[49m\u001b[43m \u001b[49m\u001b[43mout_subfmt\u001b[49m\u001b[43m)\u001b[49m\n\u001b[1;32m    600\u001b[0m \u001b[38;5;28;01mexcept\u001b[39;00m UnitConversionError:\n",
      "File \u001b[0;32m~/Softwares/Anaconda/anaconda3/envs/Quasarpol/lib/python3.8/site-packages/astropy/time/formats.py:152\u001b[0m, in \u001b[0;36mTimeFormat.__init__\u001b[0;34m(self, val1, val2, scale, precision, in_subfmt, out_subfmt, from_jd)\u001b[0m\n\u001b[1;32m    151\u001b[0m \u001b[38;5;28;01melse\u001b[39;00m:\n\u001b[0;32m--> 152\u001b[0m     val1, val2 \u001b[38;5;241m=\u001b[39m \u001b[38;5;28;43mself\u001b[39;49m\u001b[38;5;241;43m.\u001b[39;49m\u001b[43m_check_val_type\u001b[49m\u001b[43m(\u001b[49m\u001b[43mval1\u001b[49m\u001b[43m,\u001b[49m\u001b[43m \u001b[49m\u001b[43mval2\u001b[49m\u001b[43m)\u001b[49m\n\u001b[1;32m    153\u001b[0m     \u001b[38;5;28mself\u001b[39m\u001b[38;5;241m.\u001b[39mset_jds(val1, val2)\n",
      "File \u001b[0;32m~/Softwares/Anaconda/anaconda3/envs/Quasarpol/lib/python3.8/site-packages/astropy/time/formats.py:1026\u001b[0m, in \u001b[0;36mTimeDatetime._check_val_type\u001b[0;34m(self, val1, val2)\u001b[0m\n\u001b[1;32m   1025\u001b[0m \u001b[38;5;28;01mif\u001b[39;00m \u001b[38;5;129;01mnot\u001b[39;00m \u001b[38;5;28mall\u001b[39m(\u001b[38;5;28misinstance\u001b[39m(val, datetime\u001b[38;5;241m.\u001b[39mdatetime) \u001b[38;5;28;01mfor\u001b[39;00m val \u001b[38;5;129;01min\u001b[39;00m val1\u001b[38;5;241m.\u001b[39mflat):\n\u001b[0;32m-> 1026\u001b[0m     \u001b[38;5;28;01mraise\u001b[39;00m \u001b[38;5;167;01mTypeError\u001b[39;00m(\n\u001b[1;32m   1027\u001b[0m         \u001b[38;5;124mf\u001b[39m\u001b[38;5;124m\"\u001b[39m\u001b[38;5;124mInput values for \u001b[39m\u001b[38;5;132;01m{\u001b[39;00m\u001b[38;5;28mself\u001b[39m\u001b[38;5;241m.\u001b[39mname\u001b[38;5;132;01m}\u001b[39;00m\u001b[38;5;124m class must be datetime objects\u001b[39m\u001b[38;5;124m\"\u001b[39m\n\u001b[1;32m   1028\u001b[0m     )\n\u001b[1;32m   1029\u001b[0m \u001b[38;5;28;01mif\u001b[39;00m val2 \u001b[38;5;129;01mis\u001b[39;00m \u001b[38;5;129;01mnot\u001b[39;00m \u001b[38;5;28;01mNone\u001b[39;00m:\n",
      "\u001b[0;31mTypeError\u001b[0m: Input values for datetime class must be datetime objects",
      "\nThe above exception was the direct cause of the following exception:\n",
      "\u001b[0;31mValueError\u001b[0m                                Traceback (most recent call last)",
      "Cell \u001b[0;32mIn[7], line 1\u001b[0m\n\u001b[0;32m----> 1\u001b[0m ParaAngle \u001b[38;5;241m=\u001b[39m \u001b[43mresult\u001b[49m\u001b[38;5;241;43m.\u001b[39;49m\u001b[43mget_ParaAngle\u001b[49m\u001b[43m(\u001b[49m\u001b[43m)\u001b[49m\n",
      "File \u001b[0;32m~/Research/QuasarPolarization/QuasarPol_Class.py:152\u001b[0m, in \u001b[0;36mQuasarPol.get_ParaAngle\u001b[0;34m(self)\u001b[0m\n\u001b[1;32m    149\u001b[0m minutes \u001b[38;5;241m=\u001b[39m \u001b[38;5;28mint\u001b[39m(end_time \u001b[38;5;241m%\u001b[39m \u001b[38;5;241m3600\u001b[39m \u001b[38;5;241m/\u001b[39m \u001b[38;5;241m60\u001b[39m)\n\u001b[1;32m    150\u001b[0m seconds \u001b[38;5;241m=\u001b[39m end_time \u001b[38;5;241m%\u001b[39m \u001b[38;5;241m3600\u001b[39m \u001b[38;5;241m-\u001b[39m minutes \u001b[38;5;241m*\u001b[39m \u001b[38;5;241m60\u001b[39m\n\u001b[0;32m--> 152\u001b[0m obs_end_Datetime \u001b[38;5;241m=\u001b[39m \u001b[43mTime\u001b[49m\u001b[43m(\u001b[49m\u001b[43m{\u001b[49m\u001b[38;5;124;43m'\u001b[39;49m\u001b[38;5;124;43myear\u001b[39;49m\u001b[38;5;124;43m'\u001b[39;49m\u001b[43m:\u001b[49m\u001b[38;5;28;43mint\u001b[39;49m\u001b[43m(\u001b[49m\u001b[43myear\u001b[49m\u001b[43m)\u001b[49m\u001b[43m,\u001b[49m\u001b[43m \u001b[49m\u001b[38;5;124;43m'\u001b[39;49m\u001b[38;5;124;43mmonth\u001b[39;49m\u001b[38;5;124;43m'\u001b[39;49m\u001b[43m:\u001b[49m\u001b[38;5;28;43mint\u001b[39;49m\u001b[43m(\u001b[49m\u001b[43mmonth\u001b[49m\u001b[43m)\u001b[49m\u001b[43m,\u001b[49m\u001b[43m \u001b[49m\u001b[38;5;124;43m'\u001b[39;49m\u001b[38;5;124;43mday\u001b[39;49m\u001b[38;5;124;43m'\u001b[39;49m\u001b[43m:\u001b[49m\u001b[38;5;28;43mint\u001b[39;49m\u001b[43m(\u001b[49m\u001b[43mday\u001b[49m\u001b[43m)\u001b[49m\u001b[43m,\u001b[49m\n\u001b[1;32m    153\u001b[0m \u001b[43m                         \u001b[49m\u001b[38;5;124;43m'\u001b[39;49m\u001b[38;5;124;43mhour\u001b[39;49m\u001b[38;5;124;43m'\u001b[39;49m\u001b[43m:\u001b[49m\u001b[43mhours\u001b[49m\u001b[43m,\u001b[49m\u001b[43m \u001b[49m\u001b[38;5;124;43m'\u001b[39;49m\u001b[38;5;124;43mminute\u001b[39;49m\u001b[38;5;124;43m'\u001b[39;49m\u001b[43m:\u001b[49m\u001b[43mminutes\u001b[49m\u001b[43m,\u001b[49m\u001b[43m \u001b[49m\u001b[38;5;124;43m'\u001b[39;49m\u001b[38;5;124;43msecond\u001b[39;49m\u001b[38;5;124;43m'\u001b[39;49m\u001b[43m:\u001b[49m\u001b[43mseconds\u001b[49m\u001b[43m}\u001b[49m\u001b[43m,\u001b[49m\u001b[43m \u001b[49m\u001b[43mscale\u001b[49m\u001b[38;5;241;43m=\u001b[39;49m\u001b[38;5;124;43m'\u001b[39;49m\u001b[38;5;124;43mutc\u001b[39;49m\u001b[38;5;124;43m'\u001b[39;49m\u001b[43m)\u001b[49m\n\u001b[1;32m    155\u001b[0m end_PA \u001b[38;5;241m=\u001b[39m Angle(ALMA_location\u001b[38;5;241m.\u001b[39mparallactic_angle(obs_end_Datetime, target_coord), u\u001b[38;5;241m.\u001b[39mdeg)\n\u001b[1;32m    156\u001b[0m End_PA\u001b[38;5;241m.\u001b[39mappend(end_PA)\n",
      "File \u001b[0;32m~/Softwares/Anaconda/anaconda3/envs/Quasarpol/lib/python3.8/site-packages/astropy/time/core.py:1853\u001b[0m, in \u001b[0;36mTime.__init__\u001b[0;34m(self, val, val2, format, scale, precision, in_subfmt, out_subfmt, location, copy)\u001b[0m\n\u001b[1;32m   1851\u001b[0m         \u001b[38;5;28mself\u001b[39m\u001b[38;5;241m.\u001b[39m_set_scale(scale)\n\u001b[1;32m   1852\u001b[0m \u001b[38;5;28;01melse\u001b[39;00m:\n\u001b[0;32m-> 1853\u001b[0m     \u001b[38;5;28;43mself\u001b[39;49m\u001b[38;5;241;43m.\u001b[39;49m\u001b[43m_init_from_vals\u001b[49m\u001b[43m(\u001b[49m\n\u001b[1;32m   1854\u001b[0m \u001b[43m        \u001b[49m\u001b[43mval\u001b[49m\u001b[43m,\u001b[49m\u001b[43m \u001b[49m\u001b[43mval2\u001b[49m\u001b[43m,\u001b[49m\u001b[43m \u001b[49m\u001b[38;5;28;43mformat\u001b[39;49m\u001b[43m,\u001b[49m\u001b[43m \u001b[49m\u001b[43mscale\u001b[49m\u001b[43m,\u001b[49m\u001b[43m \u001b[49m\u001b[43mcopy\u001b[49m\u001b[43m,\u001b[49m\u001b[43m \u001b[49m\u001b[43mprecision\u001b[49m\u001b[43m,\u001b[49m\u001b[43m \u001b[49m\u001b[43min_subfmt\u001b[49m\u001b[43m,\u001b[49m\u001b[43m \u001b[49m\u001b[43mout_subfmt\u001b[49m\n\u001b[1;32m   1855\u001b[0m \u001b[43m    \u001b[49m\u001b[43m)\u001b[49m\n\u001b[1;32m   1856\u001b[0m     \u001b[38;5;28mself\u001b[39m\u001b[38;5;241m.\u001b[39mSCALES \u001b[38;5;241m=\u001b[39m TIME_TYPES[\u001b[38;5;28mself\u001b[39m\u001b[38;5;241m.\u001b[39mscale]\n\u001b[1;32m   1858\u001b[0m \u001b[38;5;28;01mif\u001b[39;00m \u001b[38;5;28mself\u001b[39m\u001b[38;5;241m.\u001b[39mlocation \u001b[38;5;129;01mis\u001b[39;00m \u001b[38;5;129;01mnot\u001b[39;00m \u001b[38;5;28;01mNone\u001b[39;00m \u001b[38;5;129;01mand\u001b[39;00m (\n\u001b[1;32m   1859\u001b[0m     \u001b[38;5;28mself\u001b[39m\u001b[38;5;241m.\u001b[39mlocation\u001b[38;5;241m.\u001b[39msize \u001b[38;5;241m>\u001b[39m \u001b[38;5;241m1\u001b[39m \u001b[38;5;129;01mand\u001b[39;00m \u001b[38;5;28mself\u001b[39m\u001b[38;5;241m.\u001b[39mlocation\u001b[38;5;241m.\u001b[39mshape \u001b[38;5;241m!=\u001b[39m \u001b[38;5;28mself\u001b[39m\u001b[38;5;241m.\u001b[39mshape\n\u001b[1;32m   1860\u001b[0m ):\n",
      "File \u001b[0;32m~/Softwares/Anaconda/anaconda3/envs/Quasarpol/lib/python3.8/site-packages/astropy/time/core.py:536\u001b[0m, in \u001b[0;36mTimeBase._init_from_vals\u001b[0;34m(self, val, val2, format, scale, copy, precision, in_subfmt, out_subfmt)\u001b[0m\n\u001b[1;32m    533\u001b[0m mask, val, val2 \u001b[38;5;241m=\u001b[39m _check_for_masked_and_fill(val, val2)\n\u001b[1;32m    535\u001b[0m \u001b[38;5;66;03m# Parse / convert input values into internal jd1, jd2 based on format\u001b[39;00m\n\u001b[0;32m--> 536\u001b[0m \u001b[38;5;28mself\u001b[39m\u001b[38;5;241m.\u001b[39m_time \u001b[38;5;241m=\u001b[39m \u001b[38;5;28;43mself\u001b[39;49m\u001b[38;5;241;43m.\u001b[39;49m\u001b[43m_get_time_fmt\u001b[49m\u001b[43m(\u001b[49m\n\u001b[1;32m    537\u001b[0m \u001b[43m    \u001b[49m\u001b[43mval\u001b[49m\u001b[43m,\u001b[49m\u001b[43m \u001b[49m\u001b[43mval2\u001b[49m\u001b[43m,\u001b[49m\u001b[43m \u001b[49m\u001b[38;5;28;43mformat\u001b[39;49m\u001b[43m,\u001b[49m\u001b[43m \u001b[49m\u001b[43mscale\u001b[49m\u001b[43m,\u001b[49m\u001b[43m \u001b[49m\u001b[43mprecision\u001b[49m\u001b[43m,\u001b[49m\u001b[43m \u001b[49m\u001b[43min_subfmt\u001b[49m\u001b[43m,\u001b[49m\u001b[43m \u001b[49m\u001b[43mout_subfmt\u001b[49m\n\u001b[1;32m    538\u001b[0m \u001b[43m\u001b[49m\u001b[43m)\u001b[49m\n\u001b[1;32m    539\u001b[0m \u001b[38;5;28mself\u001b[39m\u001b[38;5;241m.\u001b[39m_format \u001b[38;5;241m=\u001b[39m \u001b[38;5;28mself\u001b[39m\u001b[38;5;241m.\u001b[39m_time\u001b[38;5;241m.\u001b[39mname\n\u001b[1;32m    541\u001b[0m \u001b[38;5;66;03m# Hack from #9969 to allow passing the location value that has been\u001b[39;00m\n\u001b[1;32m    542\u001b[0m \u001b[38;5;66;03m# collected by the TimeAstropyTime format class up to the Time level.\u001b[39;00m\n\u001b[1;32m    543\u001b[0m \u001b[38;5;66;03m# TODO: find a nicer way.\u001b[39;00m\n",
      "File \u001b[0;32m~/Softwares/Anaconda/anaconda3/envs/Quasarpol/lib/python3.8/site-packages/astropy/time/core.py:615\u001b[0m, in \u001b[0;36mTimeBase._get_time_fmt\u001b[0;34m(self, val, val2, format, scale, precision, in_subfmt, out_subfmt)\u001b[0m\n\u001b[1;32m    613\u001b[0m             problems[name] \u001b[38;5;241m=\u001b[39m err\n\u001b[1;32m    614\u001b[0m \u001b[38;5;28;01melse\u001b[39;00m:\n\u001b[0;32m--> 615\u001b[0m     \u001b[38;5;28;01mraise\u001b[39;00m \u001b[38;5;167;01mValueError\u001b[39;00m(\n\u001b[1;32m    616\u001b[0m         \u001b[38;5;124m\"\u001b[39m\u001b[38;5;124mInput values did not match any of the formats where the format \u001b[39m\u001b[38;5;124m\"\u001b[39m\n\u001b[1;32m    617\u001b[0m         \u001b[38;5;124mf\u001b[39m\u001b[38;5;124m\"\u001b[39m\u001b[38;5;124mkeyword is optional: \u001b[39m\u001b[38;5;132;01m{\u001b[39;00mproblems\u001b[38;5;132;01m}\u001b[39;00m\u001b[38;5;124m\"\u001b[39m\n\u001b[1;32m    618\u001b[0m     ) \u001b[38;5;28;01mfrom\u001b[39;00m \u001b[38;5;21;01mproblems\u001b[39;00m[formats[\u001b[38;5;241m0\u001b[39m][\u001b[38;5;241m0\u001b[39m]]\n",
      "\u001b[0;31mValueError\u001b[0m: Input values did not match any of the formats where the format keyword is optional: {'datetime': TypeError('Input values for datetime class must be datetime objects'), 'ymdhms': ErfaError('ERFA function \"dtf2d\" yielded 1 of \"bad hour\"'), 'iso': TypeError('Input values for iso class must be strings'), 'isot': TypeError('Input values for isot class must be strings'), 'yday': TypeError('Input values for yday class must be strings'), 'datetime64': TypeError('Input values for datetime64 class must be datetime64 objects'), 'fits': TypeError('Input values for fits class must be strings'), 'byear_str': TypeError('Input values for byear_str class must be strings'), 'jyear_str': TypeError('Input values for jyear_str class must be strings'), 'astropy_time': TypeError('Input values for astropy_time class must all be the same astropy Time type.')}"
     ]
    }
   ],
   "source": [
    "ParaAngle = result.get_ParaAngle()"
   ]
  },
  {
   "cell_type": "code",
   "execution_count": null,
   "id": "f37217ca-ba47-4b68-b2d1-121640a8f9eb",
   "metadata": {},
   "outputs": [],
   "source": []
  }
 ],
 "metadata": {
  "kernelspec": {
   "display_name": "Python 3 (ipykernel)",
   "language": "python",
   "name": "python3"
  },
  "language_info": {
   "codemirror_mode": {
    "name": "ipython",
    "version": 3
   },
   "file_extension": ".py",
   "mimetype": "text/x-python",
   "name": "python",
   "nbconvert_exporter": "python",
   "pygments_lexer": "ipython3",
   "version": "3.8.13"
  }
 },
 "nbformat": 4,
 "nbformat_minor": 5
}
