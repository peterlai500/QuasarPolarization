{
 "cells": [
  {
   "cell_type": "code",
   "execution_count": 1,
   "id": "618cd899",
   "metadata": {},
   "outputs": [],
   "source": [
    "from QuasarPol_Class import QuasarPol"
   ]
  },
  {
   "cell_type": "code",
   "execution_count": 130,
   "id": "62277275",
   "metadata": {},
   "outputs": [],
   "source": [
    "target = '3C273'"
   ]
  },
  {
   "cell_type": "code",
   "execution_count": 131,
   "id": "97636e84",
   "metadata": {},
   "outputs": [],
   "source": [
    "result = QuasarPol(target, True, 'Dual', 500)"
   ]
  },
  {
   "cell_type": "code",
   "execution_count": 132,
   "id": "a689c620",
   "metadata": {
    "scrolled": false
   },
   "outputs": [
    {
     "data": {
      "text/html": [
       "<i>QTable length=37</i>\n",
       "<table id=\"table140141564778872-46809\" class=\"table-striped table-bordered table-condensed\">\n",
       "<thead><tr><th>idx</th><th>Project code</th><th>obs_id</th><th>member_ous_uid</th><th>Obs_Date</th><th>Change_PA</th><th>Init_PA</th><th>End_PA</th></tr></thead>\n",
       "<thead><tr><th></th><th></th><th></th><th></th><th></th><th>deg</th><th>deg</th><th>deg</th></tr></thead>\n",
       "<tr><td>0</td><td>2018.1.00585.S</td><td>uid://A001/X1358/Xae.source.3C273.spw.31</td><td>uid://A001/X1358/Xae</td><td>22-11-2018</td><td>-0.481677856093512</td><td>120.27463896024757</td><td>119.79296110415406</td></tr>\n",
       "<tr><td>1</td><td>2018.1.00585.S</td><td>uid://A001/X1358/Xae.source.3C273.spw.33</td><td>uid://A001/X1358/Xae</td><td>22-11-2018</td><td>-0.481677856093512</td><td>120.27463896024757</td><td>119.79296110415406</td></tr>\n",
       "<tr><td>2</td><td>2018.1.00585.S</td><td>uid://A001/X1358/Xae.source.3C273.spw.25</td><td>uid://A001/X1358/Xae</td><td>22-11-2018</td><td>-0.481677856093512</td><td>120.27463896024757</td><td>119.79296110415406</td></tr>\n",
       "<tr><td>3</td><td>2018.1.00585.S</td><td>uid://A001/X1358/Xae.source.3C273.spw.27</td><td>uid://A001/X1358/Xae</td><td>22-11-2018</td><td>-0.481677856093512</td><td>120.27463896024757</td><td>119.79296110415406</td></tr>\n",
       "<tr><td>4</td><td>2018.1.00585.S</td><td>uid://A001/X1358/Xae.source.3C273.spw.29</td><td>uid://A001/X1358/Xae</td><td>22-11-2018</td><td>-0.481677856093512</td><td>120.27463896024757</td><td>119.79296110415406</td></tr>\n",
       "<tr><td>5</td><td>2019.1.00634.S</td><td>uid://A001/X1465/X29a0.source.3C273.spw.17</td><td>uid://A001/X1465/X29a0</td><td>20-11-2019</td><td>-0.6389602073699763</td><td>120.5508022202626</td><td>119.91184201289262</td></tr>\n",
       "<tr><td>6</td><td>2019.1.00634.S</td><td>uid://A001/X1465/X29a0.source.3C273.spw.21</td><td>uid://A001/X1465/X29a0</td><td>20-11-2019</td><td>-0.6389602073699763</td><td>120.5508022202626</td><td>119.91184201289262</td></tr>\n",
       "<tr><td>7</td><td>2019.1.00634.S</td><td>uid://A001/X1465/X29a0.source.3C273.spw.23</td><td>uid://A001/X1465/X29a0</td><td>20-11-2019</td><td>-0.6389602073699763</td><td>120.5508022202626</td><td>119.91184201289262</td></tr>\n",
       "<tr><td>8</td><td>2019.1.00634.S</td><td>uid://A001/X1465/X29a0.source.3C273.spw.19</td><td>uid://A001/X1465/X29a0</td><td>20-11-2019</td><td>-0.6389602073699763</td><td>120.5508022202626</td><td>119.91184201289262</td></tr>\n",
       "<tr><td>9</td><td>2019.1.00634.S</td><td>uid://A001/X1465/X29a3.source.3C273.spw.20</td><td>uid://A001/X1465/X29a3</td><td>21-11-2019</td><td>-0.6143450371295245</td><td>120.16079224360314</td><td>119.54644720647362</td></tr>\n",
       "<tr><td>10</td><td>2019.1.00634.S</td><td>uid://A001/X1465/X29a3.source.3C273.spw.16</td><td>uid://A001/X1465/X29a3</td><td>21-11-2019</td><td>-0.6143450371295245</td><td>120.16079224360314</td><td>119.54644720647362</td></tr>\n",
       "<tr><td>11</td><td>2019.1.00634.S</td><td>uid://A001/X1465/X29a3.source.3C273.spw.18</td><td>uid://A001/X1465/X29a3</td><td>21-11-2019</td><td>-0.6143450371295245</td><td>120.16079224360314</td><td>119.54644720647362</td></tr>\n",
       "<tr><td>12</td><td>2019.1.00634.S</td><td>uid://A001/X1465/X29a3.source.3C273.spw.22</td><td>uid://A001/X1465/X29a3</td><td>21-11-2019</td><td>-0.6143450371295245</td><td>120.16079224360314</td><td>119.54644720647362</td></tr>\n",
       "<tr><td>13</td><td>2019.1.00634.S</td><td>uid://A001/X1465/X29a7.source.3C273.spw.10</td><td>uid://A001/X1465/X29a7</td><td>08-10-2019</td><td>-19.940611747096284</td><td>165.51360493762544</td><td>145.57299319052916</td></tr>\n",
       "<tr><td>14</td><td>2019.1.00634.S</td><td>uid://A001/X1465/X29a7.source.3C273.spw.4</td><td>uid://A001/X1465/X29a7</td><td>08-10-2019</td><td>-19.940611747096284</td><td>165.51360493762544</td><td>145.57299319052916</td></tr>\n",
       "<tr><td>15</td><td>2019.1.00634.S</td><td>uid://A001/X1465/X29a7.source.3C273.spw.6</td><td>uid://A001/X1465/X29a7</td><td>08-10-2019</td><td>-19.940611747096284</td><td>165.51360493762544</td><td>145.57299319052916</td></tr>\n",
       "<tr><td>16</td><td>2019.1.00634.S</td><td>uid://A001/X1465/X29a7.source.3C273.spw.8</td><td>uid://A001/X1465/X29a7</td><td>08-10-2019</td><td>-19.940611747096284</td><td>165.51360493762544</td><td>145.57299319052916</td></tr>\n",
       "<tr><td>17</td><td>2019.1.00807.S</td><td>uid://A001/X1527/X312.source.3C273.spw.20</td><td>uid://A001/X1527/X312</td><td>11-04-2021</td><td>3.5107061117080605</td><td>-151.4913754761978</td><td>-147.98066936448973</td></tr>\n",
       "<tr><td>18</td><td>2019.1.00807.S</td><td>uid://A001/X1527/X312.source.3C273.spw.22</td><td>uid://A001/X1527/X312</td><td>11-04-2021</td><td>3.5107061117080605</td><td>-151.4913754761978</td><td>-147.98066936448973</td></tr>\n",
       "<tr><td>19</td><td>2019.1.00807.S</td><td>uid://A001/X1527/X312.source.3C273.spw.18</td><td>uid://A001/X1527/X312</td><td>11-04-2021</td><td>3.5107061117080605</td><td>-151.4913754761978</td><td>-147.98066936448973</td></tr>\n",
       "<tr><td>20</td><td>2019.1.00807.S</td><td>uid://A001/X1527/X312.source.3C273.spw.16</td><td>uid://A001/X1527/X312</td><td>11-04-2021</td><td>3.5107061117080605</td><td>-151.4913754761978</td><td>-147.98066936448973</td></tr>\n",
       "<tr><td>21</td><td>2019.1.00807.S</td><td>uid://A001/X1527/X315.source.3C273.spw.16</td><td>uid://A001/X1527/X315</td><td>15-04-2021</td><td>2.9320560807268237</td><td>-144.47883876824656</td><td>-141.54678268751974</td></tr>\n",
       "<tr><td>22</td><td>2019.1.00807.S</td><td>uid://A001/X1527/X315.source.3C273.spw.18</td><td>uid://A001/X1527/X315</td><td>15-04-2021</td><td>2.9320560807268237</td><td>-144.47883876824656</td><td>-141.54678268751974</td></tr>\n",
       "<tr><td>23</td><td>2019.1.00807.S</td><td>uid://A001/X1527/X315.source.3C273.spw.20</td><td>uid://A001/X1527/X315</td><td>15-04-2021</td><td>2.9320560807268237</td><td>-144.47883876824656</td><td>-141.54678268751974</td></tr>\n",
       "<tr><td>24</td><td>2019.1.00807.S</td><td>uid://A001/X1527/X315.source.3C273.spw.22</td><td>uid://A001/X1527/X315</td><td>15-04-2021</td><td>2.9320560807268237</td><td>-144.47883876824656</td><td>-141.54678268751974</td></tr>\n",
       "<tr><td>25</td><td>2019.1.00807.S</td><td>uid://A001/X1527/X318.source.3C273.spw.16</td><td>uid://A001/X1527/X318</td><td>17-04-2021</td><td>2.665246537065258</td><td>-141.42176993609957</td><td>-138.7565233990343</td></tr>\n",
       "<tr><td>26</td><td>2019.1.00807.S</td><td>uid://A001/X1527/X318.source.3C273.spw.22</td><td>uid://A001/X1527/X318</td><td>17-04-2021</td><td>2.665246537065258</td><td>-141.42176993609957</td><td>-138.7565233990343</td></tr>\n",
       "<tr><td>27</td><td>2019.1.00807.S</td><td>uid://A001/X1527/X318.source.3C273.spw.18</td><td>uid://A001/X1527/X318</td><td>17-04-2021</td><td>2.665246537065258</td><td>-141.42176993609957</td><td>-138.7565233990343</td></tr>\n",
       "<tr><td>28</td><td>2019.1.00807.S</td><td>uid://A001/X1527/X318.source.3C273.spw.20</td><td>uid://A001/X1527/X318</td><td>17-04-2021</td><td>2.665246537065258</td><td>-141.42176993609957</td><td>-138.7565233990343</td></tr>\n",
       "<tr><td>29</td><td>2019.1.00807.S</td><td>uid://A001/X1527/X31b.source.3C273.spw.16</td><td>uid://A001/X1527/X31b</td><td>18-04-2021</td><td>2.539132194239045</td><td>-139.99897678155986</td><td>-137.45984458732082</td></tr>\n",
       "<tr><td>30</td><td>2019.1.00807.S</td><td>uid://A001/X1527/X31b.source.3C273.spw.18</td><td>uid://A001/X1527/X31b</td><td>18-04-2021</td><td>2.539132194239045</td><td>-139.99897678155986</td><td>-137.45984458732082</td></tr>\n",
       "<tr><td>31</td><td>2019.1.00807.S</td><td>uid://A001/X1527/X31b.source.3C273.spw.20</td><td>uid://A001/X1527/X31b</td><td>18-04-2021</td><td>2.539132194239045</td><td>-139.99897678155986</td><td>-137.45984458732082</td></tr>\n",
       "<tr><td>32</td><td>2019.1.00807.S</td><td>uid://A001/X1527/X31b.source.3C273.spw.22</td><td>uid://A001/X1527/X31b</td><td>18-04-2021</td><td>2.539132194239045</td><td>-139.99897678155986</td><td>-137.45984458732082</td></tr>\n",
       "<tr><td>33</td><td>2019.1.00807.S</td><td>uid://A001/X1527/X31e.source.3C273.spw.16</td><td>uid://A001/X1527/X31e</td><td>19-04-2021</td><td>2.418134759936436</td><td>-138.64321563057763</td><td>-136.2250808706412</td></tr>\n",
       "<tr><td>34</td><td>2019.1.00807.S</td><td>uid://A001/X1527/X31e.source.3C273.spw.18</td><td>uid://A001/X1527/X31e</td><td>19-04-2021</td><td>2.418134759936436</td><td>-138.64321563057763</td><td>-136.2250808706412</td></tr>\n",
       "<tr><td>35</td><td>2019.1.00807.S</td><td>uid://A001/X1527/X31e.source.3C273.spw.20</td><td>uid://A001/X1527/X31e</td><td>19-04-2021</td><td>2.418134759936436</td><td>-138.64321563057763</td><td>-136.2250808706412</td></tr>\n",
       "<tr><td>36</td><td>2019.1.00807.S</td><td>uid://A001/X1527/X31e.source.3C273.spw.22</td><td>uid://A001/X1527/X31e</td><td>19-04-2021</td><td>2.418134759936436</td><td>-138.64321563057763</td><td>-136.2250808706412</td></tr>\n",
       "</table><style>table.dataTable {clear: both; width: auto !important; margin: 0 !important;}\n",
       ".dataTables_info, .dataTables_length, .dataTables_filter, .dataTables_paginate{\n",
       "display: inline-block; margin-right: 1em; }\n",
       ".paginate_button { margin-right: 5px; }\n",
       "</style>\n",
       "<script>\n",
       "\n",
       "var astropy_sort_num = function(a, b) {\n",
       "    var a_num = parseFloat(a);\n",
       "    var b_num = parseFloat(b);\n",
       "\n",
       "    if (isNaN(a_num) && isNaN(b_num))\n",
       "        return ((a < b) ? -1 : ((a > b) ? 1 : 0));\n",
       "    else if (!isNaN(a_num) && !isNaN(b_num))\n",
       "        return ((a_num < b_num) ? -1 : ((a_num > b_num) ? 1 : 0));\n",
       "    else\n",
       "        return isNaN(a_num) ? -1 : 1;\n",
       "}\n",
       "\n",
       "require.config({paths: {\n",
       "    datatables: 'https://cdn.datatables.net/1.10.12/js/jquery.dataTables.min'\n",
       "}});\n",
       "require([\"datatables\"], function(){\n",
       "    console.log(\"$('#table140141564778872-46809').dataTable()\");\n",
       "    \n",
       "jQuery.extend( jQuery.fn.dataTableExt.oSort, {\n",
       "    \"optionalnum-asc\": astropy_sort_num,\n",
       "    \"optionalnum-desc\": function (a,b) { return -astropy_sort_num(a, b); }\n",
       "});\n",
       "\n",
       "    $('#table140141564778872-46809').dataTable({\n",
       "        order: [],\n",
       "        pageLength: 50,\n",
       "        lengthMenu: [[10, 25, 50, 100, 500, 1000, -1], [10, 25, 50, 100, 500, 1000, 'All']],\n",
       "        pagingType: \"full_numbers\",\n",
       "        columnDefs: [{targets: [0, 5, 6, 7], type: \"optionalnum\"}]\n",
       "    });\n",
       "});\n",
       "</script>\n"
      ],
      "text/plain": [
       "<IPython.core.display.HTML object>"
      ]
     },
     "execution_count": 132,
     "metadata": {},
     "output_type": "execute_result"
    }
   ],
   "source": [
    "data = result.get_ParaAngle()\n",
    "\n",
    "data.show_in_notebook()"
   ]
  }
 ],
 "metadata": {
  "kernelspec": {
   "display_name": "Python 3",
   "language": "python",
   "name": "python3"
  },
  "language_info": {
   "codemirror_mode": {
    "name": "ipython",
    "version": 3
   },
   "file_extension": ".py",
   "mimetype": "text/x-python",
   "name": "python",
   "nbconvert_exporter": "python",
   "pygments_lexer": "ipython3",
   "version": "3.6.13"
  }
 },
 "nbformat": 4,
 "nbformat_minor": 5
}
