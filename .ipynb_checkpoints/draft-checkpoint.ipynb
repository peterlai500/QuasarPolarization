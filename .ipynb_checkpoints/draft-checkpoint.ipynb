{
 "cells": [
  {
   "cell_type": "code",
   "execution_count": 1,
   "id": "27ded8be",
   "metadata": {
    "scrolled": false
   },
   "outputs": [],
   "source": [
    "from QuasarPol_Class import QuasarPol"
   ]
  },
  {
   "cell_type": "code",
   "execution_count": 2,
   "id": "e3747ca1",
   "metadata": {},
   "outputs": [],
   "source": [
    "import time"
   ]
  },
  {
   "cell_type": "code",
   "execution_count": 11,
   "id": "62feb015",
   "metadata": {},
   "outputs": [
    {
     "data": {
      "text/plain": [
       "'http://almascience.org'"
      ]
     },
     "execution_count": 11,
     "metadata": {},
     "output_type": "execute_result"
    }
   ],
   "source": [
    "from astroquery.alma import Alma"
   ]
  },
  {
   "cell_type": "code",
   "execution_count": 7,
   "id": "9e3fa9bc",
   "metadata": {
    "scrolled": true
   },
   "outputs": [
    {
     "name": "stdout",
     "output_type": "stream",
     "text": [
      "Full data table is 261 long\n",
      "Filter time: 375.790575 seconds.\n",
      "Length of Filtered data 4\n"
     ]
    }
   ],
   "source": [
    "target = QuasarPol('J1924-2914', False, 'Full', 1000)\n",
    "data_table = target.get_tables(legacy_columns=True)\n",
    "print(f\"Full data table is {len(data_table)} long\")\n",
    "PA_table = target.get_ParaAngle()\n",
    "\n",
    "st = time.time()\n",
    "f_PA = target.filter_data(2.182, 2.2)\n",
    "et = time.time()\n",
    "rt = et - st\n",
    "print(f\"Filter time: {rt:.6f} seconds.\\nLength of Filtered data {len(f_PA)}\")"
   ]
  },
  {
   "cell_type": "code",
   "execution_count": 8,
   "id": "dc2bf6c7",
   "metadata": {
    "scrolled": false
   },
   "outputs": [
    {
     "data": {
      "text/html": [
       "<i>QTable length=4</i>\n",
       "<table id=\"table139699434077096-889335\" class=\"table-striped table-bordered table-condensed\">\n",
       "<thead><tr><th>idx</th><th>obs_id</th><th>member_ous_uid</th><th>Obs_date</th><th>Change_PA</th><th>Init_PA</th><th>End_PA</th></tr></thead>\n",
       "<thead><tr><th></th><th></th><th></th><th></th><th>deg</th><th>deg</th><th>deg</th></tr></thead>\n",
       "<tr><td>0</td><td>uid://A001/X1590/X2a76.source.J1924-2914.spw.20</td><td>uid://A001/X1590/X2a76</td><td>10-04-2022</td><td>2.189957255733546</td><td>109.7459299719308</td><td>111.93588722766435</td></tr>\n",
       "<tr><td>1</td><td>uid://A001/X1590/X2a76.source.J1924-2914.spw.24</td><td>uid://A001/X1590/X2a76</td><td>10-04-2022</td><td>2.189957255733546</td><td>109.7459299719308</td><td>111.93588722766435</td></tr>\n",
       "<tr><td>2</td><td>uid://A001/X1590/X2a76.source.J1924-2914.spw.28</td><td>uid://A001/X1590/X2a76</td><td>10-04-2022</td><td>2.189957255733546</td><td>109.7459299719308</td><td>111.93588722766435</td></tr>\n",
       "<tr><td>3</td><td>uid://A001/X1590/X2a76.source.J1924-2914.spw.32</td><td>uid://A001/X1590/X2a76</td><td>10-04-2022</td><td>2.189957255733546</td><td>109.7459299719308</td><td>111.93588722766435</td></tr>\n",
       "</table><style>table.dataTable {clear: both; width: auto !important; margin: 0 !important;}\n",
       ".dataTables_info, .dataTables_length, .dataTables_filter, .dataTables_paginate{\n",
       "display: inline-block; margin-right: 1em; }\n",
       ".paginate_button { margin-right: 5px; }\n",
       "</style>\n",
       "<script>\n",
       "\n",
       "var astropy_sort_num = function(a, b) {\n",
       "    var a_num = parseFloat(a);\n",
       "    var b_num = parseFloat(b);\n",
       "\n",
       "    if (isNaN(a_num) && isNaN(b_num))\n",
       "        return ((a < b) ? -1 : ((a > b) ? 1 : 0));\n",
       "    else if (!isNaN(a_num) && !isNaN(b_num))\n",
       "        return ((a_num < b_num) ? -1 : ((a_num > b_num) ? 1 : 0));\n",
       "    else\n",
       "        return isNaN(a_num) ? -1 : 1;\n",
       "}\n",
       "\n",
       "require.config({paths: {\n",
       "    datatables: 'https://cdn.datatables.net/1.10.12/js/jquery.dataTables.min'\n",
       "}});\n",
       "require([\"datatables\"], function(){\n",
       "    console.log(\"$('#table139699434077096-889335').dataTable()\");\n",
       "    \n",
       "jQuery.extend( jQuery.fn.dataTableExt.oSort, {\n",
       "    \"optionalnum-asc\": astropy_sort_num,\n",
       "    \"optionalnum-desc\": function (a,b) { return -astropy_sort_num(a, b); }\n",
       "});\n",
       "\n",
       "    $('#table139699434077096-889335').dataTable({\n",
       "        order: [],\n",
       "        pageLength: 50,\n",
       "        lengthMenu: [[10, 25, 50, 100, 500, 1000, -1], [10, 25, 50, 100, 500, 1000, 'All']],\n",
       "        pagingType: \"full_numbers\",\n",
       "        columnDefs: [{targets: [0, 4, 5, 6], type: \"optionalnum\"}]\n",
       "    });\n",
       "});\n",
       "</script>\n"
      ],
      "text/plain": [
       "<IPython.core.display.HTML object>"
      ]
     },
     "execution_count": 8,
     "metadata": {},
     "output_type": "execute_result"
    }
   ],
   "source": [
    "f_PA.show_in_notebook()"
   ]
  }
 ],
 "metadata": {
  "kernelspec": {
   "display_name": "Python 3",
   "language": "python",
   "name": "python3"
  },
  "language_info": {
   "codemirror_mode": {
    "name": "ipython",
    "version": 3
   },
   "file_extension": ".py",
   "mimetype": "text/x-python",
   "name": "python",
   "nbconvert_exporter": "python",
   "pygments_lexer": "ipython3",
   "version": "3.6.13"
  }
 },
 "nbformat": 4,
 "nbformat_minor": 5
}
