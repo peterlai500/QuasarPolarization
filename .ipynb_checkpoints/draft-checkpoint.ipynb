{
 "cells": [
  {
   "cell_type": "markdown",
   "id": "c99adae3",
   "metadata": {},
   "source": [
    "# Find CASA version\n",
    "\n",
    "Link that contain the compaibility is [here](https://almascience.nrao.edu/processing/science-pipeline)"
   ]
  },
  {
   "cell_type": "code",
   "execution_count": 1,
   "id": "27ded8be",
   "metadata": {
    "scrolled": false
   },
   "outputs": [],
   "source": [
    "from QuasarPol_Class import QuasarPol"
   ]
  },
  {
   "cell_type": "code",
   "execution_count": 2,
   "id": "e3747ca1",
   "metadata": {},
   "outputs": [],
   "source": [
    "import time"
   ]
  },
  {
   "cell_type": "code",
   "execution_count": 3,
   "id": "62feb015",
   "metadata": {},
   "outputs": [],
   "source": [
    "from astroquery.alma import Alma"
   ]
  },
  {
   "cell_type": "code",
   "execution_count": 23,
   "id": "9e3fa9bc",
   "metadata": {
    "scrolled": true
   },
   "outputs": [
    {
     "name": "stdout",
     "output_type": "stream",
     "text": [
      "Full data table is 261 long\n"
     ]
    },
    {
     "data": {
      "text/plain": [
       "'\\nst = time.time()\\nf_PA = target.filter_data(2.182, 2.2)\\net = time.time()\\nrt = et - st\\nprint(f\"Filter time: {rt:.6f} seconds.\\nLength of Filtered data {len(f_PA)}\")'"
      ]
     },
     "execution_count": 23,
     "metadata": {},
     "output_type": "execute_result"
    }
   ],
   "source": [
    "target = QuasarPol('J1924-2914', False, 'Full', 1000)\n",
    "data_table = target.get_tables(legacy_columns=True)\n",
    "print(f\"Full data table is {len(data_table)} long\")\n",
    "PA_table = target.get_ParaAngle()\n",
    "'''\n",
    "st = time.time()\n",
    "f_PA = target.filter_data(2.182, 2.2)\n",
    "et = time.time()\n",
    "rt = et - st\n",
    "print(f\"Filter time: {rt:.6f} seconds.\\nLength of Filtered data {len(f_PA)}\")'''"
   ]
  },
  {
   "cell_type": "code",
   "execution_count": 24,
   "id": "b16dbd8a",
   "metadata": {},
   "outputs": [
    {
     "data": {
      "text/html": [
       "<i>Table length=261</i>\n",
       "<table id=\"table139651873916240\" class=\"table-striped table-bordered table-condensed\">\n",
       "<thead><tr><th>Project code</th><th>Source name</th><th>RA</th><th>Dec</th><th>Galactic longitude</th><th>Galactic latitude</th><th>Band</th><th>Footprint</th><th>Frequency resolution</th><th>Array</th><th>Mosaic</th><th>Integration</th><th>Release date</th><th>Frequency support</th><th>Velocity resolution</th><th>Pol products</th><th>Observation date</th><th>PI name</th><th>SB name</th><th>Proposal authors</th><th>Line sensitivity (10 km/s)</th><th>Continuum sensitivity</th><th>PWV</th><th>Group ous id</th><th>Member ous id</th><th>Asdm uid</th><th>Project title</th><th>Project type</th><th>Scan intent</th><th>Field of view</th><th>Largest angular scale</th><th>QA2 Status</th><th>Science keyword</th><th>Scientific category</th></tr></thead>\n",
       "<thead><tr><th></th><th></th><th>deg</th><th>deg</th><th>deg</th><th>deg</th><th></th><th></th><th>m</th><th></th><th></th><th>s</th><th></th><th>GHz</th><th>m / s</th><th></th><th></th><th></th><th></th><th></th><th>mJy/beam</th><th>mJy/beam</th><th>mm</th><th></th><th></th><th></th><th></th><th></th><th></th><th>deg</th><th>arcsec</th><th></th><th></th><th></th></tr></thead>\n",
       "<thead><tr><th>bytes64</th><th>bytes256</th><th>float64</th><th>float64</th><th>float64</th><th>float64</th><th>bytes30</th><th>object</th><th>float64</th><th>bytes660</th><th>bytes1</th><th>float64</th><th>object</th><th>bytes4000</th><th>float64</th><th>bytes64</th><th>str10</th><th>bytes256</th><th>bytes128</th><th>bytes2000</th><th>float64</th><th>float64</th><th>float32</th><th>bytes64</th><th>bytes64</th><th>bytes32</th><th>bytes256</th><th>bytes16</th><th>bytes256</th><th>float64</th><th>float64</th><th>bytes1</th><th>bytes200</th><th>bytes200</th></tr></thead>\n",
       "<tr><td>2016.1.01484.S</td><td>J1924-2914</td><td>291.2127331541609</td><td>-29.241700286113755</td><td>9.344108487761218</td><td>-19.606808049223396</td><td>6</td><td>Polygon ICRS 291.212983 -29.245164 291.208763 -29.241918 291.212483 -29.238236 291.216703 -29.241482</td><td>21570367960.16103</td><td>A001:DA59 A007:DV09 A009:DV18 A015:DA61 A027:DV06 A069:DA55 A070:DA48 A071:DA52 A073:DV22 A074:DA47 A076:DV17 A078:DV08 A079:DA54 A084:DV04 A087:DV25 A090:DV24 A091:DA45 A092:DV14 A093:DV20 A094:DV19 A097:DA60 A098:DV05 A101:DA62 A102:DV03 A103:DV16 A104:DA58 A105:DV02 A110:DA41 A111:PM02 A116:DV07 A118:DV01 A120:DA44 A121:DV12 A122:DV11 A123:DA42 A125:DA53 A126:DV10 A127:DA49 A128:DV13 A129:DA46 A130:DV15 A132:DV23 A133:PM04 A135:DA57</td><td>F</td><td>1451.52</td><td>2018-11-14T13:06:20.000</td><td>[223.02..224.99GHz,62500.00kHz,543.9uJy/beam@10km/s,33.2uJy/beam@native, XX XY YX YY] U [225.02..226.99GHz,62500.00kHz,510.1uJy/beam@10km/s,31.3uJy/beam@native, XX XY YX YY] U [239.02..240.99GHz,62500.00kHz,538.5uJy/beam@10km/s,34.1uJy/beam@native, XX XY YX YY] U [241.02..242.99GHz,62500.00kHz,577uJy/beam@10km/s,36.7uJy/beam@native, XX XY YX YY]</td><td>77741.96641815234</td><td>/XX/XY/YX/YY/</td><td>17-08-2017</td><td>ALMA</td><td>w51e2_a_06_TM1</td><td>Yen, Hsi-Wei; Tang, Ya-Wen; Peretto, Nicolas; Ho, Paul; Duarte Cabral, Ana; Su, Yu-Nung;</td><td>0.5100671502067003</td><td>0.01683094579643642</td><td>0.2406161</td><td>uid://A001/X879/X8db</td><td>uid://A001/X879/X8dc</td><td>uid://A002/Xc37375/X171c</td><td>Resolving De-polarization and Magnetic Field Convergence Zones in W51</td><td>S</td><td>POLARIZATION WVR</td><td>0.00694181878951845</td><td>1.3710979855742602</td><td>T</td><td>Inter-Stellar Medium (ISM)/Molecular clouds</td><td>ISM and star formation</td></tr>\n",
       "<tr><td>2016.1.01484.S</td><td>J1924-2914</td><td>291.2127331541609</td><td>-29.241700286113755</td><td>9.344108487761218</td><td>-19.606808049223396</td><td>6</td><td>Polygon ICRS 291.212983 -29.245164 291.208763 -29.241918 291.212483 -29.238236 291.216703 -29.241482</td><td>21570367960.16103</td><td>A001:DA59 A007:DV09 A009:DV18 A015:DA61 A027:DV06 A069:DA55 A070:DA48 A071:DA52 A073:DV22 A074:DA47 A076:DV17 A078:DV08 A079:DA54 A084:DV04 A087:DV25 A090:DV24 A091:DA45 A092:DV14 A093:DV20 A094:DV19 A097:DA60 A098:DV05 A101:DA62 A102:DV03 A103:DV16 A104:DA58 A105:DV02 A110:DA41 A111:PM02 A116:DV07 A118:DV01 A120:DA44 A121:DV12 A122:DV11 A123:DA42 A125:DA53 A126:DV10 A127:DA49 A128:DV13 A129:DA46 A130:DV15 A132:DV23 A133:PM04 A135:DA57</td><td>F</td><td>1451.52</td><td>2018-11-14T13:06:20.000</td><td>[223.02..224.99GHz,62500.00kHz,543.9uJy/beam@10km/s,33.2uJy/beam@native, XX XY YX YY] U [225.02..226.99GHz,62500.00kHz,510.1uJy/beam@10km/s,31.3uJy/beam@native, XX XY YX YY] U [239.02..240.99GHz,62500.00kHz,538.5uJy/beam@10km/s,34.1uJy/beam@native, XX XY YX YY] U [241.02..242.99GHz,62500.00kHz,577uJy/beam@10km/s,36.7uJy/beam@native, XX XY YX YY]</td><td>77741.96641815234</td><td>/XX/XY/YX/YY/</td><td>17-08-2017</td><td>ALMA</td><td>w51e2_a_06_TM1</td><td>Yen, Hsi-Wei; Tang, Ya-Wen; Peretto, Nicolas; Ho, Paul; Duarte Cabral, Ana; Su, Yu-Nung;</td><td>0.5384992632094028</td><td>0.01683094579643642</td><td>0.2406161</td><td>uid://A001/X879/X8db</td><td>uid://A001/X879/X8dc</td><td>uid://A002/Xc37375/X171c</td><td>Resolving De-polarization and Magnetic Field Convergence Zones in W51</td><td>S</td><td>POLARIZATION WVR</td><td>0.00694181878951845</td><td>1.3710979855742602</td><td>T</td><td>Inter-Stellar Medium (ISM)/Molecular clouds</td><td>ISM and star formation</td></tr>\n",
       "<tr><td>2016.1.01484.S</td><td>J1924-2914</td><td>291.2127331541609</td><td>-29.241700286113755</td><td>9.344108487761218</td><td>-19.606808049223396</td><td>6</td><td>Polygon ICRS 291.212983 -29.245164 291.208763 -29.241918 291.212483 -29.238236 291.216703 -29.241482</td><td>21570367960.16103</td><td>A001:DA59 A007:DV09 A009:DV18 A015:DA61 A027:DV06 A069:DA55 A070:DA48 A071:DA52 A073:DV22 A074:DA47 A076:DV17 A078:DV08 A079:DA54 A084:DV04 A087:DV25 A090:DV24 A091:DA45 A092:DV14 A093:DV20 A094:DV19 A097:DA60 A098:DV05 A101:DA62 A102:DV03 A103:DV16 A104:DA58 A105:DV02 A110:DA41 A111:PM02 A116:DV07 A118:DV01 A120:DA44 A121:DV12 A122:DV11 A123:DA42 A125:DA53 A126:DV10 A127:DA49 A128:DV13 A129:DA46 A130:DV15 A132:DV23 A133:PM04 A135:DA57</td><td>F</td><td>1451.52</td><td>2018-11-14T13:06:20.000</td><td>[223.02..224.99GHz,62500.00kHz,543.9uJy/beam@10km/s,33.2uJy/beam@native, XX XY YX YY] U [225.02..226.99GHz,62500.00kHz,510.1uJy/beam@10km/s,31.3uJy/beam@native, XX XY YX YY] U [239.02..240.99GHz,62500.00kHz,538.5uJy/beam@10km/s,34.1uJy/beam@native, XX XY YX YY] U [241.02..242.99GHz,62500.00kHz,577uJy/beam@10km/s,36.7uJy/beam@native, XX XY YX YY]</td><td>77741.96641815234</td><td>/XX/XY/YX/YY/</td><td>17-08-2017</td><td>ALMA</td><td>w51e2_a_06_TM1</td><td>Yen, Hsi-Wei; Tang, Ya-Wen; Peretto, Nicolas; Ho, Paul; Duarte Cabral, Ana; Su, Yu-Nung;</td><td>0.5769894333699086</td><td>0.01683094579643642</td><td>0.2406161</td><td>uid://A001/X879/X8db</td><td>uid://A001/X879/X8dc</td><td>uid://A002/Xc37375/X171c</td><td>Resolving De-polarization and Magnetic Field Convergence Zones in W51</td><td>S</td><td>POLARIZATION WVR</td><td>0.00694181878951845</td><td>1.3710979855742602</td><td>T</td><td>Inter-Stellar Medium (ISM)/Molecular clouds</td><td>ISM and star formation</td></tr>\n",
       "<tr><td>2016.1.01484.S</td><td>J1924-2914</td><td>291.2127331541609</td><td>-29.241700286113755</td><td>9.344108487761218</td><td>-19.606808049223396</td><td>6</td><td>Polygon ICRS 291.212983 -29.245164 291.208763 -29.241918 291.212483 -29.238236 291.216703 -29.241482</td><td>21570367960.16103</td><td>A001:DA59 A007:DV09 A009:DV18 A015:DA61 A027:DV06 A069:DA55 A070:DA48 A071:DA52 A073:DV22 A074:DA47 A076:DV17 A078:DV08 A079:DA54 A084:DV04 A087:DV25 A090:DV24 A091:DA45 A092:DV14 A093:DV20 A094:DV19 A097:DA60 A098:DV05 A101:DA62 A102:DV03 A103:DV16 A104:DA58 A105:DV02 A110:DA41 A111:PM02 A116:DV07 A118:DV01 A120:DA44 A121:DV12 A122:DV11 A123:DA42 A125:DA53 A126:DV10 A127:DA49 A128:DV13 A129:DA46 A130:DV15 A132:DV23 A133:PM04 A135:DA57</td><td>F</td><td>1451.52</td><td>2018-11-14T13:06:20.000</td><td>[223.02..224.99GHz,62500.00kHz,543.9uJy/beam@10km/s,33.2uJy/beam@native, XX XY YX YY] U [225.02..226.99GHz,62500.00kHz,510.1uJy/beam@10km/s,31.3uJy/beam@native, XX XY YX YY] U [239.02..240.99GHz,62500.00kHz,538.5uJy/beam@10km/s,34.1uJy/beam@native, XX XY YX YY] U [241.02..242.99GHz,62500.00kHz,577uJy/beam@10km/s,36.7uJy/beam@native, XX XY YX YY]</td><td>77741.96641815234</td><td>/XX/XY/YX/YY/</td><td>17-08-2017</td><td>ALMA</td><td>w51e2_a_06_TM1</td><td>Yen, Hsi-Wei; Tang, Ya-Wen; Peretto, Nicolas; Ho, Paul; Duarte Cabral, Ana; Su, Yu-Nung;</td><td>0.5439435115396004</td><td>0.01683094579643642</td><td>0.2406161</td><td>uid://A001/X879/X8db</td><td>uid://A001/X879/X8dc</td><td>uid://A002/Xc37375/X171c</td><td>Resolving De-polarization and Magnetic Field Convergence Zones in W51</td><td>S</td><td>POLARIZATION WVR</td><td>0.00694181878951845</td><td>1.3710979855742602</td><td>T</td><td>Inter-Stellar Medium (ISM)/Molecular clouds</td><td>ISM and star formation</td></tr>\n",
       "<tr><td>2017.1.00101.S</td><td>J1924-2914</td><td>291.2127331499595</td><td>-29.241700294415562</td><td>9.344108478140743</td><td>-19.6068080487464</td><td>6</td><td>Polygon ICRS 291.214300 -29.244605 291.209404 -29.243067 291.211167 -29.238795 291.216062 -29.240333</td><td>144148898.39389554</td><td>A002:DA51 A007:DV05 A007:DV21 A008:DA46 A008:DV07 A010:DV13 A011:DV07 A015:DA64 A015:DV25 A016:DV11 A022:DV01 A022:DV23 A023:DA42 A024:DA58 A025:DA46 A027:DV06 A027:DV17 A033:DA49 A034:DA50 A035:DA43 A036:DA45 A040:DA55 A040:DA65 A042:DV05 A042:DV08 A043:DA42 A043:DA60 A044:DV03 A045:DA57 A045:DV01 A047:DV06 A047:DV15 A048:DV02 A058:DA41 A060:DA47 A060:DV17 A062:DV02 A066:DA54 A066:DV04 A068:DA65 A068:DV20 A069:DV16 A070:DA62 A072:DA53 A072:DV20 A073:DA51 A073:DA59 A074:DV09 A075:DA52 A075:DV18 A076:DA56 A076:DA63 A082:DA54 A083:DA59 A083:DV22 A085:DA48 A085:DA60 A086:DA58 A086:DV22 A087:DV03 A087:DV19 A088:DV11 A088:DV24 A089:DA56 A089:DV16 A090:DV13</td><td>F</td><td>1512.0</td><td>2023-04-12T00:00:00.000</td><td>[242.52..244.40GHz,1953.12kHz,1.5mJy/beam@10km/s,100.5uJy/beam@native, XX XY YX YY] U [244.52..246.40GHz,1953.12kHz,1.5mJy/beam@10km/s,100.6uJy/beam@native, XX XY YX YY] U [256.52..258.40GHz,1953.12kHz,1.5mJy/beam@10km/s,99.3uJy/beam@native, XX XY YX YY] U [260.10..260.33GHz,488.28kHz,1.5mJy/beam@10km/s,281.2uJy/beam@native, XX XY YX YY] U [261.06..261.30GHz,488.28kHz,1.5mJy/beam@10km/s,281.3uJy/beam@native, XX XY YX YY]</td><td>560.6411373508691</td><td>/XX/XY/YX/YY/</td><td>03-05-2019</td><td>ALMA</td><td>IRAS_181_a_06_TM1</td><td>Zhang, Qizhou; Nguyen Luong, Quang; Stephens, Ian; Hennebelle, Patrick; Sakai, Takeshi; Chen, Vivian; Nakamura, Fumitaka;  Li, Hua-bai; Saito, Toshiki; Silva, Andrea; Commercon, Benoit; Girart, Josep; Tang, Ya-Wen; Lu, Xing; Jackson, James; Wu, Benjamin; Koch, Patrick; Cortes, Paulo; Saigo, Kazuya; Contreras, Yanett; Tatematsu, Ken&apos;ichi;</td><td>1.461122384014625</td><td>0.05549481162064321</td><td>1.2273581</td><td>uid://A001/X12a3/X1ac</td><td>uid://A001/X12a3/X1ad</td><td>uid://A002/Xdbc154/Xa2d0</td><td>Magnetic Fields in High-Mass Star Formation</td><td>S</td><td>BANDPASS FLUX WVR</td><td>0.006420845997738862</td><td>5.372813267917464</td><td>T</td><td>High-mass star formation</td><td>ISM and star formation</td></tr>\n",
       "<tr><td>2017.1.00101.S</td><td>J1924-2914</td><td>291.2127331499595</td><td>-29.241700294415562</td><td>9.344108478140743</td><td>-19.6068080487464</td><td>6</td><td>Polygon ICRS 291.214300 -29.244605 291.209404 -29.243067 291.211167 -29.238795 291.216062 -29.240333</td><td>144148898.39389554</td><td>A002:DA51 A007:DV05 A007:DV21 A008:DA46 A008:DV07 A010:DV13 A011:DV07 A015:DA64 A015:DV25 A016:DV11 A022:DV01 A022:DV23 A023:DA42 A024:DA58 A025:DA46 A027:DV06 A027:DV17 A033:DA49 A034:DA50 A035:DA43 A036:DA45 A040:DA55 A040:DA65 A042:DV05 A042:DV08 A043:DA42 A043:DA60 A044:DV03 A045:DA57 A045:DV01 A047:DV06 A047:DV15 A048:DV02 A058:DA41 A060:DA47 A060:DV17 A062:DV02 A066:DA54 A066:DV04 A068:DA65 A068:DV20 A069:DV16 A070:DA62 A072:DA53 A072:DV20 A073:DA51 A073:DA59 A074:DV09 A075:DA52 A075:DV18 A076:DA56 A076:DA63 A082:DA54 A083:DA59 A083:DV22 A085:DA48 A085:DA60 A086:DA58 A086:DV22 A087:DV03 A087:DV19 A088:DV11 A088:DV24 A089:DA56 A089:DV16 A090:DV13</td><td>F</td><td>1512.0</td><td>2023-04-12T00:00:00.000</td><td>[242.52..244.40GHz,1953.12kHz,1.5mJy/beam@10km/s,100.5uJy/beam@native, XX XY YX YY] U [244.52..246.40GHz,1953.12kHz,1.5mJy/beam@10km/s,100.6uJy/beam@native, XX XY YX YY] U [256.52..258.40GHz,1953.12kHz,1.5mJy/beam@10km/s,99.3uJy/beam@native, XX XY YX YY] U [260.10..260.33GHz,488.28kHz,1.5mJy/beam@10km/s,281.2uJy/beam@native, XX XY YX YY] U [261.06..261.30GHz,488.28kHz,1.5mJy/beam@10km/s,281.3uJy/beam@native, XX XY YX YY]</td><td>560.6411373508691</td><td>/XX/XY/YX/YY/</td><td>03-05-2019</td><td>ALMA</td><td>IRAS_181_a_06_TM1</td><td>Zhang, Qizhou; Nguyen Luong, Quang; Stephens, Ian; Hennebelle, Patrick; Sakai, Takeshi; Chen, Vivian; Nakamura, Fumitaka;  Li, Hua-bai; Saito, Toshiki; Silva, Andrea; Commercon, Benoit; Girart, Josep; Tang, Ya-Wen; Lu, Xing; Jackson, James; Wu, Benjamin; Koch, Patrick; Cortes, Paulo; Saigo, Kazuya; Contreras, Yanett; Tatematsu, Ken&apos;ichi;</td><td>1.466616172559013</td><td>0.05549481162064321</td><td>1.2273581</td><td>uid://A001/X12a3/X1ac</td><td>uid://A001/X12a3/X1ad</td><td>uid://A002/Xdbc154/Xa2d0</td><td>Magnetic Fields in High-Mass Star Formation</td><td>S</td><td>BANDPASS FLUX WVR</td><td>0.006420845997738862</td><td>5.372813267917464</td><td>T</td><td>High-mass star formation</td><td>ISM and star formation</td></tr>\n",
       "<tr><td>2017.1.00101.S</td><td>J1924-2914</td><td>291.2127331499595</td><td>-29.241700294415562</td><td>9.344108478140743</td><td>-19.6068080487464</td><td>6</td><td>Polygon ICRS 291.214300 -29.244605 291.209404 -29.243067 291.211167 -29.238795 291.216062 -29.240333</td><td>144148898.39389554</td><td>A002:DA51 A007:DV05 A007:DV21 A008:DA46 A008:DV07 A010:DV13 A011:DV07 A015:DA64 A015:DV25 A016:DV11 A022:DV01 A022:DV23 A023:DA42 A024:DA58 A025:DA46 A027:DV06 A027:DV17 A033:DA49 A034:DA50 A035:DA43 A036:DA45 A040:DA55 A040:DA65 A042:DV05 A042:DV08 A043:DA42 A043:DA60 A044:DV03 A045:DA57 A045:DV01 A047:DV06 A047:DV15 A048:DV02 A058:DA41 A060:DA47 A060:DV17 A062:DV02 A066:DA54 A066:DV04 A068:DA65 A068:DV20 A069:DV16 A070:DA62 A072:DA53 A072:DV20 A073:DA51 A073:DA59 A074:DV09 A075:DA52 A075:DV18 A076:DA56 A076:DA63 A082:DA54 A083:DA59 A083:DV22 A085:DA48 A085:DA60 A086:DA58 A086:DV22 A087:DV03 A087:DV19 A088:DV11 A088:DV24 A089:DA56 A089:DV16 A090:DV13</td><td>F</td><td>1512.0</td><td>2023-04-12T00:00:00.000</td><td>[242.52..244.40GHz,1953.12kHz,1.5mJy/beam@10km/s,100.5uJy/beam@native, XX XY YX YY] U [244.52..246.40GHz,1953.12kHz,1.5mJy/beam@10km/s,100.6uJy/beam@native, XX XY YX YY] U [256.52..258.40GHz,1953.12kHz,1.5mJy/beam@10km/s,99.3uJy/beam@native, XX XY YX YY] U [260.10..260.33GHz,488.28kHz,1.5mJy/beam@10km/s,281.2uJy/beam@native, XX XY YX YY] U [261.06..261.30GHz,488.28kHz,1.5mJy/beam@10km/s,281.3uJy/beam@native, XX XY YX YY]</td><td>560.6411373508691</td><td>/XX/XY/YX/YY/</td><td>03-05-2019</td><td>ALMA</td><td>IRAS_181_a_06_TM1</td><td>Zhang, Qizhou; Nguyen Luong, Quang; Stephens, Ian; Hennebelle, Patrick; Sakai, Takeshi; Chen, Vivian; Nakamura, Fumitaka;  Li, Hua-bai; Saito, Toshiki; Silva, Andrea; Commercon, Benoit; Girart, Josep; Tang, Ya-Wen; Lu, Xing; Jackson, James; Wu, Benjamin; Koch, Patrick; Cortes, Paulo; Saigo, Kazuya; Contreras, Yanett; Tatematsu, Ken&apos;ichi;</td><td>1.5220047220712096</td><td>0.05549481162064321</td><td>1.2273581</td><td>uid://A001/X12a3/X1ac</td><td>uid://A001/X12a3/X1ad</td><td>uid://A002/Xdbc154/Xa2d0</td><td>Magnetic Fields in High-Mass Star Formation</td><td>S</td><td>BANDPASS FLUX WVR</td><td>0.006420845997738862</td><td>5.372813267917464</td><td>T</td><td>High-mass star formation</td><td>ISM and star formation</td></tr>\n",
       "<tr><td>2017.1.00101.S</td><td>J1924-2914</td><td>291.2127331499595</td><td>-29.241700294415562</td><td>9.344108478140743</td><td>-19.6068080487464</td><td>6</td><td>Polygon ICRS 291.214300 -29.244605 291.209404 -29.243067 291.211167 -29.238795 291.216062 -29.240333</td><td>144148898.39389554</td><td>A002:DA51 A007:DV05 A007:DV21 A008:DA46 A008:DV07 A010:DV13 A011:DV07 A015:DA64 A015:DV25 A016:DV11 A022:DV01 A022:DV23 A023:DA42 A024:DA58 A025:DA46 A027:DV06 A027:DV17 A033:DA49 A034:DA50 A035:DA43 A036:DA45 A040:DA55 A040:DA65 A042:DV05 A042:DV08 A043:DA42 A043:DA60 A044:DV03 A045:DA57 A045:DV01 A047:DV06 A047:DV15 A048:DV02 A058:DA41 A060:DA47 A060:DV17 A062:DV02 A066:DA54 A066:DV04 A068:DA65 A068:DV20 A069:DV16 A070:DA62 A072:DA53 A072:DV20 A073:DA51 A073:DA59 A074:DV09 A075:DA52 A075:DV18 A076:DA56 A076:DA63 A082:DA54 A083:DA59 A083:DV22 A085:DA48 A085:DA60 A086:DA58 A086:DV22 A087:DV03 A087:DV19 A088:DV11 A088:DV24 A089:DA56 A089:DV16 A090:DV13</td><td>F</td><td>1512.0</td><td>2023-04-12T00:00:00.000</td><td>[242.52..244.40GHz,1953.12kHz,1.5mJy/beam@10km/s,100.5uJy/beam@native, XX XY YX YY] U [244.52..246.40GHz,1953.12kHz,1.5mJy/beam@10km/s,100.6uJy/beam@native, XX XY YX YY] U [256.52..258.40GHz,1953.12kHz,1.5mJy/beam@10km/s,99.3uJy/beam@native, XX XY YX YY] U [260.10..260.33GHz,488.28kHz,1.5mJy/beam@10km/s,281.2uJy/beam@native, XX XY YX YY] U [261.06..261.30GHz,488.28kHz,1.5mJy/beam@10km/s,281.3uJy/beam@native, XX XY YX YY]</td><td>560.6411373508691</td><td>/XX/XY/YX/YY/</td><td>03-05-2019</td><td>ALMA</td><td>IRAS_181_a_06_TM1</td><td>Zhang, Qizhou; Nguyen Luong, Quang; Stephens, Ian; Hennebelle, Patrick; Sakai, Takeshi; Chen, Vivian; Nakamura, Fumitaka;  Li, Hua-bai; Saito, Toshiki; Silva, Andrea; Commercon, Benoit; Girart, Josep; Tang, Ya-Wen; Lu, Xing; Jackson, James; Wu, Benjamin; Koch, Patrick; Cortes, Paulo; Saigo, Kazuya; Contreras, Yanett; Tatematsu, Ken&apos;ichi;</td><td>1.459221117870256</td><td>0.05549481162064321</td><td>1.2273581</td><td>uid://A001/X12a3/X1ac</td><td>uid://A001/X12a3/X1ad</td><td>uid://A002/Xdbc154/Xa2d0</td><td>Magnetic Fields in High-Mass Star Formation</td><td>S</td><td>BANDPASS FLUX WVR</td><td>0.006420845997738862</td><td>5.372813267917464</td><td>T</td><td>High-mass star formation</td><td>ISM and star formation</td></tr>\n",
       "<tr><td>2017.1.00101.S</td><td>J1924-2914</td><td>291.2127331499595</td><td>-29.241700294415562</td><td>9.344108478140743</td><td>-19.6068080487464</td><td>6</td><td>Polygon ICRS 291.214300 -29.244605 291.209404 -29.243067 291.211167 -29.238795 291.216062 -29.240333</td><td>144148898.39389554</td><td>A002:DA51 A007:DV05 A007:DV21 A008:DA46 A008:DV07 A010:DV13 A011:DV07 A015:DA64 A015:DV25 A016:DV11 A022:DV01 A022:DV23 A023:DA42 A024:DA58 A025:DA46 A027:DV06 A027:DV17 A033:DA49 A034:DA50 A035:DA43 A036:DA45 A040:DA55 A040:DA65 A042:DV05 A042:DV08 A043:DA42 A043:DA60 A044:DV03 A045:DA57 A045:DV01 A047:DV06 A047:DV15 A048:DV02 A058:DA41 A060:DA47 A060:DV17 A062:DV02 A066:DA54 A066:DV04 A068:DA65 A068:DV20 A069:DV16 A070:DA62 A072:DA53 A072:DV20 A073:DA51 A073:DA59 A074:DV09 A075:DA52 A075:DV18 A076:DA56 A076:DA63 A082:DA54 A083:DA59 A083:DV22 A085:DA48 A085:DA60 A086:DA58 A086:DV22 A087:DV03 A087:DV19 A088:DV11 A088:DV24 A089:DA56 A089:DV16 A090:DV13</td><td>F</td><td>1512.0</td><td>2023-04-12T00:00:00.000</td><td>[242.52..244.40GHz,1953.12kHz,1.5mJy/beam@10km/s,100.5uJy/beam@native, XX XY YX YY] U [244.52..246.40GHz,1953.12kHz,1.5mJy/beam@10km/s,100.6uJy/beam@native, XX XY YX YY] U [256.52..258.40GHz,1953.12kHz,1.5mJy/beam@10km/s,99.3uJy/beam@native, XX XY YX YY] U [260.10..260.33GHz,488.28kHz,1.5mJy/beam@10km/s,281.2uJy/beam@native, XX XY YX YY] U [261.06..261.30GHz,488.28kHz,1.5mJy/beam@10km/s,281.3uJy/beam@native, XX XY YX YY]</td><td>560.6411373508691</td><td>/XX/XY/YX/YY/</td><td>03-05-2019</td><td>ALMA</td><td>IRAS_181_a_06_TM1</td><td>Zhang, Qizhou; Nguyen Luong, Quang; Stephens, Ian; Hennebelle, Patrick; Sakai, Takeshi; Chen, Vivian; Nakamura, Fumitaka;  Li, Hua-bai; Saito, Toshiki; Silva, Andrea; Commercon, Benoit; Girart, Josep; Tang, Ya-Wen; Lu, Xing; Jackson, James; Wu, Benjamin; Koch, Patrick; Cortes, Paulo; Saigo, Kazuya; Contreras, Yanett; Tatematsu, Ken&apos;ichi;</td><td>1.5266025505891023</td><td>0.05549481162064321</td><td>1.2273581</td><td>uid://A001/X12a3/X1ac</td><td>uid://A001/X12a3/X1ad</td><td>uid://A002/Xdbc154/Xa2d0</td><td>Magnetic Fields in High-Mass Star Formation</td><td>S</td><td>BANDPASS FLUX WVR</td><td>0.006420845997738862</td><td>5.372813267917464</td><td>T</td><td>High-mass star formation</td><td>ISM and star formation</td></tr>\n",
       "<tr><td>...</td><td>...</td><td>...</td><td>...</td><td>...</td><td>...</td><td>...</td><td>...</td><td>...</td><td>...</td><td>...</td><td>...</td><td>...</td><td>...</td><td>...</td><td>...</td><td>...</td><td>...</td><td>...</td><td>...</td><td>...</td><td>...</td><td>...</td><td>...</td><td>...</td><td>...</td><td>...</td><td>...</td><td>...</td><td>...</td><td>...</td><td>...</td><td>...</td><td>...</td></tr>\n",
       "<tr><td>2017.1.01632.S</td><td>J1924-2914</td><td>291.2127331541579</td><td>-29.241700286116682</td><td>9.344108487757373</td><td>-19.60680804922202</td><td>3</td><td>Polygon ICRS 291.213925 -29.249931 291.207144 -29.248412 291.203300 -29.242740 291.205408 -29.236412 291.211542 -29.233469 291.218321 -29.234988 291.222166 -29.240660 291.220060 -29.246988</td><td>123217863959.43607</td><td>A001:DV07 A002:DA46 A003:DV12 A006:DA61 A007:DV05 A008:DA42 A010:DA50 A011:DV21 A016:DA44 A017:DA56 A019:DA58 A022:DV23 A023:DA41 A024:DA49 A025:DV02 A026:DA57 A027:DV06 A033:DA53 A034:DA55 A035:DA47 A036:DA45 A039:DV14 A040:DA51 A041:DV19 A042:DV08 A043:DA60 A044:DV11 A045:DV01 A047:DV15 A048:DA62 A058:DA43 A060:DV17 A068:DA65 A069:DV16 A070:DV22 A072:DV20 A073:DA54 A074:DV09 A075:DA52 A076:DA59 A082:DV24 A083:DA48 A085:DA63 A088:DV04</td><td>F</td><td>1209.6</td><td>2019-06-06T18:00:02.000</td><td>[89.50..91.47GHz,62500.00kHz,1.1mJy/beam@10km/s,43.1uJy/beam@native, XX XY YX YY] U [91.44..93.40GHz,62500.00kHz,1.1mJy/beam@10km/s,43.8uJy/beam@native, XX XY YX YY] U [101.50..103.47GHz,62500.00kHz,1.1mJy/beam@10km/s,45.7uJy/beam@native, XX XY YX YY] U [103.50..105.47GHz,62500.00kHz,1.1mJy/beam@10km/s,46.2uJy/beam@native, XX XY YX YY]</td><td>181016.25371219456</td><td>/XX/XY/YX/YY/</td><td>27-04-2018</td><td>ALMA</td><td>g34mm1_a_03_TM1</td><td>Yen, Hsi-Wei; Peretto, Nicolas; Tang, Ya-Wen; Chou, Hsuan-Gu; Duarte Cabral, Ana;</td><td>1.1045482547091816</td><td>0.022327271691348405</td><td>1.5014945</td><td>uid://A001/X1288/X229</td><td>uid://A001/X1288/X22a</td><td>uid://A002/Xcc8b19/X7ab4</td><td>Gravity vs B-field in massive-star forming clouds: Who is in the driving seat?</td><td>S</td><td>POLARIZATION WVR</td><td>0.016592598315822635</td><td>20.061446833324304</td><td>T</td><td>Pre-stellar cores, Infra-Red Dark Clouds (IRDC)</td><td>ISM and star formation</td></tr>\n",
       "<tr><td>2017.1.01632.S</td><td>J1924-2914</td><td>291.2127331541579</td><td>-29.241700286116682</td><td>9.344108487757373</td><td>-19.60680804922202</td><td>3</td><td>Polygon ICRS 291.213925 -29.249931 291.207144 -29.248412 291.203300 -29.242740 291.205408 -29.236412 291.211542 -29.233469 291.218321 -29.234988 291.222166 -29.240660 291.220060 -29.246988</td><td>123217863959.43607</td><td>A001:DV07 A002:DA46 A003:DV12 A006:DA61 A007:DV05 A008:DA42 A010:DA50 A011:DV21 A016:DA44 A017:DA56 A019:DA58 A022:DV23 A023:DA41 A024:DA49 A025:DV02 A026:DA57 A027:DV06 A033:DA53 A034:DA55 A035:DA47 A036:DA45 A039:DV14 A040:DA51 A041:DV19 A042:DV08 A043:DA60 A044:DV11 A045:DV01 A047:DV15 A048:DA62 A058:DA43 A060:DV17 A068:DA65 A069:DV16 A070:DV22 A072:DV20 A073:DA54 A074:DV09 A075:DA52 A076:DA59 A082:DV24 A083:DA48 A085:DA63 A088:DV04</td><td>F</td><td>1209.6</td><td>2019-06-06T18:00:02.000</td><td>[89.50..91.47GHz,62500.00kHz,1.1mJy/beam@10km/s,43.1uJy/beam@native, XX XY YX YY] U [91.44..93.40GHz,62500.00kHz,1.1mJy/beam@10km/s,43.8uJy/beam@native, XX XY YX YY] U [101.50..103.47GHz,62500.00kHz,1.1mJy/beam@10km/s,45.7uJy/beam@native, XX XY YX YY] U [103.50..105.47GHz,62500.00kHz,1.1mJy/beam@10km/s,46.2uJy/beam@native, XX XY YX YY]</td><td>181016.25371219456</td><td>/XX/XY/YX/YY/</td><td>27-04-2018</td><td>ALMA</td><td>g34mm1_a_03_TM1</td><td>Yen, Hsi-Wei; Peretto, Nicolas; Tang, Ya-Wen; Chou, Hsuan-Gu; Duarte Cabral, Ana;</td><td>1.106415838228706</td><td>0.022327271691348405</td><td>1.5014945</td><td>uid://A001/X1288/X229</td><td>uid://A001/X1288/X22a</td><td>uid://A002/Xcc8b19/X7ab4</td><td>Gravity vs B-field in massive-star forming clouds: Who is in the driving seat?</td><td>S</td><td>POLARIZATION WVR</td><td>0.016592598315822635</td><td>20.061446833324304</td><td>T</td><td>Pre-stellar cores, Infra-Red Dark Clouds (IRDC)</td><td>ISM and star formation</td></tr>\n",
       "<tr><td>2013.1.00291.S</td><td>J1924-2914</td><td>291.21273316683335</td><td>-29.24170027778889</td><td>9.344108500192618</td><td>-19.60680805660142</td><td>6</td><td>Polygon ICRS 291.212983 -29.238236 291.216703 -29.241918 291.212483 -29.245164 291.208763 -29.241482</td><td>21569634354.82726</td><td>A007:DV09 A011:DV04 A015:DV18 A021:DA59 A029:DA49 A058:DA46 A060:DA55 A072:DV01 A073:DA63 A076:DV13 A077:DV16 A078:DV15 A080:DV24 A082:DA42 A083:DV25 A085:DA51 A086:DV14 A089:DA60 A093:DV21 A094:DV02 A096:DV10 A097:DA62 A101:DA47 A103:DV03 A105:DA52 A107:DA64 A110:DV22 A112:DV07 A113:DA57 A114:DA53 A115:DV11 A116:DV19 A118:DV05 A119:DV06 A136:DV17</td><td>F</td><td>604.8</td><td>2018-12-28T00:00:00.000</td><td>[223.03..225.00GHz,62500.00kHz,1.8mJy/beam@10km/s,110uJy/beam@native, XX XY YX YY] U [225.03..227.00GHz,62500.00kHz,1.7mJy/beam@10km/s,106.9uJy/beam@native, XX XY YX YY] U [239.03..241.00GHz,62500.00kHz,1.8mJy/beam@10km/s,116.9uJy/beam@native, XX XY YX YY] U [241.03..243.00GHz,62500.00kHz,2mJy/beam@10km/s,124.7uJy/beam@native, XX XY YX YY]</td><td>77112.07202109188</td><td>/XX/XY/YX/YY/</td><td>19-09-2015</td><td>ALMA</td><td>BHB07-10_a_06_TE</td><td>Frau, Pau; Girart, Josep; Hezareh, Talayeh; Galli, Daniele; Wiesemeyer, Helmut; Franco, Gabriel; Hacar, Alvaro; Vlemmings, Wouter;</td><td>1.9625988340883602</td><td>0.05701377935602073</td><td>1.5729015</td><td>uid://A001/X13b/X16a</td><td>uid://A001/X13b/X16b</td><td>uid://A002/Xaa5cf7/X3e00</td><td>The emergent low-mass cluster B59: how to beat magnetic fields</td><td>S</td><td>BANDPASS WVR</td><td>0.006941582945551564</td><td>1.8919016396750807</td><td>T</td><td>Low-mass star formation</td><td>ISM and star formation</td></tr>\n",
       "<tr><td>2013.1.00291.S</td><td>J1924-2914</td><td>291.21273316683335</td><td>-29.24170027778889</td><td>9.344108500192618</td><td>-19.60680805660142</td><td>6</td><td>Polygon ICRS 291.212983 -29.238236 291.216703 -29.241918 291.212483 -29.245164 291.208763 -29.241482</td><td>21569634354.82726</td><td>A007:DV09 A011:DV04 A015:DV18 A021:DA59 A029:DA49 A058:DA46 A060:DA55 A072:DV01 A073:DA63 A076:DV13 A077:DV16 A078:DV15 A080:DV24 A082:DA42 A083:DV25 A085:DA51 A086:DV14 A089:DA60 A093:DV21 A094:DV02 A096:DV10 A097:DA62 A101:DA47 A103:DV03 A105:DA52 A107:DA64 A110:DV22 A112:DV07 A113:DA57 A114:DA53 A115:DV11 A116:DV19 A118:DV05 A119:DV06 A136:DV17</td><td>F</td><td>604.8</td><td>2018-12-28T00:00:00.000</td><td>[223.03..225.00GHz,62500.00kHz,1.8mJy/beam@10km/s,110uJy/beam@native, XX XY YX YY] U [225.03..227.00GHz,62500.00kHz,1.7mJy/beam@10km/s,106.9uJy/beam@native, XX XY YX YY] U [239.03..241.00GHz,62500.00kHz,1.8mJy/beam@10km/s,116.9uJy/beam@native, XX XY YX YY] U [241.03..243.00GHz,62500.00kHz,2mJy/beam@10km/s,124.7uJy/beam@native, XX XY YX YY]</td><td>77112.07202109188</td><td>/XX/XY/YX/YY/</td><td>19-09-2015</td><td>ALMA</td><td>BHB07-10_a_06_TE</td><td>Frau, Pau; Girart, Josep; Hezareh, Talayeh; Galli, Daniele; Wiesemeyer, Helmut; Franco, Gabriel; Hacar, Alvaro; Vlemmings, Wouter;</td><td>1.799924809509329</td><td>0.05701377935602073</td><td>1.5729015</td><td>uid://A001/X13b/X16a</td><td>uid://A001/X13b/X16b</td><td>uid://A002/Xaa5cf7/X3e00</td><td>The emergent low-mass cluster B59: how to beat magnetic fields</td><td>S</td><td>BANDPASS WVR</td><td>0.006941582945551564</td><td>1.8919016396750807</td><td>T</td><td>Low-mass star formation</td><td>ISM and star formation</td></tr>\n",
       "<tr><td>2013.1.00291.S</td><td>J1924-2914</td><td>291.21273316683335</td><td>-29.24170027778889</td><td>9.344108500192618</td><td>-19.60680805660142</td><td>6</td><td>Polygon ICRS 291.212983 -29.238236 291.216703 -29.241918 291.212483 -29.245164 291.208763 -29.241482</td><td>21569634354.82726</td><td>A007:DV09 A011:DV04 A015:DV18 A021:DA59 A029:DA49 A058:DA46 A060:DA55 A072:DV01 A073:DA63 A076:DV13 A077:DV16 A078:DV15 A080:DV24 A082:DA42 A083:DV25 A085:DA51 A086:DV14 A089:DA60 A093:DV21 A094:DV02 A096:DV10 A097:DA62 A101:DA47 A103:DV03 A105:DA52 A107:DA64 A110:DV22 A112:DV07 A113:DA57 A114:DA53 A115:DV11 A116:DV19 A118:DV05 A119:DV06 A136:DV17</td><td>F</td><td>604.8</td><td>2018-12-28T00:00:00.000</td><td>[223.03..225.00GHz,62500.00kHz,1.8mJy/beam@10km/s,110uJy/beam@native, XX XY YX YY] U [225.03..227.00GHz,62500.00kHz,1.7mJy/beam@10km/s,106.9uJy/beam@native, XX XY YX YY] U [239.03..241.00GHz,62500.00kHz,1.8mJy/beam@10km/s,116.9uJy/beam@native, XX XY YX YY] U [241.03..243.00GHz,62500.00kHz,2mJy/beam@10km/s,124.7uJy/beam@native, XX XY YX YY]</td><td>77112.07202109188</td><td>/XX/XY/YX/YY/</td><td>19-09-2015</td><td>ALMA</td><td>BHB07-10_a_06_TE</td><td>Frau, Pau; Girart, Josep; Hezareh, Talayeh; Galli, Daniele; Wiesemeyer, Helmut; Franco, Gabriel; Hacar, Alvaro; Vlemmings, Wouter;</td><td>1.7404183432462565</td><td>0.05701377935602073</td><td>1.5729015</td><td>uid://A001/X13b/X16a</td><td>uid://A001/X13b/X16b</td><td>uid://A002/Xaa5cf7/X3e00</td><td>The emergent low-mass cluster B59: how to beat magnetic fields</td><td>S</td><td>BANDPASS WVR</td><td>0.006941582945551564</td><td>1.8919016396750807</td><td>T</td><td>Low-mass star formation</td><td>ISM and star formation</td></tr>\n",
       "<tr><td>2013.1.00291.S</td><td>J1924-2914</td><td>291.21273316683335</td><td>-29.24170027778889</td><td>9.344108500192618</td><td>-19.60680805660142</td><td>6</td><td>Polygon ICRS 291.212983 -29.238236 291.216703 -29.241918 291.212483 -29.245164 291.208763 -29.241482</td><td>21569634354.82726</td><td>A007:DV09 A011:DV04 A015:DV18 A021:DA59 A029:DA49 A058:DA46 A060:DA55 A072:DV01 A073:DA63 A076:DV13 A077:DV16 A078:DV15 A080:DV24 A082:DA42 A083:DV25 A085:DA51 A086:DV14 A089:DA60 A093:DV21 A094:DV02 A096:DV10 A097:DA62 A101:DA47 A103:DV03 A105:DA52 A107:DA64 A110:DV22 A112:DV07 A113:DA57 A114:DA53 A115:DV11 A116:DV19 A118:DV05 A119:DV06 A136:DV17</td><td>F</td><td>604.8</td><td>2018-12-28T00:00:00.000</td><td>[223.03..225.00GHz,62500.00kHz,1.8mJy/beam@10km/s,110uJy/beam@native, XX XY YX YY] U [225.03..227.00GHz,62500.00kHz,1.7mJy/beam@10km/s,106.9uJy/beam@native, XX XY YX YY] U [239.03..241.00GHz,62500.00kHz,1.8mJy/beam@10km/s,116.9uJy/beam@native, XX XY YX YY] U [241.03..243.00GHz,62500.00kHz,2mJy/beam@10km/s,124.7uJy/beam@native, XX XY YX YY]</td><td>77112.07202109188</td><td>/XX/XY/YX/YY/</td><td>19-09-2015</td><td>ALMA</td><td>BHB07-10_a_06_TE</td><td>Frau, Pau; Girart, Josep; Hezareh, Talayeh; Galli, Daniele; Wiesemeyer, Helmut; Franco, Gabriel; Hacar, Alvaro; Vlemmings, Wouter;</td><td>1.8483569994299949</td><td>0.05701377935602073</td><td>1.5729015</td><td>uid://A001/X13b/X16a</td><td>uid://A001/X13b/X16b</td><td>uid://A002/Xaa5cf7/X3e00</td><td>The emergent low-mass cluster B59: how to beat magnetic fields</td><td>S</td><td>BANDPASS WVR</td><td>0.006941582945551564</td><td>1.8919016396750807</td><td>T</td><td>Low-mass star formation</td><td>ISM and star formation</td></tr>\n",
       "<tr><td>2019.1.00146.S</td><td>J1924-2914</td><td>291.2127331500175</td><td>-29.241700294409686</td><td>9.344108478165651</td><td>-19.606808048791624</td><td>3</td><td>Polygon ICRS 291.220978 -29.237745 291.221847 -29.243742 291.217266 -29.248895 291.210393 -29.249652 291.204488 -29.245655 291.203785 -29.239163 291.208201 -29.234506 291.215073 -29.233748</td><td>117848060.80508514</td><td>A001:DA48 A003:DV23 A004:DA56 A005:DV22 A006:DV13 A007:DV21 A008:DA46 A010:DV15 A011:DV07 A013:DV11 A015:DV25 A016:DV24 A017:DV14 A019:DA61 A023:DV12 A024:DA58 A025:DV10 A026:DV18 A027:DV17 A028:DA59 A030:DA52 A031:DA62 A034:DV08 A035:DA43 A036:DA64 A038:DA60 A039:DV16 A040:DA65 A041:DV04 A042:DV05 A043:DA42 A044:DA55 A045:DA57 A046:DA51 A047:DV06 A048:DA50 A049:DA63 A058:DA41 A060:DA47 A062:DV02 A066:DA54 A068:DV20 A069:DA45 A072:DA53 A074:DV09</td><td>F</td><td>1693.44</td><td>2022-10-14T22:26:19.000</td><td>[91.97..92.44GHz,564.45kHz,1.4mJy/beam@10km/s,114.4uJy/beam@native, XX XY YX YY] U [93.15..93.21GHz,61.04kHz,1.4mJy/beam@10km/s,318.8uJy/beam@native, XX XY YX YY] U [101.64..103.61GHz,62500.00kHz,1.4mJy/beam@10km/s,57.4uJy/beam@native, XX XY YX YY] U [103.08..105.05GHz,62500.00kHz,1.4mJy/beam@10km/s,58.7uJy/beam@native, XX XY YX YY]</td><td>196.31074097165427</td><td>/XX/XY/YX/YY/</td><td>01-01-2020</td><td>ALMA</td><td>clump1_a_03_TM1</td><td>Bertrang, Gesa; Sanhueza, Patricio; Wu, Benjamin;  Li, Hua-bai; Stutz, Amelia;</td><td>1.3843061419068146</td><td>0.038336025173175546</td><td>6.0306263</td><td>uid://A001/X1465/X3855</td><td>uid://A001/X1465/X3856</td><td>uid://A002/Xe5ed76/X19539</td><td>A turning point in our understanding of filamentary high-mass star formation: the dynamical role of the B-field</td><td>S</td><td>POLARIZATION WVR</td><td>0.016419710755594313</td><td>28.3473365976046</td><td>F</td><td>High-mass star formation, Inter-Stellar Medium (ISM)/Molecular clouds</td><td>ISM and star formation</td></tr>\n",
       "<tr><td>2019.1.00146.S</td><td>J1924-2914</td><td>291.2127331500175</td><td>-29.241700294409686</td><td>9.344108478165651</td><td>-19.606808048791624</td><td>3</td><td>Polygon ICRS 291.220978 -29.237745 291.221847 -29.243742 291.217266 -29.248895 291.210393 -29.249652 291.204488 -29.245655 291.203785 -29.239163 291.208201 -29.234506 291.215073 -29.233748</td><td>117848060.80508514</td><td>A001:DA48 A003:DV23 A004:DA56 A005:DV22 A006:DV13 A007:DV21 A008:DA46 A010:DV15 A011:DV07 A013:DV11 A015:DV25 A016:DV24 A017:DV14 A019:DA61 A023:DV12 A024:DA58 A025:DV10 A026:DV18 A027:DV17 A028:DA59 A030:DA52 A031:DA62 A034:DV08 A035:DA43 A036:DA64 A038:DA60 A039:DV16 A040:DA65 A041:DV04 A042:DV05 A043:DA42 A044:DA55 A045:DA57 A046:DA51 A047:DV06 A048:DA50 A049:DA63 A058:DA41 A060:DA47 A062:DV02 A066:DA54 A068:DV20 A069:DA45 A072:DA53 A074:DV09</td><td>F</td><td>1693.44</td><td>2022-10-14T22:26:19.000</td><td>[91.97..92.44GHz,564.45kHz,1.4mJy/beam@10km/s,114.4uJy/beam@native, XX XY YX YY] U [93.15..93.21GHz,61.04kHz,1.4mJy/beam@10km/s,318.8uJy/beam@native, XX XY YX YY] U [101.64..103.61GHz,62500.00kHz,1.4mJy/beam@10km/s,57.4uJy/beam@native, XX XY YX YY] U [103.08..105.05GHz,62500.00kHz,1.4mJy/beam@10km/s,58.7uJy/beam@native, XX XY YX YY]</td><td>196.31074097165427</td><td>/XX/XY/YX/YY/</td><td>01-01-2020</td><td>ALMA</td><td>clump1_a_03_TM1</td><td>Bertrang, Gesa; Sanhueza, Patricio; Wu, Benjamin;  Li, Hua-bai; Stutz, Amelia;</td><td>1.4120993624819578</td><td>0.038336025173175546</td><td>6.0306263</td><td>uid://A001/X1465/X3855</td><td>uid://A001/X1465/X3856</td><td>uid://A002/Xe5ed76/X19539</td><td>A turning point in our understanding of filamentary high-mass star formation: the dynamical role of the B-field</td><td>S</td><td>POLARIZATION WVR</td><td>0.016419710755594313</td><td>28.3473365976046</td><td>F</td><td>High-mass star formation, Inter-Stellar Medium (ISM)/Molecular clouds</td><td>ISM and star formation</td></tr>\n",
       "<tr><td>2019.1.00146.S</td><td>J1924-2914</td><td>291.2127331500175</td><td>-29.241700294409686</td><td>9.344108478165651</td><td>-19.606808048791624</td><td>3</td><td>Polygon ICRS 291.220978 -29.237745 291.221847 -29.243742 291.217266 -29.248895 291.210393 -29.249652 291.204488 -29.245655 291.203785 -29.239163 291.208201 -29.234506 291.215073 -29.233748</td><td>117848060.80508514</td><td>A001:DA48 A003:DV23 A004:DA56 A005:DV22 A006:DV13 A007:DV21 A008:DA46 A010:DV15 A011:DV07 A013:DV11 A015:DV25 A016:DV24 A017:DV14 A019:DA61 A023:DV12 A024:DA58 A025:DV10 A026:DV18 A027:DV17 A028:DA59 A030:DA52 A031:DA62 A034:DV08 A035:DA43 A036:DA64 A038:DA60 A039:DV16 A040:DA65 A041:DV04 A042:DV05 A043:DA42 A044:DA55 A045:DA57 A046:DA51 A047:DV06 A048:DA50 A049:DA63 A058:DA41 A060:DA47 A062:DV02 A066:DA54 A068:DV20 A069:DA45 A072:DA53 A074:DV09</td><td>F</td><td>1693.44</td><td>2022-10-14T22:26:19.000</td><td>[91.97..92.44GHz,564.45kHz,1.4mJy/beam@10km/s,114.4uJy/beam@native, XX XY YX YY] U [93.15..93.21GHz,61.04kHz,1.4mJy/beam@10km/s,318.8uJy/beam@native, XX XY YX YY] U [101.64..103.61GHz,62500.00kHz,1.4mJy/beam@10km/s,57.4uJy/beam@native, XX XY YX YY] U [103.08..105.05GHz,62500.00kHz,1.4mJy/beam@10km/s,58.7uJy/beam@native, XX XY YX YY]</td><td>196.31074097165427</td><td>/XX/XY/YX/YY/</td><td>01-01-2020</td><td>ALMA</td><td>clump1_a_03_TM1</td><td>Bertrang, Gesa; Sanhueza, Patricio; Wu, Benjamin;  Li, Hua-bai; Stutz, Amelia;</td><td>1.3868802621848988</td><td>0.038336025173175546</td><td>6.0306263</td><td>uid://A001/X1465/X3855</td><td>uid://A001/X1465/X3856</td><td>uid://A002/Xe5ed76/X19539</td><td>A turning point in our understanding of filamentary high-mass star formation: the dynamical role of the B-field</td><td>S</td><td>POLARIZATION WVR</td><td>0.016419710755594313</td><td>28.3473365976046</td><td>F</td><td>High-mass star formation, Inter-Stellar Medium (ISM)/Molecular clouds</td><td>ISM and star formation</td></tr>\n",
       "<tr><td>2019.1.00146.S</td><td>J1924-2914</td><td>291.2127331500175</td><td>-29.241700294409686</td><td>9.344108478165651</td><td>-19.606808048791624</td><td>3</td><td>Polygon ICRS 291.220978 -29.237745 291.221847 -29.243742 291.217266 -29.248895 291.210393 -29.249652 291.204488 -29.245655 291.203785 -29.239163 291.208201 -29.234506 291.215073 -29.233748</td><td>117848060.80508514</td><td>A001:DA48 A003:DV23 A004:DA56 A005:DV22 A006:DV13 A007:DV21 A008:DA46 A010:DV15 A011:DV07 A013:DV11 A015:DV25 A016:DV24 A017:DV14 A019:DA61 A023:DV12 A024:DA58 A025:DV10 A026:DV18 A027:DV17 A028:DA59 A030:DA52 A031:DA62 A034:DV08 A035:DA43 A036:DA64 A038:DA60 A039:DV16 A040:DA65 A041:DV04 A042:DV05 A043:DA42 A044:DA55 A045:DA57 A046:DA51 A047:DV06 A048:DA50 A049:DA63 A058:DA41 A060:DA47 A062:DV02 A066:DA54 A068:DV20 A069:DA45 A072:DA53 A074:DV09</td><td>F</td><td>1693.44</td><td>2022-10-14T22:26:19.000</td><td>[91.97..92.44GHz,564.45kHz,1.4mJy/beam@10km/s,114.4uJy/beam@native, XX XY YX YY] U [93.15..93.21GHz,61.04kHz,1.4mJy/beam@10km/s,318.8uJy/beam@native, XX XY YX YY] U [101.64..103.61GHz,62500.00kHz,1.4mJy/beam@10km/s,57.4uJy/beam@native, XX XY YX YY] U [103.08..105.05GHz,62500.00kHz,1.4mJy/beam@10km/s,58.7uJy/beam@native, XX XY YX YY]</td><td>196.31074097165427</td><td>/XX/XY/YX/YY/</td><td>01-01-2020</td><td>ALMA</td><td>clump1_a_03_TM1</td><td>Bertrang, Gesa; Sanhueza, Patricio; Wu, Benjamin;  Li, Hua-bai; Stutz, Amelia;</td><td>1.4085394465518557</td><td>0.038336025173175546</td><td>6.0306263</td><td>uid://A001/X1465/X3855</td><td>uid://A001/X1465/X3856</td><td>uid://A002/Xe5ed76/X19539</td><td>A turning point in our understanding of filamentary high-mass star formation: the dynamical role of the B-field</td><td>S</td><td>POLARIZATION WVR</td><td>0.016419710755594313</td><td>28.3473365976046</td><td>F</td><td>High-mass star formation, Inter-Stellar Medium (ISM)/Molecular clouds</td><td>ISM and star formation</td></tr>\n",
       "</table>"
      ],
      "text/plain": [
       "<Table length=261>\n",
       " Project code  Source name ...  Scientific category  \n",
       "                           ...                       \n",
       "   bytes64       bytes256  ...        bytes200       \n",
       "-------------- ----------- ... ----------------------\n",
       "2016.1.01484.S  J1924-2914 ... ISM and star formation\n",
       "2016.1.01484.S  J1924-2914 ... ISM and star formation\n",
       "2016.1.01484.S  J1924-2914 ... ISM and star formation\n",
       "2016.1.01484.S  J1924-2914 ... ISM and star formation\n",
       "2017.1.00101.S  J1924-2914 ... ISM and star formation\n",
       "2017.1.00101.S  J1924-2914 ... ISM and star formation\n",
       "2017.1.00101.S  J1924-2914 ... ISM and star formation\n",
       "2017.1.00101.S  J1924-2914 ... ISM and star formation\n",
       "2017.1.00101.S  J1924-2914 ... ISM and star formation\n",
       "           ...         ... ...                    ...\n",
       "2017.1.01632.S  J1924-2914 ... ISM and star formation\n",
       "2017.1.01632.S  J1924-2914 ... ISM and star formation\n",
       "2013.1.00291.S  J1924-2914 ... ISM and star formation\n",
       "2013.1.00291.S  J1924-2914 ... ISM and star formation\n",
       "2013.1.00291.S  J1924-2914 ... ISM and star formation\n",
       "2013.1.00291.S  J1924-2914 ... ISM and star formation\n",
       "2019.1.00146.S  J1924-2914 ... ISM and star formation\n",
       "2019.1.00146.S  J1924-2914 ... ISM and star formation\n",
       "2019.1.00146.S  J1924-2914 ... ISM and star formation\n",
       "2019.1.00146.S  J1924-2914 ... ISM and star formation"
      ]
     },
     "execution_count": 24,
     "metadata": {},
     "output_type": "execute_result"
    }
   ],
   "source": [
    "data_table"
   ]
  },
  {
   "cell_type": "code",
   "execution_count": 5,
   "id": "dc2bf6c7",
   "metadata": {
    "scrolled": true
   },
   "outputs": [
    {
     "data": {
      "text/html": [
       "<i>QTable length=4</i>\n",
       "<table id=\"table139651111326720-635027\" class=\"table-striped table-bordered table-condensed\">\n",
       "<thead><tr><th>idx</th><th>obs_id</th><th>member_ous_uid</th><th>Obs_date</th><th>Change_PA</th><th>Init_PA</th><th>End_PA</th></tr></thead>\n",
       "<thead><tr><th></th><th></th><th></th><th></th><th>deg</th><th>deg</th><th>deg</th></tr></thead>\n",
       "<tr><td>0</td><td>uid://A001/X1590/X2a76.source.J1924-2914.spw.20</td><td>uid://A001/X1590/X2a76</td><td>10-04-2022</td><td>2.189957255733546</td><td>109.7459299719308</td><td>111.93588722766435</td></tr>\n",
       "<tr><td>1</td><td>uid://A001/X1590/X2a76.source.J1924-2914.spw.24</td><td>uid://A001/X1590/X2a76</td><td>10-04-2022</td><td>2.189957255733546</td><td>109.7459299719308</td><td>111.93588722766435</td></tr>\n",
       "<tr><td>2</td><td>uid://A001/X1590/X2a76.source.J1924-2914.spw.28</td><td>uid://A001/X1590/X2a76</td><td>10-04-2022</td><td>2.189957255733546</td><td>109.7459299719308</td><td>111.93588722766435</td></tr>\n",
       "<tr><td>3</td><td>uid://A001/X1590/X2a76.source.J1924-2914.spw.32</td><td>uid://A001/X1590/X2a76</td><td>10-04-2022</td><td>2.189957255733546</td><td>109.7459299719308</td><td>111.93588722766435</td></tr>\n",
       "</table><style>table.dataTable {clear: both; width: auto !important; margin: 0 !important;}\n",
       ".dataTables_info, .dataTables_length, .dataTables_filter, .dataTables_paginate{\n",
       "display: inline-block; margin-right: 1em; }\n",
       ".paginate_button { margin-right: 5px; }\n",
       "</style>\n",
       "<script>\n",
       "\n",
       "var astropy_sort_num = function(a, b) {\n",
       "    var a_num = parseFloat(a);\n",
       "    var b_num = parseFloat(b);\n",
       "\n",
       "    if (isNaN(a_num) && isNaN(b_num))\n",
       "        return ((a < b) ? -1 : ((a > b) ? 1 : 0));\n",
       "    else if (!isNaN(a_num) && !isNaN(b_num))\n",
       "        return ((a_num < b_num) ? -1 : ((a_num > b_num) ? 1 : 0));\n",
       "    else\n",
       "        return isNaN(a_num) ? -1 : 1;\n",
       "}\n",
       "\n",
       "require.config({paths: {\n",
       "    datatables: 'https://cdn.datatables.net/1.10.12/js/jquery.dataTables.min'\n",
       "}});\n",
       "require([\"datatables\"], function(){\n",
       "    console.log(\"$('#table139651111326720-635027').dataTable()\");\n",
       "    \n",
       "jQuery.extend( jQuery.fn.dataTableExt.oSort, {\n",
       "    \"optionalnum-asc\": astropy_sort_num,\n",
       "    \"optionalnum-desc\": function (a,b) { return -astropy_sort_num(a, b); }\n",
       "});\n",
       "\n",
       "    $('#table139651111326720-635027').dataTable({\n",
       "        order: [],\n",
       "        pageLength: 50,\n",
       "        lengthMenu: [[10, 25, 50, 100, 500, 1000, -1], [10, 25, 50, 100, 500, 1000, 'All']],\n",
       "        pagingType: \"full_numbers\",\n",
       "        columnDefs: [{targets: [0, 4, 5, 6], type: \"optionalnum\"}]\n",
       "    });\n",
       "});\n",
       "</script>\n"
      ],
      "text/plain": [
       "<IPython.core.display.HTML object>"
      ]
     },
     "execution_count": 5,
     "metadata": {},
     "output_type": "execute_result"
    }
   ],
   "source": [
    "f_PA.show_in_notebook()"
   ]
  },
  {
   "cell_type": "code",
   "execution_count": 6,
   "id": "2ed1222e",
   "metadata": {},
   "outputs": [],
   "source": [
    "import os\n",
    "import subprocess"
   ]
  },
  {
   "cell_type": "code",
   "execution_count": 27,
   "id": "533d7a87",
   "metadata": {
    "scrolled": true
   },
   "outputs": [
    {
     "name": "stdout",
     "output_type": "stream",
     "text": [
      "2021.1.00286.S\n",
      "2021.1.00286.S_uid___A001_X1590_X2a76_001_of_001.tar\n",
      "2021.1.00286.S_uid___A001_X1590_X2a76_auxiliary.tar\n",
      "2021.1.00286.S_uid___A002_Xf75b8f_X2010.asdm.sdm.tar\n",
      "2021.1.00286.S_uid___A002_Xf75b8f_X24f5.asdm.sdm.tar\n",
      "member.uid___A001_X1590_X2a76.README.txt\n",
      "uid___A002_Xf6d51d_X97c4\n",
      "uid___A002_Xf6d51d_X9dd6\n",
      "\n"
     ]
    }
   ],
   "source": [
    "working_directory = '/home/pinhsien/Research/Data/'\n",
    "bash_cmd = 'ls'\n",
    "result = subprocess.run(bash_cmd, cwd=working_directory, stdout=subprocess.PIPE, stderr=subprocess.PIPE)\n",
    "\n",
    "output = result.stdout.decode()\n",
    "\n",
    "print(output)"
   ]
  }
 ],
 "metadata": {
  "kernelspec": {
   "display_name": "Python 3",
   "language": "python",
   "name": "python3"
  },
  "language_info": {
   "codemirror_mode": {
    "name": "ipython",
    "version": 3
   },
   "file_extension": ".py",
   "mimetype": "text/x-python",
   "name": "python",
   "nbconvert_exporter": "python",
   "pygments_lexer": "ipython3",
   "version": "3.6.13"
  }
 },
 "nbformat": 4,
 "nbformat_minor": 5
}
