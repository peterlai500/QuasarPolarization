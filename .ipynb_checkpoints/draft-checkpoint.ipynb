{
 "cells": [
  {
   "cell_type": "markdown",
   "id": "c99adae3",
   "metadata": {},
   "source": [
    "# Find CASA version\n",
    "\n",
    "Link that contain the compaibility is [here](https://almascience.nrao.edu/processing/science-pipeline)\n",
    "\n",
    "Probably the upper obs_date checking loop isn't necessary.\n",
    "In ALMA data directory i'm working on there exist a `*.pipeline_manifest.xml` file.\n",
    "\n",
    "In the file there exist one line wrote `<casaversion name=\"6.2.1.7\"/>`. \n",
    "Accroding to the infomation in the [documentation](https://almascience.nao.ac.jp/documents-and-tools/cycle10/alma-qa2-data-products-for-cycle-10)(page 12), the .xml files are products of the pipeline execu-\n",
    "tion, containing information about the packaged files and metadata, as the list of employed EBs.\n",
    "\n",
    "[Other documents for cycle 10](https://almascience.nao.ac.jp/documents-and-tools/)"
   ]
  },
  {
   "cell_type": "code",
   "execution_count": 1,
   "id": "27ded8be",
   "metadata": {
    "scrolled": false
   },
   "outputs": [],
   "source": [
    "from QuasarPol_Class import QuasarPol\n",
    "from datetime import date, datetime, timedelta\n",
    "from datetime import date, datetime, timedelta"
   ]
  },
  {
   "cell_type": "code",
   "execution_count": 2,
   "id": "9e3fa9bc",
   "metadata": {
    "scrolled": true
   },
   "outputs": [],
   "source": [
    "target = QuasarPol('J1924-2914', False, 'Full', 1000)\n",
    "data_table = target.get_tables()\n",
    "PA_table = target.get_ParaAngle()"
   ]
  },
  {
   "cell_type": "code",
   "execution_count": 7,
   "id": "67091d24",
   "metadata": {},
   "outputs": [
    {
     "data": {
      "text/plain": [
       "55"
      ]
     },
     "execution_count": 7,
     "metadata": {},
     "output_type": "execute_result"
    }
   ],
   "source": [
    "f_PA = target.filter_data(5, 10)\n",
    "len(f_PA)"
   ]
  },
  {
   "cell_type": "code",
   "execution_count": 8,
   "id": "7052e32c",
   "metadata": {
    "scrolled": false
   },
   "outputs": [],
   "source": [
    "for day in f_PA['Obs_date']:\n",
    "    \n",
    "    [dd, mm, yyyy] = day.split('-')\n",
    "    obs_date = date(int(yyyy), int(mm), int(dd))\n",
    "    today = datetime.today().date()\n",
    "    \n",
    "    if date(2022, 9, 27) < obs_date < today:\n",
    "        version = 641\n",
    "    elif date(2021, 10, 1) <= obs_date <= date(2022, 9, 26):\n",
    "        version = 621\n",
    "    elif date(2021, 5, 10) <= obs_date <= date(2021, 9, 30):\n",
    "        version = 611\n",
    "    elif date(2019, 10, 1) <= obs_date <= date(2021, 5, 9):\n",
    "        version = 561\n",
    "    elif date(2018, 10, 1) <= obs_date < date(2019, 10, 1):\n",
    "        version = 540\n",
    "    elif date(2017, 10, 1) <= obs_date < date(2018, 10, 1):\n",
    "        version = 511\n",
    "    elif date(2017, 4, 17) <= obs_date < date(2017, 10,1):\n",
    "        version = 472\n",
    "    elif date(2016, 10, 25) <= obs_date < date(2017, 4, 17):\n",
    "        version = 470\n",
    "    elif date(2016, 2, 10) <= obs_date < date(2016, 4, 1):\n",
    "        version = 453\n",
    "    elif date(2016, 4 ,1) <= obs_date < date(2016, 4, 8):\n",
    "        version = 452\n",
    "    elif date(2016, 4, 8) <= obs_date < date(2016, 10, 25):\n",
    "        version = 451\n",
    "    elif date(2015, 8, 7) <= obs_date < date(2016, 2, 10):\n",
    "        version = 431\n",
    "    elif date(2014, 9, 22) <= obs_date < date(2015, 8, 7):\n",
    "        version = 422"
   ]
  },
  {
   "cell_type": "code",
   "execution_count": 4,
   "id": "4ef01876",
   "metadata": {},
   "outputs": [],
   "source": [
    "import xml.etree.ElementTree as ET\n",
    "\n",
    "# Specify the path to your XML file\n",
    "xml_file_path = \"/run/media/pinhsien/Storage24TB/DATA/2021.1.00286.S/science_goal.uid___A001_X1590_X2a72/group.uid___A001_X1590_X2a73/member.uid___A001_X1590_X2a76/script/member.uid___A001_X1590_X2a76.hifa_polcal_renorm.pipeline_manifest.xml\"\n",
    "\n",
    "# Parse the XML file\n",
    "tree = ET.parse(xml_file_path)\n",
    "\n",
    "# Get the root element of the XML tree\n",
    "root = tree.getroot()"
   ]
  },
  {
   "cell_type": "code",
   "execution_count": 9,
   "id": "d349aef1",
   "metadata": {},
   "outputs": [
    {
     "name": "stdout",
     "output_type": "stream",
     "text": [
      "casaversion: 6.2.1.7\n",
      "<class 'str'>\n"
     ]
    }
   ],
   "source": [
    "casaversion_element = root.find('.//casaversion')\n",
    "if casaversion_element is not None:\n",
    "    casaversion = casaversion_element.get('name')\n",
    "    print('casaversion:', casaversion)\n",
    "    print(type(casaversion))\n",
    "else:\n",
    "    print('casa version element not found.')"
   ]
  },
  {
   "cell_type": "code",
   "execution_count": null,
   "id": "1cf0e87a",
   "metadata": {},
   "outputs": [],
   "source": []
  },
  {
   "cell_type": "code",
   "execution_count": null,
   "id": "eeb465bf",
   "metadata": {},
   "outputs": [],
   "source": []
  }
 ],
 "metadata": {
  "kernelspec": {
   "display_name": "Python 3",
   "language": "python",
   "name": "python3"
  },
  "language_info": {
   "codemirror_mode": {
    "name": "ipython",
    "version": 3
   },
   "file_extension": ".py",
   "mimetype": "text/x-python",
   "name": "python",
   "nbconvert_exporter": "python",
   "pygments_lexer": "ipython3",
   "version": "3.6.13"
  }
 },
 "nbformat": 4,
 "nbformat_minor": 5
}
