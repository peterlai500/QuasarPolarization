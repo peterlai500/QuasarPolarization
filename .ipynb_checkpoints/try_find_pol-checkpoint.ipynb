{
 "cells": [
  {
   "cell_type": "code",
   "execution_count": 74,
   "id": "b132291b",
   "metadata": {},
   "outputs": [],
   "source": [
    "from astroquery.alma import Alma\n",
    "alma=Alma()\n",
    "\n",
    "from astropy import units as u\n",
    "from astropy.coordinates import Angle, SkyCoord\n",
    "from astropy.table import QTable\n",
    "from astropy.time import Time\n",
    "from astropy.io import fits\n",
    "\n",
    "from astroplan import Observer\n",
    "\n",
    "import numpy as np"
   ]
  },
  {
   "cell_type": "code",
   "execution_count": 7,
   "id": "20588687",
   "metadata": {},
   "outputs": [],
   "source": [
    "t = alma.query_sia(pol='XY')"
   ]
  },
  {
   "cell_type": "code",
   "execution_count": 35,
   "id": "1498e76b",
   "metadata": {},
   "outputs": [],
   "source": [
    "source='J1924-2914'"
   ]
  },
  {
   "cell_type": "code",
   "execution_count": 71,
   "id": "8cede9aa",
   "metadata": {},
   "outputs": [],
   "source": [
    "t = alma.query(\n",
    "               payload=dict(source_name_alma=source, polarisation_type='Full'),\n",
    "               science=False,\n",
    "               legacy_columns=False,\n",
    "               maxrec=1000\n",
    "              )"
   ]
  },
  {
   "cell_type": "code",
   "execution_count": 73,
   "id": "79bf7b22",
   "metadata": {},
   "outputs": [
    {
     "data": {
      "text/plain": [
       "261"
      ]
     },
     "execution_count": 73,
     "metadata": {},
     "output_type": "execute_result"
    }
   ],
   "source": [
    "len(t)"
   ]
  }
 ],
 "metadata": {
  "kernelspec": {
   "display_name": "Python 3 (ipykernel)",
   "language": "python",
   "name": "python3"
  },
  "language_info": {
   "codemirror_mode": {
    "name": "ipython",
    "version": 3
   },
   "file_extension": ".py",
   "mimetype": "text/x-python",
   "name": "python",
   "nbconvert_exporter": "python",
   "pygments_lexer": "ipython3",
   "version": "3.9.17"
  }
 },
 "nbformat": 4,
 "nbformat_minor": 5
}
