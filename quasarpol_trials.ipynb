{
 "cells": [
  {
   "cell_type": "code",
   "execution_count": 45,
   "id": "78be2e60",
   "metadata": {},
   "outputs": [],
   "source": [
    "from astroquery.alma import Alma\n",
    "alma=Alma()\n",
    "\n",
    "from astropy import units as u\n",
    "from astropy.coordinates import Angle, SkyCoord\n",
    "from astropy.time import Time\n",
    "from astropy.io import fits\n",
    "\n",
    "from astroplan import Observer"
   ]
  },
  {
   "cell_type": "code",
   "execution_count": 55,
   "id": "c1f5ade7",
   "metadata": {},
   "outputs": [],
   "source": [
    "class QuasarPol:\n",
    "    \n",
    "    def __init__(self, source='', science=True, maxrec=10):\n",
    "        '''\n",
    "        constructor fo the class\n",
    "        '''\n",
    "        \n",
    "        self.science = science\n",
    "        self.maxrec = maxrec\n",
    "        \n",
    "        if source!='':\n",
    "            try:\n",
    "                self.source = source\n",
    "            except:\n",
    "                pass\n",
    "        \n",
    "    \n",
    "    def __del__(self):\n",
    "        '''\n",
    "        Destrucror of th class\n",
    "        '''\n",
    "    \n",
    "    def almaquery(self, legacy_col=False):\n",
    "        '''\n",
    "        view data in alma archieve \n",
    "        \n",
    "        Parameters:\n",
    "        ----------\n",
    "        legacy_col : bool\n",
    "            True or None to return columns from the obsolete ALMA advanced query, \n",
    "            otherwise th return the columns based on ObsCore Model.   \n",
    "        \n",
    "        '''\n",
    "        if legacy_col == True:\n",
    "            self.almaquery = alma.query(payload=dict(source_name_alma=self.source), \n",
    "                                        science=self.science, \n",
    "                                        legacy_columns=True, \n",
    "                                        maxrec=self.maxrec)\n",
    "        else:            \n",
    "            self.almaquery = alma.query(payload=dict(source_name_alma=self.source), \n",
    "                                        science=self.science, \n",
    "                                        maxrec=self.maxrec)\n",
    "        \n",
    "    def get_ParaAngle(self):\n",
    "        '''\n",
    "        alma_list = alma.query(payload=dict(source_name_alma=self.source), \n",
    "                               science=self.science, \n",
    "                               legacy_columns=True, \n",
    "                               maxrec=self.maxrec)\n",
    "        \n",
    "        obscore_list = alma.query(payload=dict(source_name_alma=self.source), \n",
    "                                  science=self.science, \n",
    "                                  maxrec=self.maxrec)\n",
    "        '''\n",
    "        pass\n",
    "\n",
    "    \n",
    "    \n",
    "    def download(self):\n",
    "        pass"
   ]
  },
  {
   "cell_type": "code",
   "execution_count": 58,
   "id": "2c7933e2",
   "metadata": {},
   "outputs": [],
   "source": [
    "source = 'J1924-2914'\n",
    "baobab = 'Hauyu Baobob Liu'"
   ]
  },
  {
   "cell_type": "code",
   "execution_count": 64,
   "id": "d7c32670",
   "metadata": {
    "scrolled": false
   },
   "outputs": [],
   "source": [
    "data = QuasarPol(source='J1924-2914',science=False, maxrec=2)"
   ]
  },
  {
   "cell_type": "code",
   "execution_count": 68,
   "id": "e51f9227",
   "metadata": {},
   "outputs": [
    {
     "ename": "TypeError",
     "evalue": "'Table' object is not callable",
     "output_type": "error",
     "traceback": [
      "\u001b[0;31m---------------------------------------------------------------------------\u001b[0m",
      "\u001b[0;31mTypeError\u001b[0m                                 Traceback (most recent call last)",
      "Cell \u001b[0;32mIn[68], line 1\u001b[0m\n\u001b[0;32m----> 1\u001b[0m \u001b[43mdata\u001b[49m\u001b[38;5;241;43m.\u001b[39;49m\u001b[43malmaquery\u001b[49m\u001b[43m(\u001b[49m\u001b[43mlegacy_col\u001b[49m\u001b[38;5;241;43m=\u001b[39;49m\u001b[38;5;28;43;01mFalse\u001b[39;49;00m\u001b[43m)\u001b[49m\n",
      "\u001b[0;31mTypeError\u001b[0m: 'Table' object is not callable"
     ]
    }
   ],
   "source": [
    "data.almaquery(legacy_col=False)"
   ]
  }
 ],
 "metadata": {
  "kernelspec": {
   "display_name": "Python 3 (ipykernel)",
   "language": "python",
   "name": "python3"
  },
  "language_info": {
   "codemirror_mode": {
    "name": "ipython",
    "version": 3
   },
   "file_extension": ".py",
   "mimetype": "text/x-python",
   "name": "python",
   "nbconvert_exporter": "python",
   "pygments_lexer": "ipython3",
   "version": "3.10.8"
  }
 },
 "nbformat": 4,
 "nbformat_minor": 5
}
