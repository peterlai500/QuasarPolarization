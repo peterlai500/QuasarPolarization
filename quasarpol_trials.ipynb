{
 "cells": [
  {
   "cell_type": "code",
   "execution_count": 75,
   "id": "78be2e60",
   "metadata": {},
   "outputs": [],
   "source": [
    "from astroquery.alma import Alma\n",
    "alma=Alma()\n",
    "\n",
    "from astropy import units as u\n",
    "from astropy.coordinates import Angle, SkyCoord\n",
    "from astropy.table import Table\n",
    "from astropy.time import Time\n",
    "from astropy.io import fits\n",
    "\n",
    "from astroplan import Observer"
   ]
  },
  {
   "cell_type": "code",
   "execution_count": 168,
   "id": "c1f5ade7",
   "metadata": {},
   "outputs": [],
   "source": [
    "class QuasarPol:\n",
    "    \n",
    "    def __init__(self, source, sci_obs, table_length):\n",
    "        '''\n",
    "        constructor of the class\n",
    "        '''\n",
    "        self.science = sci_obs\n",
    "        self.len = table_length\n",
    "        self.source = source\n",
    "        \n",
    "        self.ObsCore_table = alma.query(payload=dict(source_name_alma=self.source),\n",
    "                                        science=self.science,\n",
    "                                        maxrec=self.len\n",
    "                                       )\n",
    "        \n",
    "        self.ALMA_table = alma.query(payload=dict(source_name_alma=self.source),\n",
    "                                     science=self.science,\n",
    "                                     legacy_columns=True, \n",
    "                                     maxrec=self.len\n",
    "                                    )\n",
    "    \n",
    "    def __del__(self):\n",
    "        '''\n",
    "        Destrucror of th class\n",
    "        '''\n",
    "    \n",
    "    def get_ParaAngle(self):\n",
    "        \n",
    "        Obs_id = self.ObsCore_table['obs_id']\n",
    "        Init_PA = []\n",
    "        End_PA = []\n",
    "        \n",
    "        for i in range(len(Obs_id)):\n",
    "            \n",
    "            # Get source coordinate\n",
    "            Ra = self.ALMA_table['RA'][i]\n",
    "            Dec = self.ALMA_table['Dec'][i]\n",
    "            target_coord = SkyCoord(ra=Ra*u.deg, dec=Dec*u.deg)\n",
    "            \n",
    "            # Get observation time information\n",
    "            start_time = self.ObsCore_table['t_min'][i]\n",
    "            duration_time = self.ObsCore_table['t_exptime'][i]\n",
    "            end_time = start_time + duration_time\n",
    "            \n",
    "            # transform into the format we can understand (UTC)\n",
    "            hours = int(start_time / 3600)\n",
    "            remaining_seconds = start_time % 3600\n",
    "            minutes = int(remaining_seconds / 60)\n",
    "            seconds = remaining_seconds - minutes * 60\n",
    "            \n",
    "            hours = int(end_time / 3600)\n",
    "            remaining_seconds = end_time % 3600\n",
    "            minutes = int(remaining_seconds / 60)\n",
    "            seconds = remaining_seconds - minutes * 60\n",
    "\n",
    "            obs_start_time = str(hours)+':'+str(minutes)+':'+str(seconds)\n",
    "            obs_end_time = str(hours)+':'+str(minutes)+':'+str(seconds)\n",
    "            \n",
    "            # get date\n",
    "            date = self.ALMA_table['Observation date'][i]\n",
    "            [day, month, year] = date.split('-')\n",
    "            obs_date = year + '-' + month + '-' + day\n",
    "            \n",
    "            # combine time and date\n",
    "            obs_init_Datetime = Time(obs_date + ' ' + obs_start_time)\n",
    "            obs_end_Datetime = Time(obs_date + ' ' + obs_end_time)\n",
    "            \n",
    "            ALMA = Observer.at_site(\"ALMA\")\n",
    "            \n",
    "            init_PA = Angle(ALMA.parallactic_angle(obs_init_Datetime, target_coord), u.deg)\n",
    "            end_PA = Angle(ALMA.parallactic_angle(obs_end_Datetime, target_coord), u.deg)\n",
    "            \n",
    "            Init_PA.append(init_PA)\n",
    "            End_PA.append(end_PA)\n",
    "            \n",
    "            \n",
    "        t = QTable([Obs_id, Init_PA, End_PA], \n",
    "                   names=('obs_id', 'Initial Parallactic Angle', 'Final Parallactic Angle'))\n",
    "\n",
    "        return t\n",
    "    \n",
    "    \n",
    "    def download(self):\n",
    "        \n",
    "        pass"
   ]
  },
  {
   "cell_type": "code",
   "execution_count": 169,
   "id": "2c7933e2",
   "metadata": {},
   "outputs": [],
   "source": [
    "source = 'J1924-2914'\n",
    "baobab = 'Hauyu Baobob Liu'"
   ]
  },
  {
   "cell_type": "code",
   "execution_count": 170,
   "id": "0afeac1f",
   "metadata": {
    "scrolled": true
   },
   "outputs": [
    {
     "name": "stderr",
     "output_type": "stream",
     "text": [
      "/home/Peter/Softwares/anaconda3/envs/DataQuery/lib/python3.10/site-packages/pyvo/dal/query.py:324: DALOverflowWarning: Partial result set. Potential causes MAXREC, async storage space, etc.\n",
      "  warn(\"Partial result set. Potential causes MAXREC, async storage space, etc.\",\n",
      "/home/Peter/Softwares/anaconda3/envs/DataQuery/lib/python3.10/site-packages/pyvo/dal/query.py:324: DALOverflowWarning: Partial result set. Potential causes MAXREC, async storage space, etc.\n",
      "  warn(\"Partial result set. Potential causes MAXREC, async storage space, etc.\",\n"
     ]
    }
   ],
   "source": [
    "data = QuasarPol('J1924-2914', False, 100)"
   ]
  },
  {
   "cell_type": "code",
   "execution_count": 171,
   "id": "c0d85ad5",
   "metadata": {
    "scrolled": false
   },
   "outputs": [
    {
     "data": {
      "text/html": [
       "<div><i>QTable length=100</i>\n",
       "<table id=\"table140665473148880\" class=\"table-striped table-bordered table-condensed\">\n",
       "<thead><tr><th>obs_id</th><th>Initial Parallactic Angle</th><th>Final Parallactic Angle</th></tr></thead>\n",
       "<thead><tr><th></th><th>deg</th><th>deg</th></tr></thead>\n",
       "<thead><tr><th>str64</th><th>float64</th><th>float64</th></tr></thead>\n",
       "<tr><td>uid://A001/X128c/X12.source.J1924-2914.spw.25</td><td>-127.57602702478374</td><td>-127.57602702478374</td></tr>\n",
       "<tr><td>uid://A001/X128c/X12.source.J1924-2914.spw.27</td><td>-127.57602702478374</td><td>-127.57602702478374</td></tr>\n",
       "<tr><td>uid://A001/X128c/X12.source.J1924-2914.spw.31</td><td>-127.57602702478374</td><td>-127.57602702478374</td></tr>\n",
       "<tr><td>uid://A001/X128c/X12.source.J1924-2914.spw.29</td><td>-127.57602702478374</td><td>-127.57602702478374</td></tr>\n",
       "<tr><td>uid://A001/X1465/Xe9d.source.J1924-2914.spw.18</td><td>-151.8291110786885</td><td>-151.8291110786885</td></tr>\n",
       "<tr><td>uid://A001/X1465/Xe9d.source.J1924-2914.spw.20</td><td>-151.8291110786885</td><td>-151.8291110786885</td></tr>\n",
       "<tr><td>...</td><td>...</td><td>...</td></tr>\n",
       "<tr><td>uid://A001/X1469/X198.source.J1924-2914.spw.29</td><td>-95.20681077392165</td><td>-95.20681077392165</td></tr>\n",
       "<tr><td>uid://A001/X2fa/X304.source.J1924-2914.spw.29</td><td>169.35353258145906</td><td>169.35353258145906</td></tr>\n",
       "<tr><td>uid://A001/X2fa/X304.source.J1924-2914.spw.23</td><td>169.35353258145906</td><td>169.35353258145906</td></tr>\n",
       "<tr><td>uid://A001/X2fa/X304.source.J1924-2914.spw.25</td><td>169.35353258145906</td><td>169.35353258145906</td></tr>\n",
       "<tr><td>uid://A001/X2fa/X304.source.J1924-2914.spw.27</td><td>169.35353258145906</td><td>169.35353258145906</td></tr>\n",
       "<tr><td>uid://A001/X2fa/X304.source.J1924-2914.spw.31</td><td>169.35353258145906</td><td>169.35353258145906</td></tr>\n",
       "</table></div>"
      ],
      "text/plain": [
       "<QTable length=100>\n",
       "                    obs_id                     ... Final Parallactic Angle\n",
       "                                               ...           deg          \n",
       "                    str64                      ...         float64        \n",
       "---------------------------------------------- ... -----------------------\n",
       " uid://A001/X128c/X12.source.J1924-2914.spw.25 ...     -127.57602702478374\n",
       " uid://A001/X128c/X12.source.J1924-2914.spw.27 ...     -127.57602702478374\n",
       " uid://A001/X128c/X12.source.J1924-2914.spw.31 ...     -127.57602702478374\n",
       " uid://A001/X128c/X12.source.J1924-2914.spw.29 ...     -127.57602702478374\n",
       "uid://A001/X1465/Xe9d.source.J1924-2914.spw.18 ...      -151.8291110786885\n",
       "uid://A001/X1465/Xe9d.source.J1924-2914.spw.20 ...      -151.8291110786885\n",
       "                                           ... ...                     ...\n",
       "uid://A001/X1469/X198.source.J1924-2914.spw.29 ...      -95.20681077392165\n",
       " uid://A001/X2fa/X304.source.J1924-2914.spw.29 ...      169.35353258145906\n",
       " uid://A001/X2fa/X304.source.J1924-2914.spw.23 ...      169.35353258145906\n",
       " uid://A001/X2fa/X304.source.J1924-2914.spw.25 ...      169.35353258145906\n",
       " uid://A001/X2fa/X304.source.J1924-2914.spw.27 ...      169.35353258145906\n",
       " uid://A001/X2fa/X304.source.J1924-2914.spw.31 ...      169.35353258145906"
      ]
     },
     "execution_count": 171,
     "metadata": {},
     "output_type": "execute_result"
    }
   ],
   "source": [
    "data.get_ParaAngle()"
   ]
  },
  {
   "cell_type": "code",
   "execution_count": null,
   "id": "6113c23a",
   "metadata": {},
   "outputs": [],
   "source": []
  }
 ],
 "metadata": {
  "kernelspec": {
   "display_name": "Python 3 (ipykernel)",
   "language": "python",
   "name": "python3"
  },
  "language_info": {
   "codemirror_mode": {
    "name": "ipython",
    "version": 3
   },
   "file_extension": ".py",
   "mimetype": "text/x-python",
   "name": "python",
   "nbconvert_exporter": "python",
   "pygments_lexer": "ipython3",
   "version": "3.10.8"
  }
 },
 "nbformat": 4,
 "nbformat_minor": 5
}
