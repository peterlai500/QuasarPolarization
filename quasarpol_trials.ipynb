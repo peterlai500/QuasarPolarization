{
 "cells": [
  {
   "cell_type": "code",
   "execution_count": 1,
   "id": "78be2e60",
   "metadata": {},
   "outputs": [],
   "source": [
    "from astroquery.alma import Alma\n",
    "alma=Alma()\n",
    "\n",
    "from astropy import units as u\n",
    "from astropy.coordinates import Angle, SkyCoord\n",
    "from astropy.table import QTable\n",
    "from astropy.time import Time\n",
    "from astropy.io import fits\n",
    "\n",
    "from astroplan import Observer\n",
    "\n",
    "import numpy as np"
   ]
  },
  {
   "cell_type": "code",
   "execution_count": 28,
   "id": "c1f5ade7",
   "metadata": {},
   "outputs": [],
   "source": [
    "class QuasarPol:\n",
    "    \n",
    "    def __init__(self, source, sci_obs, table_length):\n",
    "        '''\n",
    "        constructor of the class\n",
    "        '''\n",
    "        self.science = sci_obs\n",
    "        self.len = table_length\n",
    "        self.source = source\n",
    "    \n",
    "    \n",
    "    def __del__(self):\n",
    "        '''\n",
    "        Destrucror of th class\n",
    "        '''\n",
    "    \n",
    "    \n",
    "    def get_tables(self, *, legacy_columns=False):\n",
    "        \n",
    "        '''\n",
    "        Tool to get data tables.\n",
    "        \n",
    "        Parameters\n",
    "        ----------\n",
    "        legacy_columns : bool\n",
    "            True to return the columns from the obsolete ALMA advanced query,\n",
    "            otherwise return the current columns based on ObsCore model.\n",
    "        \n",
    "        Returns\n",
    "        -------\n",
    "        \n",
    "        Table with results.\n",
    "        '''\n",
    "        \n",
    "        self.ALMA_table = alma.query(payload=dict(source_name_alma=self.source),\n",
    "                                     science=self.science,\n",
    "                                     legacy_columns=True, \n",
    "                                     maxrec=self.len\n",
    "                                    )\n",
    "        \n",
    "        self.ObsCore_table = alma.query(payload=dict(source_name_alma=self.source),\n",
    "                                        science=self.science,\n",
    "                                        maxrec=self.len\n",
    "                                       )\n",
    "        \n",
    "        if legacy_columns == True:    \n",
    "            return self.ALMA_table\n",
    "        else:\n",
    "            return self.ObsCore_table\n",
    "    \n",
    "    \n",
    "    \n",
    "    def get_ParaAngle(self):\n",
    "        \n",
    "        '''\n",
    "        \n",
    "        To get parallactic angle and see informations\n",
    "        \n",
    "        Returns\n",
    "        -------\n",
    "        \n",
    "        Table with \"observation ID\", \"member observation unit set ID\", \n",
    "        initial and final PAs.\n",
    "        \n",
    "        '''\n",
    "        \n",
    "        self.get_tables()\n",
    "        ALMA = Observer.at_site(\"ALMA\")\n",
    "        \n",
    "        Init_PA = []\n",
    "        End_PA = []\n",
    "        Obs_ids = self.ObsCore_table['obs_id']\n",
    "        Uids = self.ObsCore_table['member_ous_uid']\n",
    "        \n",
    "        for i in range(len(Uids)):\n",
    "            \n",
    "            ALMA = Observer.at_site(\"ALMA\")\n",
    "            \n",
    "            # Get source coordinate\n",
    "            Ra = self.ALMA_table['RA'][i]\n",
    "            Dec = self.ALMA_table['Dec'][i]\n",
    "            target_coord = SkyCoord(ra=Ra*u.deg, dec=Dec*u.deg)\n",
    "            \n",
    "            # Get date\n",
    "            date = self.ALMA_table['Observation date'][i]\n",
    "            [day, month, year] = date.split('-')\n",
    "            obs_date = year + '-' + month + '-' + day\n",
    "            \n",
    "            # Get observation time information\n",
    "            start_time = self.ObsCore_table['t_min'][i]\n",
    "            duration_time = self.ObsCore_table['t_exptime'][i]\n",
    "            end_time = start_time + duration_time\n",
    "            \n",
    "            # Transform into the format we can understand (UTC)\n",
    "            hours = int(start_time / 3600)\n",
    "            remaining_seconds = start_time % 3600\n",
    "            minutes = int(remaining_seconds / 60)\n",
    "            seconds = remaining_seconds - minutes * 60\n",
    "            \n",
    "            obs_start_time = str(hours)+':'+str(minutes)+':'+str(seconds)\n",
    "            \n",
    "            # combine time and date\n",
    "            obs_init_Datetime = Time(obs_date + ' ' + obs_start_time)\n",
    "            \n",
    "            # Initial Parallactic Angle calculation and create list\n",
    "            init_PA = Angle(ALMA.parallactic_angle(obs_init_Datetime, target_coord), u.deg)\n",
    "            Init_PA.append(init_PA)\n",
    "            \n",
    "            # Final Parallactic Angle Part\n",
    "            hours = int(end_time / 3600)\n",
    "            remaining_seconds = end_time % 3600\n",
    "            minutes = int(remaining_seconds / 60)\n",
    "            seconds = remaining_seconds - minutes * 60\n",
    "            \n",
    "            obs_end_time = str(hours)+':'+str(minutes)+':'+str(seconds)\n",
    "            obs_end_Datetime = Time(obs_date + ' ' + obs_end_time)\n",
    "            \n",
    "            end_PA = Angle(ALMA.parallactic_angle(obs_end_Datetime, target_coord), u.deg)\n",
    "            End_PA.append(end_PA)\n",
    "        \n",
    "        ParaAngle = QTable([Obs_ids, Uids, Init_PA, End_PA], \n",
    "                           names=('obs_id', 'member_ous_uid', 'Initial Parallactic Angle','Final Parallactic Angle'))\n",
    "        \n",
    "        return ParaAngle\n",
    "    \n",
    "    \n",
    "    \n",
    "    def download(self, *, save_directory=alma.cache_location):\n",
    "        \n",
    "        '''\n",
    "        To save files in specific diretory\n",
    "        \n",
    "        \n",
    "        Parameters\n",
    "        ----------\n",
    "        save_directory : string\n",
    "            The directory the files save to. If None will save to alma query cache \n",
    "            directory, '~/.astropy/cache/astroquery/Alma/'.\n",
    "        '''\n",
    "        \n",
    "        PA_table = self.get_ParaAngle()\n",
    "        uids = np.unique(PA_table['member_ous_uid'])\n",
    "        \n",
    "        print('Files will save to', save_directory)\n",
    "        \n",
    "        for ids in uids:\n",
    "            \n",
    "            print('Currently download', ids)\n",
    "            \n",
    "            # Get data info\n",
    "            data_info = alma.get_data_info(uids)\n",
    "            \n",
    "            # Extract the URLs from the data_info table\n",
    "            link_list = [row['access_url'] for row in data_info if row['access_url']]\n",
    "            alma.cache_location = save_directory\n",
    "            \n",
    "            # Download files if there are valid URLs\n",
    "            if link_list:\n",
    "                alma.download_files(link_list)\n",
    "            else:\n",
    "                print(\"No valid URLs found for download.\")\n",
    "    \n",
    "    \n",
    "    def CASA_version(self):\n",
    "        \n",
    "        \n",
    "        \n",
    "        pass"
   ]
  },
  {
   "cell_type": "code",
   "execution_count": 29,
   "id": "0afeac1f",
   "metadata": {
    "scrolled": true
   },
   "outputs": [],
   "source": [
    "J1924 = QuasarPol('J1924-2914', False, 4)"
   ]
  },
  {
   "cell_type": "code",
   "execution_count": 30,
   "id": "d0c7ba57",
   "metadata": {
    "scrolled": false
   },
   "outputs": [
    {
     "name": "stdout",
     "output_type": "stream",
     "text": [
      "   member_ous_uid   \n",
      "--------------------\n",
      "uid://A001/X128c/X12\n",
      "uid://A001/X128c/X12\n",
      "uid://A001/X128c/X12\n",
      "uid://A001/X128c/X12\n"
     ]
    },
    {
     "name": "stderr",
     "output_type": "stream",
     "text": [
      "/home/Peter/Softwares/anaconda3/envs/DataQuery/lib/python3.10/site-packages/pyvo/dal/query.py:324: DALOverflowWarning: Partial result set. Potential causes MAXREC, async storage space, etc.\n",
      "  warn(\"Partial result set. Potential causes MAXREC, async storage space, etc.\",\n",
      "/home/Peter/Softwares/anaconda3/envs/DataQuery/lib/python3.10/site-packages/pyvo/dal/query.py:324: DALOverflowWarning: Partial result set. Potential causes MAXREC, async storage space, etc.\n",
      "  warn(\"Partial result set. Potential causes MAXREC, async storage space, etc.\",\n"
     ]
    }
   ],
   "source": [
    "data_table = J1924.get_tables(legacy_columns=False)\n",
    "\n",
    "print(table['member_ous_uid'])"
   ]
  },
  {
   "cell_type": "code",
   "execution_count": 31,
   "id": "90217462",
   "metadata": {},
   "outputs": [
    {
     "name": "stderr",
     "output_type": "stream",
     "text": [
      "/home/Peter/Softwares/anaconda3/envs/DataQuery/lib/python3.10/site-packages/pyvo/dal/query.py:324: DALOverflowWarning: Partial result set. Potential causes MAXREC, async storage space, etc.\n",
      "  warn(\"Partial result set. Potential causes MAXREC, async storage space, etc.\",\n",
      "/home/Peter/Softwares/anaconda3/envs/DataQuery/lib/python3.10/site-packages/pyvo/dal/query.py:324: DALOverflowWarning: Partial result set. Potential causes MAXREC, async storage space, etc.\n",
      "  warn(\"Partial result set. Potential causes MAXREC, async storage space, etc.\",\n"
     ]
    },
    {
     "data": {
      "text/html": [
       "<div><i>QTable length=4</i>\n",
       "<table id=\"table139896475437136\" class=\"table-striped table-bordered table-condensed\">\n",
       "<thead><tr><th>obs_id</th><th>member_ous_uid</th><th>Initial Parallactic Angle</th><th>Final Parallactic Angle</th></tr></thead>\n",
       "<thead><tr><th></th><th></th><th>deg</th><th>deg</th></tr></thead>\n",
       "<thead><tr><th>str64</th><th>str64</th><th>float64</th><th>float64</th></tr></thead>\n",
       "<tr><td>uid://A001/X128c/X12.source.J1924-2914.spw.25</td><td>uid://A001/X128c/X12</td><td>-129.1907819575085</td><td>-127.57602702478374</td></tr>\n",
       "<tr><td>uid://A001/X128c/X12.source.J1924-2914.spw.27</td><td>uid://A001/X128c/X12</td><td>-129.1907819575085</td><td>-127.57602702478374</td></tr>\n",
       "<tr><td>uid://A001/X128c/X12.source.J1924-2914.spw.31</td><td>uid://A001/X128c/X12</td><td>-129.1907819575085</td><td>-127.57602702478374</td></tr>\n",
       "<tr><td>uid://A001/X128c/X12.source.J1924-2914.spw.29</td><td>uid://A001/X128c/X12</td><td>-129.1907819575085</td><td>-127.57602702478374</td></tr>\n",
       "</table></div>"
      ],
      "text/plain": [
       "<QTable length=4>\n",
       "                    obs_id                    ... Final Parallactic Angle\n",
       "                                              ...           deg          \n",
       "                    str64                     ...         float64        \n",
       "--------------------------------------------- ... -----------------------\n",
       "uid://A001/X128c/X12.source.J1924-2914.spw.25 ...     -127.57602702478374\n",
       "uid://A001/X128c/X12.source.J1924-2914.spw.27 ...     -127.57602702478374\n",
       "uid://A001/X128c/X12.source.J1924-2914.spw.31 ...     -127.57602702478374\n",
       "uid://A001/X128c/X12.source.J1924-2914.spw.29 ...     -127.57602702478374"
      ]
     },
     "execution_count": 31,
     "metadata": {},
     "output_type": "execute_result"
    }
   ],
   "source": [
    "PA_table = J1924.get_ParaAngle()\n",
    "\n",
    "PA_table"
   ]
  },
  {
   "cell_type": "code",
   "execution_count": 27,
   "id": "a434f6d8",
   "metadata": {
    "scrolled": false
   },
   "outputs": [
    {
     "name": "stderr",
     "output_type": "stream",
     "text": [
      "/home/Peter/Softwares/anaconda3/envs/DataQuery/lib/python3.10/site-packages/pyvo/dal/query.py:324: DALOverflowWarning: Partial result set. Potential causes MAXREC, async storage space, etc.\n",
      "  warn(\"Partial result set. Potential causes MAXREC, async storage space, etc.\",\n",
      "/home/Peter/Softwares/anaconda3/envs/DataQuery/lib/python3.10/site-packages/pyvo/dal/query.py:324: DALOverflowWarning: Partial result set. Potential causes MAXREC, async storage space, etc.\n",
      "  warn(\"Partial result set. Potential causes MAXREC, async storage space, etc.\",\n"
     ]
    },
    {
     "name": "stdout",
     "output_type": "stream",
     "text": [
      "uid://A001/X128c/X12\n",
      "Downloading URL https://almascience.nao.ac.jp/dataPortal/member.uid___A001_X128c_X12.README.txt to /home/Peter/Research/download_trial/member.uid___A001_X128c_X12.README.txt ... [Done]\n",
      "Downloading URL https://almascience.nao.ac.jp/dataPortal/2016.1.01430.S_uid___A001_X128c_X12_001_of_001.tar to /home/Peter/Research/download_trial/2016.1.01430.S_uid___A001_X128c_X12_001_of_001.tar ... [Done]\n",
      "Downloading URL https://almascience.nao.ac.jp/dataPortal/2016.1.01430.S_uid___A001_X128c_X12_auxiliary.tar to /home/Peter/Research/download_trial/2016.1.01430.S_uid___A001_X128c_X12_auxiliary.tar ... [Done]\n",
      "Downloading URL https://almascience.nao.ac.jp/dataPortal/2016.1.01430.S_uid___A002_Xd1daeb_X15cd.asdm.sdm.tar to /home/Peter/Research/download_trial/2016.1.01430.S_uid___A002_Xd1daeb_X15cd.asdm.sdm.tar ... [Done]\n"
     ]
    }
   ],
   "source": [
    "J1924.download(save_directory='/home/Peter/Research/download_trial')"
   ]
  },
  {
   "cell_type": "markdown",
   "id": "716193b0",
   "metadata": {},
   "source": [
    "## \"uid://A001/X128c/X12\" data download time:\n",
    "total : 133G  \n",
    "time : approximate 63min"
   ]
  }
 ],
 "metadata": {
  "kernelspec": {
   "display_name": "Python 3 (ipykernel)",
   "language": "python",
   "name": "python3"
  },
  "language_info": {
   "codemirror_mode": {
    "name": "ipython",
    "version": 3
   },
   "file_extension": ".py",
   "mimetype": "text/x-python",
   "name": "python",
   "nbconvert_exporter": "python",
   "pygments_lexer": "ipython3",
   "version": "3.10.8"
  }
 },
 "nbformat": 4,
 "nbformat_minor": 5
}
