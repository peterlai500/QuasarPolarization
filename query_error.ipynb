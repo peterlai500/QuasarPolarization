{
 "cells": [
  {
   "cell_type": "markdown",
   "id": "dc22700d",
   "metadata": {
    "editable": true,
    "slideshow": {
     "slide_type": ""
    },
    "tags": []
   },
   "source": [
    "# Error occured using astroquery.alma\n",
    "\n",
    "I often occor the \"DALQueryError\" when using Alma.query(). I knew it would happened whenever the data is too long. Therefore I always set a maxrec to constraint the length of data. However the error still pops up regardless how small the maxrec value I set. "
   ]
  },
  {
   "cell_type": "code",
   "execution_count": 11,
   "id": "27ded8be",
   "metadata": {},
   "outputs": [],
   "source": [
    "from QuasarPol_Class import QuasarPol\n",
    "\n",
    "from astroquery.alma import Alma\n",
    "alma = Alma()"
   ]
  },
  {
   "cell_type": "code",
   "execution_count": 12,
   "id": "db9f9eaf",
   "metadata": {},
   "outputs": [
    {
     "data": {
      "text/plain": [
       "20"
      ]
     },
     "execution_count": 12,
     "metadata": {},
     "output_type": "execute_result"
    }
   ],
   "source": [
    "with open('target_list.txt', 'r') as file:\n",
    "    targets = file.readlines()\n",
    "len(targets)"
   ]
  },
  {
   "cell_type": "markdown",
   "id": "600cc180",
   "metadata": {},
   "source": [
    "This is the part that I use for query the target in the list with `maxrec=1000`, the `DALFormatError` occured"
   ]
  },
  {
   "cell_type": "code",
   "execution_count": 3,
   "id": "696f6c29-39f8-433b-a4c9-9a4a3acbdc86",
   "metadata": {},
   "outputs": [],
   "source": [
    "east_asia = 'https://almascience.nao.ac.jp/aq/'\n",
    "\n",
    "alma.archive_url = east_asia"
   ]
  },
  {
   "cell_type": "code",
   "execution_count": 5,
   "id": "fa80e02d-188b-4a29-b7de-381bf2245dc2",
   "metadata": {},
   "outputs": [
    {
     "name": "stdout",
     "output_type": "stream",
     "text": [
      "DALQueryError\n"
     ]
    }
   ],
   "source": [
    "try:\n",
    "    result = Alma.query(\n",
    "                        payload=dict(source_name_alma=\"J1924-2914\"),\n",
    "                        science=False\n",
    "                       )\n",
    "    print(f'Querying, data length {len(result)}')\n",
    "except:\n",
    "    print('DALQueryError')"
   ]
  },
  {
   "cell_type": "code",
   "execution_count": 10,
   "id": "5b5e7f91",
   "metadata": {},
   "outputs": [
    {
     "name": "stdout",
     "output_type": "stream",
     "text": [
      "J0423-0120 error\n"
     ]
    },
    {
     "name": "stderr",
     "output_type": "stream",
     "text": [
      "/home/pinhsien/Softwares/Anaconda/anaconda3/envs/Quasarpol/lib/python3.8/site-packages/pyvo/dal/query.py:325: DALOverflowWarning: Partial result set. Potential causes MAXREC, async storage space, etc.\n",
      "  warn(\"Partial result set. Potential causes MAXREC, async storage space, etc.\",\n"
     ]
    },
    {
     "name": "stdout",
     "output_type": "stream",
     "text": [
      "Querying J2253+1608, data length : 500\n",
      "J0538-4405 error\n",
      "J0522-3627 error\n",
      "J0536-3401 error\n",
      "J0501-0159 error\n",
      "Querying J0319+4130, data length : 70\n",
      "Querying J2220+0025, data length : 0\n",
      "Querying J1308+1140, data length : 0\n",
      "Querying J1132+0732, data length : 0\n",
      "Querying J0038+4137, data length : 0\n",
      "Querying J0324+3410, data length : 58\n",
      "Querying J0102+5824, data length : 0\n",
      "Querying J2202+4220, data length : 0\n",
      "Querying J0849+5108, data length : 0\n"
     ]
    },
    {
     "name": "stderr",
     "output_type": "stream",
     "text": [
      "/home/pinhsien/Softwares/Anaconda/anaconda3/envs/Quasarpol/lib/python3.8/site-packages/pyvo/dal/query.py:325: DALOverflowWarning: Partial result set. Potential causes MAXREC, async storage space, etc.\n",
      "  warn(\"Partial result set. Potential causes MAXREC, async storage space, etc.\",\n"
     ]
    },
    {
     "name": "stdout",
     "output_type": "stream",
     "text": [
      "Querying J0237+2848, data length : 500\n",
      "Querying J0137+3309, data length : 12\n"
     ]
    },
    {
     "name": "stderr",
     "output_type": "stream",
     "text": [
      "/home/pinhsien/Softwares/Anaconda/anaconda3/envs/Quasarpol/lib/python3.8/site-packages/pyvo/dal/query.py:325: DALOverflowWarning: Partial result set. Potential causes MAXREC, async storage space, etc.\n",
      "  warn(\"Partial result set. Potential causes MAXREC, async storage space, etc.\",\n"
     ]
    },
    {
     "name": "stdout",
     "output_type": "stream",
     "text": [
      "Querying J1924-2914, data length : 500\n",
      "Querying J1007-4412, data length : 0\n",
      "Querying J1938-6342, data length : 0\n"
     ]
    }
   ],
   "source": [
    "for target in targets:\n",
    "    target = target.strip()\n",
    "    try:\n",
    "        result = Alma.query(\n",
    "                            payload=dict(source_name_alma=target, polarisation_type=\"Dual\"),\n",
    "                            science=False,\n",
    "                            maxrec=500\n",
    "                           )\n",
    "        print(f'Querying {target}, data length : {len(result)}')\n",
    "    except:\n",
    "        print(f'{target} error')"
   ]
  },
  {
   "cell_type": "markdown",
   "id": "bd968274",
   "metadata": {},
   "source": [
    "This is the part that I use for query the target in the list with `maxrec=10`.\n",
    "\n",
    "Compare to the result `maxrec=1000`, this can work for only several sources. But still encounter the `DALQueryError`"
   ]
  },
  {
   "cell_type": "code",
   "execution_count": 49,
   "id": "c71f217b",
   "metadata": {},
   "outputs": [
    {
     "name": "stdout",
     "output_type": "stream",
     "text": [
      "Querying J0423-0120, data length : 10\n"
     ]
    },
    {
     "name": "stderr",
     "output_type": "stream",
     "text": [
      "/home/pinhsien/Softwares/Anaconda/anaconda3/envs/Quasarpol/lib/python3.8/site-packages/pyvo/dal/query.py:325: DALOverflowWarning: Partial result set. Potential causes MAXREC, async storage space, etc.\n",
      "  warn(\"Partial result set. Potential causes MAXREC, async storage space, etc.\",\n",
      "/home/pinhsien/Softwares/Anaconda/anaconda3/envs/Quasarpol/lib/python3.8/site-packages/pyvo/dal/query.py:325: DALOverflowWarning: Partial result set. Potential causes MAXREC, async storage space, etc.\n",
      "  warn(\"Partial result set. Potential causes MAXREC, async storage space, etc.\",\n"
     ]
    },
    {
     "name": "stdout",
     "output_type": "stream",
     "text": [
      "Querying J2253+1608, data length : 10\n",
      "Querying J0538-4405, data length : 10\n"
     ]
    },
    {
     "name": "stderr",
     "output_type": "stream",
     "text": [
      "/home/pinhsien/Softwares/Anaconda/anaconda3/envs/Quasarpol/lib/python3.8/site-packages/pyvo/dal/query.py:325: DALOverflowWarning: Partial result set. Potential causes MAXREC, async storage space, etc.\n",
      "  warn(\"Partial result set. Potential causes MAXREC, async storage space, etc.\",\n",
      "/home/pinhsien/Softwares/Anaconda/anaconda3/envs/Quasarpol/lib/python3.8/site-packages/pyvo/dal/query.py:325: DALOverflowWarning: Partial result set. Potential causes MAXREC, async storage space, etc.\n",
      "  warn(\"Partial result set. Potential causes MAXREC, async storage space, etc.\",\n"
     ]
    },
    {
     "name": "stdout",
     "output_type": "stream",
     "text": [
      "Querying J0522-3627, data length : 10\n"
     ]
    },
    {
     "name": "stderr",
     "output_type": "stream",
     "text": [
      "/home/pinhsien/Softwares/Anaconda/anaconda3/envs/Quasarpol/lib/python3.8/site-packages/pyvo/dal/query.py:325: DALOverflowWarning: Partial result set. Potential causes MAXREC, async storage space, etc.\n",
      "  warn(\"Partial result set. Potential causes MAXREC, async storage space, etc.\",\n",
      "/home/pinhsien/Softwares/Anaconda/anaconda3/envs/Quasarpol/lib/python3.8/site-packages/pyvo/dal/query.py:325: DALOverflowWarning: Partial result set. Potential causes MAXREC, async storage space, etc.\n",
      "  warn(\"Partial result set. Potential causes MAXREC, async storage space, etc.\",\n"
     ]
    },
    {
     "name": "stdout",
     "output_type": "stream",
     "text": [
      "Querying J0501-0159, data length : 10\n",
      "Querying J0319+4130, data length : 10\n",
      "Querying J2220+0025, data length : 0\n",
      "Querying J1308+1140, data length : 0\n",
      "Querying J1132+0732, data length : 0\n",
      "Querying J0038+4137, data length : 0\n"
     ]
    },
    {
     "name": "stderr",
     "output_type": "stream",
     "text": [
      "/home/pinhsien/Softwares/Anaconda/anaconda3/envs/Quasarpol/lib/python3.8/site-packages/pyvo/dal/query.py:325: DALOverflowWarning: Partial result set. Potential causes MAXREC, async storage space, etc.\n",
      "  warn(\"Partial result set. Potential causes MAXREC, async storage space, etc.\",\n"
     ]
    },
    {
     "name": "stdout",
     "output_type": "stream",
     "text": [
      "Querying J0324+3410, data length : 10\n",
      "Querying J0102+5824, data length : 0\n",
      "Querying J2202+4220, data length : 0\n",
      "Querying J0849+5108, data length : 0\n"
     ]
    },
    {
     "name": "stderr",
     "output_type": "stream",
     "text": [
      "/home/pinhsien/Softwares/Anaconda/anaconda3/envs/Quasarpol/lib/python3.8/site-packages/pyvo/dal/query.py:325: DALOverflowWarning: Partial result set. Potential causes MAXREC, async storage space, etc.\n",
      "  warn(\"Partial result set. Potential causes MAXREC, async storage space, etc.\",\n",
      "/home/pinhsien/Softwares/Anaconda/anaconda3/envs/Quasarpol/lib/python3.8/site-packages/pyvo/dal/query.py:325: DALOverflowWarning: Partial result set. Potential causes MAXREC, async storage space, etc.\n",
      "  warn(\"Partial result set. Potential causes MAXREC, async storage space, etc.\",\n"
     ]
    },
    {
     "name": "stdout",
     "output_type": "stream",
     "text": [
      "Querying J0237+2848, data length : 10\n",
      "Querying J0137+3309, data length : 10\n"
     ]
    },
    {
     "name": "stderr",
     "output_type": "stream",
     "text": [
      "/home/pinhsien/Softwares/Anaconda/anaconda3/envs/Quasarpol/lib/python3.8/site-packages/pyvo/dal/query.py:325: DALOverflowWarning: Partial result set. Potential causes MAXREC, async storage space, etc.\n",
      "  warn(\"Partial result set. Potential causes MAXREC, async storage space, etc.\",\n"
     ]
    },
    {
     "name": "stdout",
     "output_type": "stream",
     "text": [
      "Querying J1924-2914, data length : 10\n",
      "Querying J1007-4412, data length : 0\n",
      "Querying J1938-6342, data length : 0\n"
     ]
    }
   ],
   "source": [
    "for target in targets:\n",
    "    target = target.strip()\n",
    "    try:\n",
    "        result = Alma.query(\n",
    "                            payload=dict(source_name_alma=target, polarisation_type='Dual'),\n",
    "                            science=False, \n",
    "                            maxrec=10\n",
    "                           )\n",
    "        print(f'Querying {target}, data length : {len(result)}')\n",
    "    except:\n",
    "        pass"
   ]
  },
  {
   "cell_type": "code",
   "execution_count": null,
   "id": "c35362d4-c7aa-4f97-b5f3-fcd68d339849",
   "metadata": {},
   "outputs": [],
   "source": []
  },
  {
   "cell_type": "code",
   "execution_count": null,
   "id": "8d4cf580-8ff3-463a-9f4c-36c460d5f3a5",
   "metadata": {},
   "outputs": [],
   "source": []
  }
 ],
 "metadata": {
  "kernelspec": {
   "display_name": "Python 3 (ipykernel)",
   "language": "python",
   "name": "python3"
  },
  "language_info": {
   "codemirror_mode": {
    "name": "ipython",
    "version": 3
   },
   "file_extension": ".py",
   "mimetype": "text/x-python",
   "name": "python",
   "nbconvert_exporter": "python",
   "pygments_lexer": "ipython3",
   "version": "3.8.13"
  }
 },
 "nbformat": 4,
 "nbformat_minor": 5
}
