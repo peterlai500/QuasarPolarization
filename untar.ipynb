{
 "cells": [
  {
   "cell_type": "code",
   "execution_count": 1,
   "id": "f0aea6b7",
   "metadata": {},
   "outputs": [],
   "source": [
    "from QuasarPol_Class import QuasarPol"
   ]
  },
  {
   "cell_type": "code",
   "execution_count": null,
   "id": "d2fe9222",
   "metadata": {},
   "outputs": [],
   "source": []
  },
  {
   "cell_type": "code",
   "execution_count": 5,
   "id": "54e26755",
   "metadata": {},
   "outputs": [
    {
     "data": {
      "text/html": [
       "<div><i>QTable length=5</i>\n",
       "<table id=\"table140529825660736\" class=\"table-striped table-bordered table-condensed\">\n",
       "<thead><tr><th>obs_id</th><th>member_ous_uid</th><th>Change_PA</th><th>Init_PA</th><th>End_PA</th></tr></thead>\n",
       "<thead><tr><th></th><th></th><th>deg</th><th>deg</th><th>deg</th></tr></thead>\n",
       "<thead><tr><th>str46</th><th>str21</th><th>float64</th><th>float64</th><th>float64</th></tr></thead>\n",
       "<tr><td>uid://A001/X1465/Xe9d.source.J1924-2914.spw.18</td><td>uid://A001/X1465/Xe9d</td><td>7.704740066549505</td><td>-159.53385110248266</td><td>-151.82911103593315</td></tr>\n",
       "<tr><td>uid://A001/X1465/Xe9d.source.J1924-2914.spw.20</td><td>uid://A001/X1465/Xe9d</td><td>7.704740066549505</td><td>-159.53385110248266</td><td>-151.82911103593315</td></tr>\n",
       "<tr><td>uid://A001/X1465/Xe9d.source.J1924-2914.spw.22</td><td>uid://A001/X1465/Xe9d</td><td>7.704740066549505</td><td>-159.53385110248266</td><td>-151.82911103593315</td></tr>\n",
       "<tr><td>uid://A001/X1465/Xe9d.source.J1924-2914.spw.16</td><td>uid://A001/X1465/Xe9d</td><td>7.704740066549505</td><td>-159.53385110248266</td><td>-151.82911103593315</td></tr>\n",
       "<tr><td>uid://A001/X1465/Xe9d.source.J1924-2914.spw.24</td><td>uid://A001/X1465/Xe9d</td><td>7.704740066549505</td><td>-159.53385110248266</td><td>-151.82911103593315</td></tr>\n",
       "</table></div>"
      ],
      "text/plain": [
       "<QTable length=5>\n",
       "                    obs_id                     ...        End_PA      \n",
       "                                               ...         deg        \n",
       "                    str46                      ...       float64      \n",
       "---------------------------------------------- ... -------------------\n",
       "uid://A001/X1465/Xe9d.source.J1924-2914.spw.18 ... -151.82911103593315\n",
       "uid://A001/X1465/Xe9d.source.J1924-2914.spw.20 ... -151.82911103593315\n",
       "uid://A001/X1465/Xe9d.source.J1924-2914.spw.22 ... -151.82911103593315\n",
       "uid://A001/X1465/Xe9d.source.J1924-2914.spw.16 ... -151.82911103593315\n",
       "uid://A001/X1465/Xe9d.source.J1924-2914.spw.24 ... -151.82911103593315"
      ]
     },
     "execution_count": 5,
     "metadata": {},
     "output_type": "execute_result"
    }
   ],
   "source": [
    "f_1924"
   ]
  },
  {
   "cell_type": "code",
   "execution_count": 20,
   "id": "cb3b0871",
   "metadata": {},
   "outputs": [
    {
     "ename": "AttributeError",
     "evalue": "'QuasarPol' object has no attribute 'save_directory'",
     "output_type": "error",
     "traceback": [
      "\u001b[0;31m---------------------------------------------------------------------------\u001b[0m",
      "\u001b[0;31mAttributeError\u001b[0m                            Traceback (most recent call last)",
      "Cell \u001b[0;32mIn[20], line 1\u001b[0m\n\u001b[0;32m----> 1\u001b[0m \u001b[43mdata_1924\u001b[49m\u001b[38;5;241;43m.\u001b[39;49m\u001b[43muntar\u001b[49m\u001b[43m(\u001b[49m\u001b[43m)\u001b[49m\n",
      "Cell \u001b[0;32mIn[3], line 245\u001b[0m, in \u001b[0;36mQuasarPol.untar\u001b[0;34m(self)\u001b[0m\n\u001b[1;32m    238\u001b[0m \u001b[38;5;28;01mdef\u001b[39;00m \u001b[38;5;21muntar\u001b[39m(\u001b[38;5;28mself\u001b[39m):\n\u001b[1;32m    240\u001b[0m \u001b[38;5;250m    \u001b[39m\u001b[38;5;124;03m'''\u001b[39;00m\n\u001b[1;32m    241\u001b[0m \u001b[38;5;124;03m    \u001b[39;00m\n\u001b[1;32m    242\u001b[0m \u001b[38;5;124;03m    \u001b[39;00m\n\u001b[1;32m    243\u001b[0m \u001b[38;5;124;03m    \u001b[39;00m\n\u001b[1;32m    244\u001b[0m \u001b[38;5;124;03m    '''\u001b[39;00m\n\u001b[0;32m--> 245\u001b[0m     tar_directory \u001b[38;5;241m=\u001b[39m \u001b[38;5;28;43mself\u001b[39;49m\u001b[38;5;241;43m.\u001b[39;49m\u001b[43msave_directory\u001b[49m\n\u001b[1;32m    247\u001b[0m     file_list \u001b[38;5;241m=\u001b[39m os\u001b[38;5;241m.\u001b[39mlistdir(tar_directory)\n\u001b[1;32m    252\u001b[0m     \u001b[38;5;28;01mpass\u001b[39;00m\n",
      "\u001b[0;31mAttributeError\u001b[0m: 'QuasarPol' object has no attribute 'save_directory'"
     ]
    }
   ],
   "source": [
    "data_1924.untar()"
   ]
  },
  {
   "cell_type": "code",
   "execution_count": null,
   "id": "6150e649",
   "metadata": {},
   "outputs": [],
   "source": []
  }
 ],
 "metadata": {
  "kernelspec": {
   "display_name": "Python 3",
   "language": "python",
   "name": "python3"
  },
  "language_info": {
   "codemirror_mode": {
    "name": "ipython",
    "version": 3
   },
   "file_extension": ".py",
   "mimetype": "text/x-python",
   "name": "python",
   "nbconvert_exporter": "python",
   "pygments_lexer": "ipython3",
   "version": "3.6.13"
  }
 },
 "nbformat": 4,
 "nbformat_minor": 5
}
