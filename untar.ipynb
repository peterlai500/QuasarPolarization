{
 "cells": [
  {
   "cell_type": "code",
   "execution_count": 1,
   "id": "f0aea6b7",
   "metadata": {},
   "outputs": [],
   "source": [
    "from QuasarPol_Class import QuasarPol"
   ]
  },
  {
   "cell_type": "code",
   "execution_count": 2,
   "id": "9881f346",
   "metadata": {},
   "outputs": [],
   "source": [
    "import time"
   ]
  },
  {
   "cell_type": "code",
   "execution_count": 3,
   "id": "2f83d7bc",
   "metadata": {},
   "outputs": [],
   "source": [
    "import os"
   ]
  },
  {
   "cell_type": "code",
   "execution_count": 25,
   "id": "6150e649",
   "metadata": {},
   "outputs": [],
   "source": [
    "data = QuasarPol('J1924-2914', False, 'Full', 1000)\n",
    "data.directory = '/home/pinhsien/Research/Data'\n",
    "tar_directory = data.directory\n",
    "file_list = os.listdir(tar_directory)\n",
    "tar_files = [file for file in file_list if file.endswith('.tar') or file.startswith('uid')]"
   ]
  },
  {
   "cell_type": "code",
   "execution_count": 26,
   "id": "1f55b408",
   "metadata": {},
   "outputs": [
    {
     "data": {
      "text/plain": [
       "['2021.1.00286.S_uid___A001_X1590_X2a76_001_of_001.tar',\n",
       " '2021.1.00286.S_uid___A001_X1590_X2a76_auxiliary.tar',\n",
       " '2021.1.00286.S_uid___A002_Xf75b8f_X2010.asdm.sdm.tar',\n",
       " '2021.1.00286.S_uid___A002_Xf75b8f_X24f5.asdm.sdm.tar',\n",
       " 'uid___A002_Xf6d51d_X97c4',\n",
       " 'uid___A002_Xf6d51d_X9dd6']"
      ]
     },
     "execution_count": 26,
     "metadata": {},
     "output_type": "execute_result"
    }
   ],
   "source": [
    "tar_files"
   ]
  },
  {
   "cell_type": "code",
   "execution_count": 30,
   "id": "3cfffb36",
   "metadata": {},
   "outputs": [
    {
     "name": "stdout",
     "output_type": "stream",
     "text": [
      "Untaring: /home/pinhsien/Research/Data/2021.1.00286.S_uid___A001_X1590_X2a76_001_of_001.tar\n",
      "Untaring: /home/pinhsien/Research/Data/2021.1.00286.S_uid___A001_X1590_X2a76_auxiliary.tar\n",
      "Untaring: /home/pinhsien/Research/Data/2021.1.00286.S_uid___A002_Xf75b8f_X2010.asdm.sdm.tar\n",
      "Untaring: /home/pinhsien/Research/Data/2021.1.00286.S_uid___A002_Xf75b8f_X24f5.asdm.sdm.tar\n",
      "Untaring: /home/pinhsien/Research/Data/uid___A002_Xf6d51d_X97c4\n",
      "Untaring: /home/pinhsien/Research/Data/uid___A002_Xf6d51d_X9dd6\n"
     ]
    }
   ],
   "source": [
    "for tar_file in tar_files:\n",
    "    tar_file_path = os.path.join(tar_directory, tar_file)\n",
    "    print('Untaring:', tar_file_path)\n",
    "    st = time.time()\n",
    "    with tarfile.open(tar_file_path, 'r') as tar:\n",
    "        tar.extractall(path=tar_directory)\n",
    "    et = time.time()\n",
    "    rt = et - st\n",
    "    print(f'Untar time: {rt:.6f} seconds')"
   ]
  }
 ],
 "metadata": {
  "kernelspec": {
   "display_name": "Python 3",
   "language": "python",
   "name": "python3"
  },
  "language_info": {
   "codemirror_mode": {
    "name": "ipython",
    "version": 3
   },
   "file_extension": ".py",
   "mimetype": "text/x-python",
   "name": "python",
   "nbconvert_exporter": "python",
   "pygments_lexer": "ipython3",
   "version": "3.6.13"
  }
 },
 "nbformat": 4,
 "nbformat_minor": 5
}
