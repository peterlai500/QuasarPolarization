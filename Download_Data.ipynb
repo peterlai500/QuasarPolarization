{
 "cells": [
  {
   "cell_type": "code",
   "execution_count": 15,
   "id": "0ae8baa0",
   "metadata": {},
   "outputs": [],
   "source": [
    "from astroquery.alma import Alma\n",
    "alma=Alma()\n",
    "\n",
    "from astropy import units as u\n",
    "from astropy.coordinates import Angle, SkyCoord\n",
    "from astropy.table import QTable\n",
    "from astropy.time import Time\n",
    "from astropy.io import fits\n",
    "\n",
    "from astroplan import Observer\n",
    "\n",
    "import numpy as np"
   ]
  },
  {
   "cell_type": "code",
   "execution_count": 16,
   "id": "61bb0435",
   "metadata": {},
   "outputs": [],
   "source": [
    "# use ALMA query documents as template"
   ]
  },
  {
   "cell_type": "code",
   "execution_count": 17,
   "id": "52f2aad0",
   "metadata": {},
   "outputs": [],
   "source": [
    "m83_data = alma.query_object('M83')"
   ]
  },
  {
   "cell_type": "code",
   "execution_count": 18,
   "id": "519d6a60",
   "metadata": {},
   "outputs": [],
   "source": [
    "uids = np.unique(m83_data['member_ous_uid'])\n",
    "\n",
    "\n",
    "link_list = alma.get_data_info(uids[:3])"
   ]
  },
  {
   "cell_type": "code",
   "execution_count": 19,
   "id": "14b5d41f",
   "metadata": {},
   "outputs": [],
   "source": [
    "# Change data cache directory\n",
    "# alma.cache_location = ''\n",
    "\n",
    "# Download files\n",
    "# alma.download_files(link_list, cache=True)\n",
    "\n",
    "# Or downloading all in one step \n",
    "# alma.retrieve_data_from_uid(uids[0])\n",
    "\n",
    "# If trandfer failed occured as downloading. By default, the module will resume \n",
    "# downloading where the failure occurred. can check whether the downloads all \n",
    "# succeeded before triggering a new download by using the verify_only keyword, \n",
    "# which will not download but will return useful information about the state of \n",
    "# your downloads:\n",
    "# alma.download_files(link_list, cache=True, verify_only=True)"
   ]
  }
 ],
 "metadata": {
  "kernelspec": {
   "display_name": "Python 3 (ipykernel)",
   "language": "python",
   "name": "python3"
  },
  "language_info": {
   "codemirror_mode": {
    "name": "ipython",
    "version": 3
   },
   "file_extension": ".py",
   "mimetype": "text/x-python",
   "name": "python",
   "nbconvert_exporter": "python",
   "pygments_lexer": "ipython3",
   "version": "3.10.8"
  }
 },
 "nbformat": 4,
 "nbformat_minor": 5
}
