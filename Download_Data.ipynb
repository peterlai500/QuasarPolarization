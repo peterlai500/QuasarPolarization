{
 "cells": [
  {
   "cell_type": "code",
   "execution_count": 2,
   "id": "0ae8baa0",
   "metadata": {},
   "outputs": [],
   "source": [
    "from astroquery.alma import Alma\n",
    "alma=Alma()\n",
    "\n",
    "from astropy import units as u\n",
    "from astropy.coordinates import Angle, SkyCoord\n",
    "from astropy.table import QTable\n",
    "from astropy.time import Time\n",
    "from astropy.io import fits\n",
    "\n",
    "from astroplan import Observer\n",
    "\n",
    "import numpy as np"
   ]
  },
  {
   "cell_type": "code",
   "execution_count": 3,
   "id": "61bb0435",
   "metadata": {},
   "outputs": [],
   "source": [
    "# use ALMA query documents as template"
   ]
  },
  {
   "cell_type": "code",
   "execution_count": 54,
   "id": "52f2aad0",
   "metadata": {
    "scrolled": true
   },
   "outputs": [
    {
     "name": "stderr",
     "output_type": "stream",
     "text": [
      "/home/Peter/Softwares/anaconda3/envs/DataQuery/lib/python3.10/site-packages/pyvo/dal/query.py:324: DALOverflowWarning: Partial result set. Potential causes MAXREC, async storage space, etc.\n",
      "  warn(\"Partial result set. Potential causes MAXREC, async storage space, etc.\",\n"
     ]
    }
   ],
   "source": [
    "J1924_data = alma.query(payload=dict(source_name_alma='J1924-2914'),\n",
    "                        science=False,\n",
    "                        maxrec=100)"
   ]
  },
  {
   "cell_type": "code",
   "execution_count": 70,
   "id": "af19e8d9",
   "metadata": {},
   "outputs": [],
   "source": [
    "uids = np.unique(J1924_data['member_ous_uid'])"
   ]
  },
  {
   "cell_type": "code",
   "execution_count": 78,
   "id": "efc62902",
   "metadata": {
    "scrolled": false
   },
   "outputs": [],
   "source": [
    "link_list = alma.get_data_info(uids[1])"
   ]
  },
  {
   "cell_type": "code",
   "execution_count": 80,
   "id": "2d33a124",
   "metadata": {},
   "outputs": [],
   "source": [
    "# alma.download_files(link_list)"
   ]
  }
 ],
 "metadata": {
  "kernelspec": {
   "display_name": "Python 3 (ipykernel)",
   "language": "python",
   "name": "python3"
  },
  "language_info": {
   "codemirror_mode": {
    "name": "ipython",
    "version": 3
   },
   "file_extension": ".py",
   "mimetype": "text/x-python",
   "name": "python",
   "nbconvert_exporter": "python",
   "pygments_lexer": "ipython3",
   "version": "3.10.8"
  }
 },
 "nbformat": 4,
 "nbformat_minor": 5
}
