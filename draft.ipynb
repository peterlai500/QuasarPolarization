{
 "cells": [
  {
   "cell_type": "markdown",
   "id": "c99adae3",
   "metadata": {},
   "source": [
    "# Find CASA version\n",
    "\n",
    "Link that contain the compaibility is [here](https://almascience.nrao.edu/processing/science-pipeline)"
   ]
  },
  {
   "cell_type": "code",
   "execution_count": 2,
   "id": "27ded8be",
   "metadata": {
    "scrolled": false
   },
   "outputs": [],
   "source": [
    "from QuasarPol_Class import QuasarPol"
   ]
  },
  {
   "cell_type": "code",
   "execution_count": 3,
   "id": "1b275ee4",
   "metadata": {},
   "outputs": [],
   "source": [
    "import numpy as np"
   ]
  },
  {
   "cell_type": "code",
   "execution_count": 64,
   "id": "0661fac8",
   "metadata": {},
   "outputs": [],
   "source": [
    "from datetime import date, datetime, timedelta"
   ]
  },
  {
   "cell_type": "code",
   "execution_count": 6,
   "id": "2ed1222e",
   "metadata": {},
   "outputs": [],
   "source": [
    "import os"
   ]
  },
  {
   "cell_type": "code",
   "execution_count": 61,
   "id": "f6a57053",
   "metadata": {},
   "outputs": [],
   "source": [
    "import subprocess"
   ]
  },
  {
   "cell_type": "code",
   "execution_count": 66,
   "id": "9e3fa9bc",
   "metadata": {
    "scrolled": true
   },
   "outputs": [],
   "source": [
    "target = QuasarPol('J1924-2914', False, 'Full', 1000)\n",
    "data_table = target.get_tables()\n",
    "PA_table = target.get_ParaAngle()\n",
    "f_PA = target.filter_data(2, 2.2)"
   ]
  },
  {
   "cell_type": "code",
   "execution_count": 67,
   "id": "7052e32c",
   "metadata": {
    "scrolled": true
   },
   "outputs": [
    {
     "name": "stdout",
     "output_type": "stream",
     "text": [
      "CASA 6.2.1\n",
      "CASA 6.2.1\n",
      "CASA 6.2.1\n",
      "CASA 6.2.1\n",
      "CASA 5.6.1\n",
      "CASA 5.6.1\n",
      "CASA 5.6.1\n",
      "CASA 5.6.1\n",
      "CASA 5.6.1\n",
      "not check yet\n",
      "not check yet\n",
      "not check yet\n",
      "not check yet\n"
     ]
    }
   ],
   "source": [
    "for day in f_PA['Obs_date']:\n",
    "    \n",
    "    [dd, mm, yyyy] = day.split('-')\n",
    "    obs_date = date(int(yyyy), int(mm), int(dd))\n",
    "    if date(2021, 10, 1) < obs_date < date(2022, 9, 26):\n",
    "        print('CASA 6.2.1')\n",
    "    elif date(2021, 5, 10) < obs_date < date(2021, 9, 30):\n",
    "        print('CASA 6.1.1')\n",
    "    elif date(2019, 10, 1) < obs_date < date(2021, 5, 9):\n",
    "        print('CASA 5.6.1')\n",
    "    else:\n",
    "        print('not check yet')"
   ]
  },
  {
   "cell_type": "code",
   "execution_count": 52,
   "id": "c374f68e",
   "metadata": {},
   "outputs": [
    {
     "name": "stdout",
     "output_type": "stream",
     "text": [
      "2021.1.00286.S\n",
      "2021.1.00286.S_uid___A001_X1590_X2a76_001_of_001.tar\n",
      "2021.1.00286.S_uid___A001_X1590_X2a76_auxiliary.tar\n",
      "2021.1.00286.S_uid___A002_Xf75b8f_X2010.asdm.sdm.tar\n",
      "2021.1.00286.S_uid___A002_Xf75b8f_X24f5.asdm.sdm.tar\n",
      "member.uid___A001_X1590_X2a76.README.txt\n",
      "uid___A002_Xf6d51d_X97c4\n",
      "uid___A002_Xf6d51d_X9dd6\n",
      "\n"
     ]
    }
   ],
   "source": [
    "project = np.unique(f_PA['Project code'])\n",
    "working_directory = '/home/pinhsien/Research/Data/'\n",
    "for code in project:\n",
    "    script_directory = working_directory + code\n",
    "\n",
    "bash_cmd = 'ls'\n",
    "\n",
    "result = subprocess.run(bash_cmd, cwd=script_directory, stdout=subprocess.PIPE,stderr=subprocess.PIPE)\n",
    "output = result.stdout.decode()\n",
    "next_dir = output.replace('\\n', '')\n",
    "script_directory = script_directory + '/' + next_dir\n",
    "\n",
    "result = subprocess.run(bash_cmd, cwd=script_directory, stdout=subprocess.PIPE,stderr=subprocess.PIPE)\n",
    "output = result.stdout.decode()\n",
    "next_dir = output.replace('\\n', '')\n",
    "script_directory = script_directory + '/' + next_dir\n",
    "\n",
    "result = subprocess.run(bash_cmd, cwd=script_directory, stdout=subprocess.PIPE,stderr=subprocess.PIPE)\n",
    "output = result.stdout.decode()\n",
    "next_dir = output.replace('\\n', '')\n",
    "script_directory = script_directory + '/' + next_dir\n",
    "\n",
    "result = subprocess.run(bash_cmd, cwd=script_directory, stdout=subprocess.PIPE,stderr=subprocess.PIPE)\n",
    "output = result.stdout.decode()\n",
    "output = output.split('\\n')\n",
    "script_directory = script_directory + '/' + output[5]\n",
    "\n",
    "result = subprocess.run(bash_cmd, cwd=working_directory, stdout=subprocess.PIPE, stderr=subprocess.PIPE)\n",
    "output = result.stdout.decode()\n",
    "\n",
    "print(output)"
   ]
  }
 ],
 "metadata": {
  "kernelspec": {
   "display_name": "Python 3",
   "language": "python",
   "name": "python3"
  },
  "language_info": {
   "codemirror_mode": {
    "name": "ipython",
    "version": 3
   },
   "file_extension": ".py",
   "mimetype": "text/x-python",
   "name": "python",
   "nbconvert_exporter": "python",
   "pygments_lexer": "ipython3",
   "version": "3.6.13"
  }
 },
 "nbformat": 4,
 "nbformat_minor": 5
}
