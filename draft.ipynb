{
 "cells": [
  {
   "cell_type": "markdown",
   "id": "c99adae3",
   "metadata": {},
   "source": [
    "# Find CASA version\n",
    "\n",
    "Link that contain the compaibility is [here](https://almascience.nrao.edu/processing/science-pipeline)"
   ]
  },
  {
   "cell_type": "code",
   "execution_count": 1,
   "id": "27ded8be",
   "metadata": {
    "scrolled": false
   },
   "outputs": [],
   "source": [
    "from QuasarPol_Class import QuasarPol"
   ]
  },
  {
   "cell_type": "code",
   "execution_count": 4,
   "id": "21e83f68",
   "metadata": {},
   "outputs": [],
   "source": [
    "import numpy as np"
   ]
  },
  {
   "cell_type": "code",
   "execution_count": 2,
   "id": "9e3fa9bc",
   "metadata": {
    "scrolled": true
   },
   "outputs": [],
   "source": [
    "target = QuasarPol('J1924-2914', False, 'Full', 1000)\n",
    "data_table = target.get_tables(legacy_columns=True)\n",
    "PA_table = target.get_ParaAngle()"
   ]
  },
  {
   "cell_type": "code",
   "execution_count": 3,
   "id": "dc2bf6c7",
   "metadata": {
    "scrolled": true
   },
   "outputs": [
    {
     "data": {
      "text/html": [
       "<i>QTable length=4</i>\n",
       "<table id=\"table139818095818232-858918\" class=\"table-striped table-bordered table-condensed\">\n",
       "<thead><tr><th>idx</th><th>Project code</th><th>obs_id</th><th>member_ous_uid</th><th>Obs_date</th><th>Change_PA</th><th>Init_PA</th><th>End_PA</th></tr></thead>\n",
       "<thead><tr><th></th><th></th><th></th><th></th><th></th><th>deg</th><th>deg</th><th>deg</th></tr></thead>\n",
       "<tr><td>0</td><td>2021.1.00286.S</td><td>uid://A001/X1590/X2a76.source.J1924-2914.spw.20</td><td>uid://A001/X1590/X2a76</td><td>10-04-2022</td><td>2.189957255733546</td><td>109.7459299719308</td><td>111.93588722766435</td></tr>\n",
       "<tr><td>1</td><td>2021.1.00286.S</td><td>uid://A001/X1590/X2a76.source.J1924-2914.spw.24</td><td>uid://A001/X1590/X2a76</td><td>10-04-2022</td><td>2.189957255733546</td><td>109.7459299719308</td><td>111.93588722766435</td></tr>\n",
       "<tr><td>2</td><td>2021.1.00286.S</td><td>uid://A001/X1590/X2a76.source.J1924-2914.spw.28</td><td>uid://A001/X1590/X2a76</td><td>10-04-2022</td><td>2.189957255733546</td><td>109.7459299719308</td><td>111.93588722766435</td></tr>\n",
       "<tr><td>3</td><td>2021.1.00286.S</td><td>uid://A001/X1590/X2a76.source.J1924-2914.spw.32</td><td>uid://A001/X1590/X2a76</td><td>10-04-2022</td><td>2.189957255733546</td><td>109.7459299719308</td><td>111.93588722766435</td></tr>\n",
       "</table><style>table.dataTable {clear: both; width: auto !important; margin: 0 !important;}\n",
       ".dataTables_info, .dataTables_length, .dataTables_filter, .dataTables_paginate{\n",
       "display: inline-block; margin-right: 1em; }\n",
       ".paginate_button { margin-right: 5px; }\n",
       "</style>\n",
       "<script>\n",
       "\n",
       "var astropy_sort_num = function(a, b) {\n",
       "    var a_num = parseFloat(a);\n",
       "    var b_num = parseFloat(b);\n",
       "\n",
       "    if (isNaN(a_num) && isNaN(b_num))\n",
       "        return ((a < b) ? -1 : ((a > b) ? 1 : 0));\n",
       "    else if (!isNaN(a_num) && !isNaN(b_num))\n",
       "        return ((a_num < b_num) ? -1 : ((a_num > b_num) ? 1 : 0));\n",
       "    else\n",
       "        return isNaN(a_num) ? -1 : 1;\n",
       "}\n",
       "\n",
       "require.config({paths: {\n",
       "    datatables: 'https://cdn.datatables.net/1.10.12/js/jquery.dataTables.min'\n",
       "}});\n",
       "require([\"datatables\"], function(){\n",
       "    console.log(\"$('#table139818095818232-858918').dataTable()\");\n",
       "    \n",
       "jQuery.extend( jQuery.fn.dataTableExt.oSort, {\n",
       "    \"optionalnum-asc\": astropy_sort_num,\n",
       "    \"optionalnum-desc\": function (a,b) { return -astropy_sort_num(a, b); }\n",
       "});\n",
       "\n",
       "    $('#table139818095818232-858918').dataTable({\n",
       "        order: [],\n",
       "        pageLength: 50,\n",
       "        lengthMenu: [[10, 25, 50, 100, 500, 1000, -1], [10, 25, 50, 100, 500, 1000, 'All']],\n",
       "        pagingType: \"full_numbers\",\n",
       "        columnDefs: [{targets: [0, 5, 6, 7], type: \"optionalnum\"}]\n",
       "    });\n",
       "});\n",
       "</script>\n"
      ],
      "text/plain": [
       "<IPython.core.display.HTML object>"
      ]
     },
     "execution_count": 3,
     "metadata": {},
     "output_type": "execute_result"
    }
   ],
   "source": [
    "f_PA = target.filter_data(2.182, 2.2)\n",
    "f_PA.show_in_notebook()"
   ]
  },
  {
   "cell_type": "code",
   "execution_count": 6,
   "id": "2ed1222e",
   "metadata": {},
   "outputs": [],
   "source": [
    "import os"
   ]
  },
  {
   "cell_type": "code",
   "execution_count": 19,
   "id": "97d41bea",
   "metadata": {},
   "outputs": [
    {
     "name": "stdout",
     "output_type": "stream",
     "text": [
      "/home/pinhsien/Research/Data/2021.1.00286.S\n"
     ]
    }
   ],
   "source": [
    "project = np.unique(f_PA['Project code'])\n",
    "member_id = np.uni(f_PA['member_ous_uid'])\n",
    "working_directory = '/home/pinhsien/Research/Data/'\n",
    "\n",
    "for code in project:\n",
    "    for id \n",
    "    script_directory = working_directory + code\n",
    "    \n",
    "print(script_directory)"
   ]
  },
  {
   "cell_type": "code",
   "execution_count": 27,
   "id": "533d7a87",
   "metadata": {
    "scrolled": true
   },
   "outputs": [
    {
     "name": "stdout",
     "output_type": "stream",
     "text": [
      "2021.1.00286.S\n",
      "2021.1.00286.S_uid___A001_X1590_X2a76_001_of_001.tar\n",
      "2021.1.00286.S_uid___A001_X1590_X2a76_auxiliary.tar\n",
      "2021.1.00286.S_uid___A002_Xf75b8f_X2010.asdm.sdm.tar\n",
      "2021.1.00286.S_uid___A002_Xf75b8f_X24f5.asdm.sdm.tar\n",
      "member.uid___A001_X1590_X2a76.README.txt\n",
      "uid___A002_Xf6d51d_X97c4\n",
      "uid___A002_Xf6d51d_X9dd6\n",
      "\n"
     ]
    }
   ],
   "source": [
    "working_directory = '/home/pinhsien/Research/Data/'\n",
    "bash_cmd = 'ls'\n",
    "result = subprocess.run(bash_cmd, cwd=working_directory, stdout=subprocess.PIPE, stderr=subprocess.PIPE)\n",
    "\n",
    "output = result.stdout.decode()\n",
    "\n",
    "print(output)"
   ]
  }
 ],
 "metadata": {
  "kernelspec": {
   "display_name": "Python 3",
   "language": "python",
   "name": "python3"
  },
  "language_info": {
   "codemirror_mode": {
    "name": "ipython",
    "version": 3
   },
   "file_extension": ".py",
   "mimetype": "text/x-python",
   "name": "python",
   "nbconvert_exporter": "python",
   "pygments_lexer": "ipython3",
   "version": "3.6.13"
  }
 },
 "nbformat": 4,
 "nbformat_minor": 5
}
