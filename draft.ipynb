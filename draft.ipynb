{
 "cells": [
  {
   "cell_type": "markdown",
   "id": "c99adae3",
   "metadata": {},
   "source": [
    "# Find CASA version\n",
    "\n",
    "Link that contain the compaibility is [here](https://almascience.nrao.edu/processing/science-pipeline)\n",
    "\n",
    "Probably the upper obs_date checking loop isn't necessary.\n",
    "In ALMA data directory i'm working on there exist a `*.pipeline_manifest.xml` file.\n",
    "\n",
    "In the file there exist one line wrote `<casaversion name=\"6.2.1.7\"/>`. \n",
    "Accroding to the infomation in the [documentation](https://almascience.nao.ac.jp/documents-and-tools/cycle10/alma-qa2-data-products-for-cycle-10)(page 12), the .xml files are products of the pipeline execu-\n",
    "tion, containing information about the packaged files and metadata, as the list of employed EBs.\n",
    "\n",
    "[Other documents for cycle 10](https://almascience.nao.ac.jp/documents-and-tools/)"
   ]
  },
  {
   "cell_type": "code",
   "execution_count": 1,
   "id": "27ded8be",
   "metadata": {
    "scrolled": false
   },
   "outputs": [],
   "source": [
    "from QuasarPol_Class import QuasarPol"
   ]
  },
  {
   "cell_type": "code",
   "execution_count": 2,
   "id": "6dfec979",
   "metadata": {},
   "outputs": [],
   "source": [
    "import numpy as np"
   ]
  },
  {
   "cell_type": "code",
   "execution_count": 3,
   "id": "7a25c236",
   "metadata": {},
   "outputs": [],
   "source": [
    "from datetime import date, datetime, timedelta"
   ]
  },
  {
   "cell_type": "code",
   "execution_count": 4,
   "id": "2ed1222e",
   "metadata": {},
   "outputs": [],
   "source": [
    "import os"
   ]
  },
  {
   "cell_type": "code",
   "execution_count": 5,
   "id": "e0f2618e",
   "metadata": {},
   "outputs": [],
   "source": [
    "import subprocess"
   ]
  },
  {
   "cell_type": "code",
   "execution_count": 6,
   "id": "9e3fa9bc",
   "metadata": {
    "scrolled": true
   },
   "outputs": [],
   "source": [
    "target = QuasarPol('J1924-2914', False, 'Full', 1000)\n",
    "data_table = target.get_tables()\n",
    "PA_table = target.get_ParaAngle()"
   ]
  },
  {
   "cell_type": "code",
   "execution_count": 7,
   "id": "c20066f9",
   "metadata": {},
   "outputs": [],
   "source": [
    "f_PA = target.filter_data(10, 15)"
   ]
  },
  {
   "cell_type": "code",
   "execution_count": 9,
   "id": "f355192a",
   "metadata": {},
   "outputs": [
    {
     "data": {
      "text/plain": [
       "20"
      ]
     },
     "execution_count": 9,
     "metadata": {},
     "output_type": "execute_result"
    }
   ],
   "source": [
    "len(f_PA)"
   ]
  },
  {
   "cell_type": "code",
   "execution_count": 10,
   "id": "7052e32c",
   "metadata": {
    "scrolled": true
   },
   "outputs": [],
   "source": [
    "for day in f_PA['Obs_date']:\n",
    "    \n",
    "    [dd, mm, yyyy] = day.split('-')\n",
    "    obs_date = date(int(yyyy), int(mm), int(dd))\n",
    "    today = datetime.today().date()\n",
    "    \n",
    "    if date(2022, 9, 27) < obs_date < today:\n",
    "        version = 641\n",
    "    elif date(2021, 10, 1) <= obs_date <= date(2022, 9, 26):\n",
    "        version = 621\n",
    "    elif date(2021, 5, 10) <= obs_date <= date(2021, 9, 30):\n",
    "        version = 611\n",
    "    elif date(2019, 10, 1) <= obs_date <= date(2021, 5, 9):\n",
    "        version = 561\n",
    "    elif date(2018, 10, 1) <= obs_date < date(2019, 10, 1):\n",
    "        version = 540\n",
    "    elif date(2017, 10, 1) <= obs_date < date(2018, 10, 1):\n",
    "        version = 511\n",
    "    elif date(2017, 4, 17) <= obs_date < date(2017, 10,1):\n",
    "        version = 472\n",
    "    elif date(2016, 10, 25) <= obs_date < date(2017, 4, 17):\n",
    "        version = 470\n",
    "    elif date(2016, 2, 10) <= obs_date < date(2016, 4, 1):\n",
    "        version = 453\n",
    "    elif date(2016, 4 ,1) <= obs_date < date(2016, 4, 8):\n",
    "        version = 452\n",
    "    elif date(2016, 4, 8) <= obs_date < date(2016, 10, 25):\n",
    "        version = 451\n",
    "    elif date(2015, 8, 7) <= obs_date < date(2016, 2, 10):\n",
    "        version = 431\n",
    "    elif date(2014, 9, 22) <= obs_date < date(2015, 8, 7):\n",
    "        version = 422"
   ]
  },
  {
   "cell_type": "code",
   "execution_count": null,
   "id": "7d82b648",
   "metadata": {},
   "outputs": [],
   "source": [
    "project = np.unique(f_PA['Project code'])\n",
    "working_directory = '/home/pinhsien/Research/Data/'\n",
    "for code in project:\n",
    "    script_directory = working_directory + code\n",
    "\n",
    "bash_cmd = 'ls'\n",
    "\n",
    "result = subprocess.run(bash_cmd, cwd=script_directory, stdout=subprocess.PIPE,stderr=subprocess.PIPE)\n",
    "output = result.stdout.decode()\n",
    "next_dir = output.replace('\\n', '')\n",
    "script_directory = script_directory + '/' + next_dir\n",
    "\n",
    "result = subprocess.run(bash_cmd, cwd=script_directory, stdout=subprocess.PIPE,stderr=subprocess.PIPE)\n",
    "output = result.stdout.decode()\n",
    "next_dir = output.replace('\\n', '')\n",
    "script_directory = script_directory + '/' + next_dir\n",
    "\n",
    "result = subprocess.run(bash_cmd, cwd=script_directory, stdout=subprocess.PIPE,stderr=subprocess.PIPE)\n",
    "output = result.stdout.decode()\n",
    "next_dir = output.replace('\\n', '')\n",
    "script_directory = script_directory + '/' + next_dir\n",
    "\n",
    "result = subprocess.run(bash_cmd, cwd=script_directory, stdout=subprocess.PIPE,stderr=subprocess.PIPE)\n",
    "output = result.stdout.decode()\n",
    "output = output.split('\\n')\n",
    "script_directory = script_directory + '/' + output[5]\n",
    "\n",
    "result = subprocess.run(bash_cmd, cwd=script_directory, stdout=subprocess.PIPE, stderr=subprocess.PIPE)\n",
    "output = result.stdout.decode()\n",
    "\n",
    "print(output)"
   ]
  },
  {
   "cell_type": "code",
   "execution_count": null,
   "id": "1a4f5530",
   "metadata": {
    "scrolled": true
   },
   "outputs": [],
   "source": [
    "file_list = output.split('\\n')\n",
    "print(file_list)\n",
    "pipeline = '.scriptForPI.py'\n",
    "matching_file = [s for s in file_list if pipeline in s]\n",
    "print(matching_file)\n",
    "script_path = script_directory + '/' + matching_file[0]\n",
    "print(script_path)"
   ]
  },
  {
   "cell_type": "code",
   "execution_count": null,
   "id": "bcf0f0ff",
   "metadata": {},
   "outputs": [],
   "source": [
    "subprocess.call(['/bin/bash', '-i', '-c', 'casa641'])"
   ]
  }
 ],
 "metadata": {
  "kernelspec": {
   "display_name": "Python 3",
   "language": "python",
   "name": "python3"
  },
  "language_info": {
   "codemirror_mode": {
    "name": "ipython",
    "version": 3
   },
   "file_extension": ".py",
   "mimetype": "text/x-python",
   "name": "python",
   "nbconvert_exporter": "python",
   "pygments_lexer": "ipython3",
   "version": "3.6.13"
  }
 },
 "nbformat": 4,
 "nbformat_minor": 5
}
