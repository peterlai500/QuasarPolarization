{
 "cells": [
  {
   "cell_type": "markdown",
   "id": "c99adae3",
   "metadata": {},
   "source": [
    "# Find CASA version\n",
    "\n",
    "Link that contain the compaibility is [here](https://almascience.nrao.edu/processing/science-pipeline)\n",
    "\n",
    "Probably the upper obs_date checking loop isn't necessary.\n",
    "In ALMA data directory i'm working on there exist a `*.pipeline_manifest.xml` file.\n",
    "\n",
    "In the file there exist one line wrote `<casaversion name=\"6.2.1.7\"/>`. \n",
    "Accroding to the infomation in the [documentation](https://almascience.nao.ac.jp/documents-and-tools/cycle10/alma-qa2-data-products-for-cycle-10)(page 12), the .xml files are products of the pipeline execu-\n",
    "tion, containing information about the packaged files and metadata, as the list of employed EBs.\n",
    "\n",
    "[Other documents for cycle 10](https://almascience.nao.ac.jp/documents-and-tools/)\n",
    "\n",
    "\n",
    "# Seperating observation period\n",
    "\n"
   ]
  },
  {
   "cell_type": "code",
   "execution_count": 1,
   "id": "27ded8be",
   "metadata": {
    "scrolled": false
   },
   "outputs": [],
   "source": [
    "from QuasarPol_Class import QuasarPol\n",
    "from datetime import date, datetime, timedelta"
   ]
  },
  {
   "cell_type": "code",
   "execution_count": 32,
   "id": "9e3fa9bc",
   "metadata": {
    "scrolled": true
   },
   "outputs": [],
   "source": [
    "target = QuasarPol('J1924-2914', False, 'Full', 1000)\n",
    "data_table = target.get_tables()\n",
    "PA_table = target.get_ParaAngle()"
   ]
  },
  {
   "cell_type": "code",
   "execution_count": 7,
   "id": "67091d24",
   "metadata": {},
   "outputs": [
    {
     "data": {
      "text/plain": [
       "55"
      ]
     },
     "execution_count": 7,
     "metadata": {},
     "output_type": "execute_result"
    }
   ],
   "source": [
    "f_PA = target.filter_data(5, 10)\n",
    "len(f_PA)"
   ]
  },
  {
   "cell_type": "markdown",
   "id": "1dcd0ef0",
   "metadata": {},
   "source": [
    "code for trivially check the version"
   ]
  },
  {
   "cell_type": "code",
   "execution_count": 8,
   "id": "7052e32c",
   "metadata": {
    "scrolled": false
   },
   "outputs": [],
   "source": [
    "for day in f_PA['Obs_date']:\n",
    "    \n",
    "    [dd, mm, yyyy] = day.split('-')\n",
    "    obs_date = date(int(yyyy), int(mm), int(dd))\n",
    "    today = datetime.today().date()\n",
    "    \n",
    "    if date(2022, 9, 27) < obs_date < today:\n",
    "        version = 641\n",
    "    elif date(2021, 10, 1) <= obs_date <= date(2022, 9, 26):\n",
    "        version = 621\n",
    "    elif date(2021, 5, 10) <= obs_date <= date(2021, 9, 30):\n",
    "        version = 611\n",
    "    elif date(2019, 10, 1) <= obs_date <= date(2021, 5, 9):\n",
    "        version = 561\n",
    "    elif date(2018, 10, 1) <= obs_date < date(2019, 10, 1):\n",
    "        version = 540\n",
    "    elif date(2017, 10, 1) <= obs_date < date(2018, 10, 1):\n",
    "        version = 511\n",
    "    elif date(2017, 4, 17) <= obs_date < date(2017, 10,1):\n",
    "        version = 472\n",
    "    elif date(2016, 10, 25) <= obs_date < date(2017, 4, 17):\n",
    "        version = 470\n",
    "    elif date(2016, 2, 10) <= obs_date < date(2016, 4, 1):\n",
    "        version = 453\n",
    "    elif date(2016, 4 ,1) <= obs_date < date(2016, 4, 8):\n",
    "        version = 452\n",
    "    elif date(2016, 4, 8) <= obs_date < date(2016, 10, 25):\n",
    "        version = 451\n",
    "    elif date(2015, 8, 7) <= obs_date < date(2016, 2, 10):\n",
    "        version = 431\n",
    "    elif date(2014, 9, 22) <= obs_date < date(2015, 8, 7):\n",
    "        version = 422"
   ]
  },
  {
   "cell_type": "code",
   "execution_count": 4,
   "id": "fc55bb70",
   "metadata": {},
   "outputs": [],
   "source": [
    "import xml.etree.ElementTree as ET\n",
    "\n",
    "# Specify the path to your XML file\n",
    "xml_file_path = \"/run/media/pinhsien/Storage24TB/DATA/2021.1.00286.S/science_goal.uid___A001_X1590_X2a72/group.uid___A001_X1590_X2a73/member.uid___A001_X1590_X2a76/script/member.uid___A001_X1590_X2a76.hifa_polcal_renorm.pipeline_manifest.xml\"\n",
    "\n",
    "# Parse the XML file\n",
    "tree = ET.parse(xml_file_path)\n",
    "\n",
    "# Get the root element of the XML tree\n",
    "root = tree.getroot()"
   ]
  },
  {
   "cell_type": "code",
   "execution_count": 24,
   "id": "81062db6",
   "metadata": {},
   "outputs": [
    {
     "name": "stdout",
     "output_type": "stream",
     "text": [
      "casaversion: 6.2.1.7\n",
      "<class 'str'>\n"
     ]
    }
   ],
   "source": [
    "casaversion_element = root.find('.//casaversion')\n",
    "if casaversion_element is not None:\n",
    "    casaversion = casaversion_element.get('name')\n",
    "    print('casaversion:', casaversion)\n",
    "    print(type(casaversion))\n",
    "else:\n",
    "    print('casa version element not found.')"
   ]
  },
  {
   "cell_type": "code",
   "execution_count": 29,
   "id": "e897d28e",
   "metadata": {},
   "outputs": [
    {
     "name": "stdout",
     "output_type": "stream",
     "text": [
      "621\n"
     ]
    },
    {
     "data": {
      "text/plain": [
       "3"
      ]
     },
     "execution_count": 29,
     "metadata": {},
     "output_type": "execute_result"
    }
   ],
   "source": [
    "version = casaversion.split('.')\n",
    "casa = casaversion.replace('.', '')\n",
    "casa = casa.replace(casa[-1], '')\n",
    "print(casa)\n",
    "len(casa)"
   ]
  },
  {
   "cell_type": "code",
   "execution_count": 34,
   "id": "d9e330e5",
   "metadata": {},
   "outputs": [],
   "source": [
    "from astroquery.alma import Alma\n",
    "\n",
    "alma = Alma()"
   ]
  },
  {
   "cell_type": "code",
   "execution_count": 40,
   "id": "e12ad501",
   "metadata": {},
   "outputs": [
    {
     "ename": "SyntaxError",
     "evalue": "invalid syntax (<ipython-input-40-86e117221456>, line 4)",
     "output_type": "error",
     "traceback": [
      "\u001b[0;36m  File \u001b[0;32m\"<ipython-input-40-86e117221456>\"\u001b[0;36m, line \u001b[0;32m4\u001b[0m\n\u001b[0;31m    result = alma.query(payload=dict(source_name_alma='J1924-2914', polarisation_type='Dual', start_date=f[{min_date} T0 {max_date}]))\u001b[0m\n\u001b[0m                                                                                                                       ^\u001b[0m\n\u001b[0;31mSyntaxError\u001b[0m\u001b[0;31m:\u001b[0m invalid syntax\n"
     ]
    }
   ],
   "source": [
    "min_date = '2022-01-01'\n",
    "max_date = '2022-12-31'\n",
    "\n",
    "result = alma.query(payload=dict(source_name_alma='J1924-2914', \n",
    "                                 polarisation_type='Dual', \n",
    "                                 start_date=f[{min_date} T0 {max_date}])\n",
    "                   )\n"
   ]
  },
  {
   "cell_type": "code",
   "execution_count": 41,
   "id": "c7e3a3ec",
   "metadata": {},
   "outputs": [
    {
     "ename": "TypeError",
     "evalue": "query_async() missing 1 required positional argument: 'payload'",
     "output_type": "error",
     "traceback": [
      "\u001b[0;31m---------------------------------------------------------------------------\u001b[0m",
      "\u001b[0;31mTypeError\u001b[0m                                 Traceback (most recent call last)",
      "\u001b[0;32m<ipython-input-41-4dfa683cfb72>\u001b[0m in \u001b[0;36m<module>\u001b[0;34m\u001b[0m\n\u001b[1;32m     11\u001b[0m     \u001b[0;31m# Query ALMA proposals for the current date range\u001b[0m\u001b[0;34m\u001b[0m\u001b[0;34m\u001b[0m\u001b[0;34m\u001b[0m\u001b[0m\n\u001b[1;32m     12\u001b[0m     proposals = Alma.query(payload_type='proposal',\n\u001b[0;32m---> 13\u001b[0;31m                            proposal_date={'$gte': start_date, '$lte': end_date})\n\u001b[0m\u001b[1;32m     14\u001b[0m \u001b[0;34m\u001b[0m\u001b[0m\n\u001b[1;32m     15\u001b[0m     \u001b[0;31m# Store the result in the dictionary with a unique key\u001b[0m\u001b[0;34m\u001b[0m\u001b[0;34m\u001b[0m\u001b[0;34m\u001b[0m\u001b[0m\n",
      "\u001b[0;32m~/Softwares/Anaconda/anaconda3/envs/Quasarpol/lib/python3.6/site-packages/astroquery/utils/class_or_instance.py\u001b[0m in \u001b[0;36mf\u001b[0;34m(*args, **kwds)\u001b[0m\n\u001b[1;32m     23\u001b[0m         \u001b[0;32mdef\u001b[0m \u001b[0mf\u001b[0m\u001b[0;34m(\u001b[0m\u001b[0;34m*\u001b[0m\u001b[0margs\u001b[0m\u001b[0;34m,\u001b[0m \u001b[0;34m**\u001b[0m\u001b[0mkwds\u001b[0m\u001b[0;34m)\u001b[0m\u001b[0;34m:\u001b[0m\u001b[0;34m\u001b[0m\u001b[0;34m\u001b[0m\u001b[0m\n\u001b[1;32m     24\u001b[0m             \u001b[0;32mif\u001b[0m \u001b[0mobj\u001b[0m \u001b[0;32mis\u001b[0m \u001b[0;32mnot\u001b[0m \u001b[0;32mNone\u001b[0m\u001b[0;34m:\u001b[0m\u001b[0;34m\u001b[0m\u001b[0;34m\u001b[0m\u001b[0m\n\u001b[0;32m---> 25\u001b[0;31m                 \u001b[0;32mreturn\u001b[0m \u001b[0mself\u001b[0m\u001b[0;34m.\u001b[0m\u001b[0mfn\u001b[0m\u001b[0;34m(\u001b[0m\u001b[0mobj\u001b[0m\u001b[0;34m,\u001b[0m \u001b[0;34m*\u001b[0m\u001b[0margs\u001b[0m\u001b[0;34m,\u001b[0m \u001b[0;34m**\u001b[0m\u001b[0mkwds\u001b[0m\u001b[0;34m)\u001b[0m\u001b[0;34m\u001b[0m\u001b[0;34m\u001b[0m\u001b[0m\n\u001b[0m\u001b[1;32m     26\u001b[0m             \u001b[0;32melse\u001b[0m\u001b[0;34m:\u001b[0m\u001b[0;34m\u001b[0m\u001b[0;34m\u001b[0m\u001b[0m\n\u001b[1;32m     27\u001b[0m                 \u001b[0;32mreturn\u001b[0m \u001b[0mself\u001b[0m\u001b[0;34m.\u001b[0m\u001b[0mfn\u001b[0m\u001b[0;34m(\u001b[0m\u001b[0mcls\u001b[0m\u001b[0;34m,\u001b[0m \u001b[0;34m*\u001b[0m\u001b[0margs\u001b[0m\u001b[0;34m,\u001b[0m \u001b[0;34m**\u001b[0m\u001b[0mkwds\u001b[0m\u001b[0;34m)\u001b[0m\u001b[0;34m\u001b[0m\u001b[0;34m\u001b[0m\u001b[0m\n",
      "\u001b[0;32m~/Softwares/Anaconda/anaconda3/envs/Quasarpol/lib/python3.6/site-packages/astroquery/utils/process_asyncs.py\u001b[0m in \u001b[0;36mnewmethod\u001b[0;34m(self, *args, **kwargs)\u001b[0m\n\u001b[1;32m     24\u001b[0m             \u001b[0mverbose\u001b[0m \u001b[0;34m=\u001b[0m \u001b[0mkwargs\u001b[0m\u001b[0;34m.\u001b[0m\u001b[0mpop\u001b[0m\u001b[0;34m(\u001b[0m\u001b[0;34m'verbose'\u001b[0m\u001b[0;34m,\u001b[0m \u001b[0;32mFalse\u001b[0m\u001b[0;34m)\u001b[0m\u001b[0;34m\u001b[0m\u001b[0;34m\u001b[0m\u001b[0m\n\u001b[1;32m     25\u001b[0m \u001b[0;34m\u001b[0m\u001b[0m\n\u001b[0;32m---> 26\u001b[0;31m             \u001b[0mresponse\u001b[0m \u001b[0;34m=\u001b[0m \u001b[0mgetattr\u001b[0m\u001b[0;34m(\u001b[0m\u001b[0mself\u001b[0m\u001b[0;34m,\u001b[0m \u001b[0masync_method_name\u001b[0m\u001b[0;34m)\u001b[0m\u001b[0;34m(\u001b[0m\u001b[0;34m*\u001b[0m\u001b[0margs\u001b[0m\u001b[0;34m,\u001b[0m \u001b[0;34m**\u001b[0m\u001b[0mkwargs\u001b[0m\u001b[0;34m)\u001b[0m\u001b[0;34m\u001b[0m\u001b[0;34m\u001b[0m\u001b[0m\n\u001b[0m\u001b[1;32m     27\u001b[0m             \u001b[0;32mif\u001b[0m \u001b[0mkwargs\u001b[0m\u001b[0;34m.\u001b[0m\u001b[0mget\u001b[0m\u001b[0;34m(\u001b[0m\u001b[0;34m'get_query_payload'\u001b[0m\u001b[0;34m)\u001b[0m \u001b[0;32mor\u001b[0m \u001b[0mkwargs\u001b[0m\u001b[0;34m.\u001b[0m\u001b[0mget\u001b[0m\u001b[0;34m(\u001b[0m\u001b[0;34m'field_help'\u001b[0m\u001b[0;34m)\u001b[0m\u001b[0;34m:\u001b[0m\u001b[0;34m\u001b[0m\u001b[0;34m\u001b[0m\u001b[0m\n\u001b[1;32m     28\u001b[0m                 \u001b[0;32mreturn\u001b[0m \u001b[0mresponse\u001b[0m\u001b[0;34m\u001b[0m\u001b[0;34m\u001b[0m\u001b[0m\n",
      "\u001b[0;31mTypeError\u001b[0m: query_async() missing 1 required positional argument: 'payload'"
     ]
    }
   ],
   "source": [
    "from astroquery.alma import Alma\n",
    "\n",
    "# Define a list of date ranges (modify these as needed)\n",
    "date_ranges = [(\"2022-01-01\", \"2022-02-01\"), (\"2022-02-01\", \"2022-03-01\")]\n",
    "\n",
    "# Create an empty dictionary to store results\n",
    "results = {}\n",
    "\n",
    "# Loop through the date ranges and query ALMA for each range\n",
    "for idx, (start_date, end_date) in enumerate(date_ranges, start=1):\n",
    "    # Query ALMA proposals for the current date range\n",
    "    proposals = Alma.query(payload_type='proposal',\n",
    "                           proposal_date={'$gte': start_date, '$lte': end_date})\n",
    "\n",
    "    # Store the result in the dictionary with a unique key\n",
    "    results[f\"result_{idx}\"] = proposals\n",
    "\n",
    "# Print the proposals for each date range\n",
    "for key, proposals in results.items():\n",
    "    print(f\"Proposals for {key}:\")\n",
    "    print(proposals)\n"
   ]
  }
 ],
 "metadata": {
  "kernelspec": {
   "display_name": "Python 3",
   "language": "python",
   "name": "python3"
  },
  "language_info": {
   "codemirror_mode": {
    "name": "ipython",
    "version": 3
   },
   "file_extension": ".py",
   "mimetype": "text/x-python",
   "name": "python",
   "nbconvert_exporter": "python",
   "pygments_lexer": "ipython3",
   "version": "3.6.13"
  }
 },
 "nbformat": 4,
 "nbformat_minor": 5
}
