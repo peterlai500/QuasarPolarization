{
 "cells": [
  {
   "cell_type": "code",
   "execution_count": 1,
   "id": "f7682960",
   "metadata": {},
   "outputs": [],
   "source": [
    "import QuasarPol_Class\n"
   ]
  },
  {
   "cell_type": "code",
   "execution_count": 27,
   "id": "e611cee7",
   "metadata": {},
   "outputs": [],
   "source": [
    "import time"
   ]
  },
  {
   "cell_type": "code",
   "execution_count": 35,
   "id": "30bcbbd8",
   "metadata": {},
   "outputs": [],
   "source": [
    "import os\n"
   ]
  },
  {
   "cell_type": "code",
   "execution_count": 33,
   "id": "1113034e",
   "metadata": {},
   "outputs": [
    {
     "name": "stdout",
     "output_type": "stream",
     "text": [
      "Runtime for J1924-2914: 1.800 seconds\n",
      "length of J1924-2914: 261\n",
      "Runtime for M87: 0.379 seconds\n",
      "length of M87: 20\n",
      "Runtime for : 0.224 seconds\n",
      "length of : 0\n"
     ]
    }
   ],
   "source": [
    "source = []\n",
    "with open('target_list.txt') as target_list:\n",
    "    targets = target_list.read()\n",
    "source = targets.split('\\n')\n",
    "\n",
    "for stars in source:\n",
    "    starttime = time.time()\n",
    "    \n",
    "    target = QuasarPol_Class.QuasarPol(stars, False, 'Full')\n",
    "    # data_table = target.get_tables()\n",
    "    PA_table = target.get_ParaAngle()\n",
    "    \n",
    "    endtime = time.time()\n",
    "    runtime = endtime - starttime\n",
    "    print(f\"Runtime for {stars}: {runtime:.3f} seconds\")\n",
    "    print(f'length of {stars}:', len(PA_table))"
   ]
  },
  {
   "cell_type": "code",
   "execution_count": 36,
   "id": "3c048ede",
   "metadata": {},
   "outputs": [
    {
     "data": {
      "text/plain": [
       "0"
      ]
     },
     "execution_count": 36,
     "metadata": {},
     "output_type": "execute_result"
    }
   ],
   "source": [
    "os.system('mv /home/pinhsien/Downloads/test.txt /home/pinhsien/Documents/test.txt')"
   ]
  },
  {
   "cell_type": "code",
   "execution_count": 9,
   "id": "81b443a3",
   "metadata": {},
   "outputs": [
    {
     "name": "stdout",
     "output_type": "stream",
     "text": [
      "261\n",
      "79\n"
     ]
    }
   ],
   "source": [
    "target = QuasarPol_Class.QuasarPol('J1924-2914', False, 'Full')\n",
    "data_table = target.get_tables(legacy_columns=True)\n",
    "print(len(data_table))\n",
    "PA_table = target.get_ParaAngle()\n",
    "Filter_PA = target.filter_data(10)\n",
    "print(len(Filter_PA))"
   ]
  },
  {
   "cell_type": "code",
   "execution_count": 25,
   "id": "6ecec68d",
   "metadata": {},
   "outputs": [
    {
     "name": "stdout",
     "output_type": "stream",
     "text": [
      "261\n"
     ]
    }
   ],
   "source": [
    "t = QuasarPol_Class.QuasarPol('J1924-2914', False, 'Full')\n",
    "PA_table = t.get_ParaAngle()\n",
    "\n",
    "print(len(PA_table))"
   ]
  }
 ],
 "metadata": {
  "kernelspec": {
   "display_name": "Python 3",
   "language": "python",
   "name": "python3"
  },
  "language_info": {
   "codemirror_mode": {
    "name": "ipython",
    "version": 3
   },
   "file_extension": ".py",
   "mimetype": "text/x-python",
   "name": "python",
   "nbconvert_exporter": "python",
   "pygments_lexer": "ipython3",
   "version": "3.6.13"
  }
 },
 "nbformat": 4,
 "nbformat_minor": 5
}
