{
 "cells": [
  {
   "cell_type": "code",
   "execution_count": 1,
   "id": "c50eae6a",
   "metadata": {},
   "outputs": [],
   "source": [
    "from QuasarPol_Class import QuasarPol\n",
    "import numpy as np"
   ]
  },
  {
   "cell_type": "code",
   "execution_count": 2,
   "id": "f53a83be",
   "metadata": {
    "scrolled": true
   },
   "outputs": [],
   "source": [
    "with open('target_list.txt', 'r') as file:\n",
    "    targets = file.readlines()"
   ]
  },
  {
   "cell_type": "code",
   "execution_count": 6,
   "id": "a33fbb91-3d59-4d0d-931c-56d4067d6478",
   "metadata": {},
   "outputs": [
    {
     "name": "stderr",
     "output_type": "stream",
     "text": [
      "/home/pinhsien/Softwares/Anaconda/anaconda3/envs/Quasarpol/lib/python3.8/site-packages/pyvo/dal/query.py:325: DALOverflowWarning: Partial result set. Potential causes MAXREC, async storage space, etc.\n",
      "  warn(\"Partial result set. Potential causes MAXREC, async storage space, etc.\",\n",
      "/home/pinhsien/Softwares/Anaconda/anaconda3/envs/Quasarpol/lib/python3.8/site-packages/pyvo/dal/query.py:325: DALOverflowWarning: Partial result set. Potential causes MAXREC, async storage space, etc.\n",
      "  warn(\"Partial result set. Potential causes MAXREC, async storage space, etc.\",\n"
     ]
    },
    {
     "name": "stdout",
     "output_type": "stream",
     "text": [
      "J0423-0120 : 23\n"
     ]
    },
    {
     "name": "stderr",
     "output_type": "stream",
     "text": [
      "/home/pinhsien/Softwares/Anaconda/anaconda3/envs/Quasarpol/lib/python3.8/site-packages/pyvo/dal/query.py:325: DALOverflowWarning: Partial result set. Potential causes MAXREC, async storage space, etc.\n",
      "  warn(\"Partial result set. Potential causes MAXREC, async storage space, etc.\",\n",
      "/home/pinhsien/Softwares/Anaconda/anaconda3/envs/Quasarpol/lib/python3.8/site-packages/pyvo/dal/query.py:325: DALOverflowWarning: Partial result set. Potential causes MAXREC, async storage space, etc.\n",
      "  warn(\"Partial result set. Potential causes MAXREC, async storage space, etc.\",\n"
     ]
    },
    {
     "name": "stdout",
     "output_type": "stream",
     "text": [
      "J2253+1608 : 51\n",
      "J0538-4405 ObsCore table DALQueryError\n",
      "J0538-4405 ALMA legacy table DALQueryError\n",
      "J0538-4405 : 0\n",
      "J0522-3627 ObsCore table DALQueryError\n",
      "J0522-3627 ALMA legacy table DALQueryError\n",
      "J0522-3627 : 0\n",
      "J0536-3401 ObsCore table DALQueryError\n",
      "J0536-3401 ALMA legacy table DALQueryError\n",
      "J0536-3401 : 0\n",
      "J0501-0159 ObsCore table DALQueryError\n",
      "J0501-0159 ALMA legacy table DALQueryError\n",
      "J0501-0159 : 0\n",
      "J0319+4130 : 0\n",
      "J2220+0025 : 0\n",
      "J1308+1140 : 0\n",
      "J1132+0732 : 0\n",
      "J0038+4137 : 0\n",
      "J0324+3410 : 0\n",
      "J0102+5824 : 0\n",
      "J2202+4220 : 0\n",
      "J0849+5108 : 0\n"
     ]
    },
    {
     "name": "stderr",
     "output_type": "stream",
     "text": [
      "/home/pinhsien/Softwares/Anaconda/anaconda3/envs/Quasarpol/lib/python3.8/site-packages/pyvo/dal/query.py:325: DALOverflowWarning: Partial result set. Potential causes MAXREC, async storage space, etc.\n",
      "  warn(\"Partial result set. Potential causes MAXREC, async storage space, etc.\",\n",
      "/home/pinhsien/Softwares/Anaconda/anaconda3/envs/Quasarpol/lib/python3.8/site-packages/pyvo/dal/query.py:325: DALOverflowWarning: Partial result set. Potential causes MAXREC, async storage space, etc.\n",
      "  warn(\"Partial result set. Potential causes MAXREC, async storage space, etc.\",\n"
     ]
    },
    {
     "name": "stdout",
     "output_type": "stream",
     "text": [
      "J0237+2848 : 0\n",
      "J0137+3309 : 0\n"
     ]
    },
    {
     "name": "stderr",
     "output_type": "stream",
     "text": [
      "/home/pinhsien/Softwares/Anaconda/anaconda3/envs/Quasarpol/lib/python3.8/site-packages/pyvo/dal/query.py:325: DALOverflowWarning: Partial result set. Potential causes MAXREC, async storage space, etc.\n",
      "  warn(\"Partial result set. Potential causes MAXREC, async storage space, etc.\",\n",
      "/home/pinhsien/Softwares/Anaconda/anaconda3/envs/Quasarpol/lib/python3.8/site-packages/pyvo/dal/query.py:325: DALOverflowWarning: Partial result set. Potential causes MAXREC, async storage space, etc.\n",
      "  warn(\"Partial result set. Potential causes MAXREC, async storage space, etc.\",\n"
     ]
    },
    {
     "name": "stdout",
     "output_type": "stream",
     "text": [
      "J1924-2914 : 84\n",
      "J1007-4412 : 0\n",
      "J1938-6342 : 0\n"
     ]
    }
   ],
   "source": [
    "for target in targets:\n",
    "    target = target.strip()\n",
    "    result = QuasarPol(target, False, 'Dual', 500)\n",
    "    try:\n",
    "        f_PA = result.filter_data(5, 15)\n",
    "    except:\n",
    "        f_PA = []\n",
    "        pass\n",
    "    print(f\"{target} : {len(f_PA)}\")"
   ]
  },
  {
   "cell_type": "code",
   "execution_count": null,
   "id": "89958ab4-31a2-43d3-9266-f9bd79b17e12",
   "metadata": {},
   "outputs": [],
   "source": []
  }
 ],
 "metadata": {
  "kernelspec": {
   "display_name": "Python 3 (ipykernel)",
   "language": "python",
   "name": "python3"
  },
  "language_info": {
   "codemirror_mode": {
    "name": "ipython",
    "version": 3
   },
   "file_extension": ".py",
   "mimetype": "text/x-python",
   "name": "python",
   "nbconvert_exporter": "python",
   "pygments_lexer": "ipython3",
   "version": "3.8.13"
  }
 },
 "nbformat": 4,
 "nbformat_minor": 5
}
