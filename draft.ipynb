{
 "cells": [
  {
   "cell_type": "markdown",
   "id": "c99adae3",
   "metadata": {},
   "source": [
    "# Find CASA version\n",
    "\n",
    "Link that contain the compaibility is [here](https://almascience.nrao.edu/processing/science-pipeline)\n",
    "\n",
    "Probably the upper obs_date checking loop isn't necessary.\n",
    "In ALMA data directory i'm working on there exist a `*.pipeline_manifest.xml` file.\n",
    "\n",
    "In the file there exist one line wrote `<casaversion name=\"6.2.1.7\"/>`. \n",
    "Accroding to the infomation in the [documentation](https://almascience.nao.ac.jp/documents-and-tools/cycle10/alma-qa2-data-products-for-cycle-10)(page 12), the .xml files are products of the pipeline execu-\n",
    "tion, containing information about the packaged files and metadata, as the list of employed EBs.\n",
    "\n",
    "[Other documents for cycle 10](https://almascience.nao.ac.jp/documents-and-tools/)\n",
    "\n",
    "\n",
    "# Seperating observation period\n",
    "\n"
   ]
  },
  {
   "cell_type": "code",
   "execution_count": 138,
   "id": "27ded8be",
   "metadata": {
    "scrolled": false
   },
   "outputs": [],
   "source": [
    "from QuasarPol_Class import QuasarPol\n",
    "from datetime import date, datetime, timedelta\n",
    "import numpy as np\n",
    "import time\n",
    "import os\n",
    "import sys"
   ]
  },
  {
   "cell_type": "code",
   "execution_count": 136,
   "id": "edd49492",
   "metadata": {},
   "outputs": [
    {
     "data": {
      "text/plain": [
       "10"
      ]
     },
     "execution_count": 136,
     "metadata": {},
     "output_type": "execute_result"
    }
   ],
   "source": [
    "with open('target_list.txt', 'r') as file:\n",
    "    targets = file.readlines()\n",
    "len(targets)"
   ]
  },
  {
   "cell_type": "code",
   "execution_count": 124,
   "id": "e5c85ef5",
   "metadata": {},
   "outputs": [],
   "source": [
    "for target in targets:\n",
    "    target_new = target.strip()\n",
    "    targets.remove(target)\n",
    "    targets.append(target_new)"
   ]
  },
  {
   "cell_type": "code",
   "execution_count": null,
   "id": "368e9330",
   "metadata": {},
   "outputs": [
    {
     "name": "stdout",
     "output_type": "stream",
     "text": [
      "Querying Titan, data length : 200\n"
     ]
    }
   ],
   "source": [
    "for target in targets:\n",
    "    \n",
    "    target = target.strip()\n",
    "    result = QuasarPol(target, False, 'Dual', 200)\n",
    "    PA_table = result.get_ParaAngle()\n",
    "    print(f'Querying {target}, data length : {len(PA_table)}')\n",
    "    if len(PA_table) > 0:\n",
    "        f_PA = result.filter_data(0, 20)\n",
    "        print(f'{target} observation data in parallactic angle range {result.min_PA} to {result.max_PA} has {len(f_PA)} data')\n",
    "    else:\n",
    "        print(f'No result for {target}.')"
   ]
  },
  {
   "cell_type": "code",
   "execution_count": 133,
   "id": "6b0e6ad4",
   "metadata": {},
   "outputs": [
    {
     "data": {
      "text/plain": [
       "0"
      ]
     },
     "execution_count": 133,
     "metadata": {},
     "output_type": "execute_result"
    }
   ],
   "source": [
    "os.system('rm -rf /home/pinhsien/Documents/*')"
   ]
  },
  {
   "cell_type": "code",
   "execution_count": 147,
   "id": "82417f5f",
   "metadata": {},
   "outputs": [],
   "source": [
    "directory = '/home/pinhsien/Documents/'"
   ]
  },
  {
   "cell_type": "code",
   "execution_count": 148,
   "id": "78db7208",
   "metadata": {},
   "outputs": [
    {
     "data": {
      "text/plain": [
       "'/home/pinhsien/Documents/2023-09-11'"
      ]
     },
     "execution_count": 148,
     "metadata": {},
     "output_type": "execute_result"
    }
   ],
   "source": [
    "folder = f'{directory}{date.today()}'\n",
    "folder"
   ]
  },
  {
   "cell_type": "code",
   "execution_count": 149,
   "id": "1f6122e0",
   "metadata": {},
   "outputs": [
    {
     "data": {
      "text/plain": [
       "0"
      ]
     },
     "execution_count": 149,
     "metadata": {},
     "output_type": "execute_result"
    }
   ],
   "source": [
    "os.system(f'mkdir {folder}')"
   ]
  },
  {
   "cell_type": "code",
   "execution_count": null,
   "id": "a178b9a3",
   "metadata": {},
   "outputs": [],
   "source": []
  }
 ],
 "metadata": {
  "kernelspec": {
   "display_name": "Python 3",
   "language": "python",
   "name": "python3"
  },
  "language_info": {
   "codemirror_mode": {
    "name": "ipython",
    "version": 3
   },
   "file_extension": ".py",
   "mimetype": "text/x-python",
   "name": "python",
   "nbconvert_exporter": "python",
   "pygments_lexer": "ipython3",
   "version": "3.6.13"
  }
 },
 "nbformat": 4,
 "nbformat_minor": 5
}
