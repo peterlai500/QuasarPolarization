{
 "cells": [
  {
   "cell_type": "markdown",
   "id": "c99adae3",
   "metadata": {},
   "source": [
    "# Find CASA version\n",
    "\n",
    "Link that contain the compaibility is [here](https://almascience.nrao.edu/processing/science-pipeline)"
   ]
  },
  {
   "cell_type": "code",
   "execution_count": 3,
   "id": "27ded8be",
   "metadata": {
    "scrolled": false
   },
   "outputs": [],
   "source": [
    "from QuasarPol_Class import QuasarPol"
   ]
  },
  {
   "cell_type": "code",
   "execution_count": 4,
   "id": "e3747ca1",
   "metadata": {},
   "outputs": [],
   "source": [
    "import time"
   ]
  },
  {
   "cell_type": "code",
   "execution_count": 5,
   "id": "62feb015",
   "metadata": {},
   "outputs": [],
   "source": [
    "from astroquery.alma import Alma"
   ]
  },
  {
   "cell_type": "code",
   "execution_count": 7,
   "id": "9e3fa9bc",
   "metadata": {
    "scrolled": true
   },
   "outputs": [
    {
     "name": "stdout",
     "output_type": "stream",
     "text": [
      "Full data table is 261 long\n",
      "Filter time: 375.790575 seconds.\n",
      "Length of Filtered data 4\n"
     ]
    }
   ],
   "source": [
    "target = QuasarPol('J1924-2914', False, 'Full', 1000)\n",
    "data_table = target.get_tables(legacy_columns=True)\n",
    "print(f\"Full data table is {len(data_table)} long\")\n",
    "PA_table = target.get_ParaAngle()\n",
    "\n",
    "st = time.time()\n",
    "f_PA = target.filter_data(2.182, 2.2)\n",
    "et = time.time()\n",
    "rt = et - st\n",
    "print(f\"Filter time: {rt:.6f} seconds.\\nLength of Filtered data {len(f_PA)}\")"
   ]
  },
  {
   "cell_type": "code",
   "execution_count": 8,
   "id": "dc2bf6c7",
   "metadata": {
    "scrolled": true
   },
   "outputs": [
    {
     "data": {
      "text/html": [
       "<i>QTable length=4</i>\n",
       "<table id=\"table139699434077096-889335\" class=\"table-striped table-bordered table-condensed\">\n",
       "<thead><tr><th>idx</th><th>obs_id</th><th>member_ous_uid</th><th>Obs_date</th><th>Change_PA</th><th>Init_PA</th><th>End_PA</th></tr></thead>\n",
       "<thead><tr><th></th><th></th><th></th><th></th><th>deg</th><th>deg</th><th>deg</th></tr></thead>\n",
       "<tr><td>0</td><td>uid://A001/X1590/X2a76.source.J1924-2914.spw.20</td><td>uid://A001/X1590/X2a76</td><td>10-04-2022</td><td>2.189957255733546</td><td>109.7459299719308</td><td>111.93588722766435</td></tr>\n",
       "<tr><td>1</td><td>uid://A001/X1590/X2a76.source.J1924-2914.spw.24</td><td>uid://A001/X1590/X2a76</td><td>10-04-2022</td><td>2.189957255733546</td><td>109.7459299719308</td><td>111.93588722766435</td></tr>\n",
       "<tr><td>2</td><td>uid://A001/X1590/X2a76.source.J1924-2914.spw.28</td><td>uid://A001/X1590/X2a76</td><td>10-04-2022</td><td>2.189957255733546</td><td>109.7459299719308</td><td>111.93588722766435</td></tr>\n",
       "<tr><td>3</td><td>uid://A001/X1590/X2a76.source.J1924-2914.spw.32</td><td>uid://A001/X1590/X2a76</td><td>10-04-2022</td><td>2.189957255733546</td><td>109.7459299719308</td><td>111.93588722766435</td></tr>\n",
       "</table><style>table.dataTable {clear: both; width: auto !important; margin: 0 !important;}\n",
       ".dataTables_info, .dataTables_length, .dataTables_filter, .dataTables_paginate{\n",
       "display: inline-block; margin-right: 1em; }\n",
       ".paginate_button { margin-right: 5px; }\n",
       "</style>\n",
       "<script>\n",
       "\n",
       "var astropy_sort_num = function(a, b) {\n",
       "    var a_num = parseFloat(a);\n",
       "    var b_num = parseFloat(b);\n",
       "\n",
       "    if (isNaN(a_num) && isNaN(b_num))\n",
       "        return ((a < b) ? -1 : ((a > b) ? 1 : 0));\n",
       "    else if (!isNaN(a_num) && !isNaN(b_num))\n",
       "        return ((a_num < b_num) ? -1 : ((a_num > b_num) ? 1 : 0));\n",
       "    else\n",
       "        return isNaN(a_num) ? -1 : 1;\n",
       "}\n",
       "\n",
       "require.config({paths: {\n",
       "    datatables: 'https://cdn.datatables.net/1.10.12/js/jquery.dataTables.min'\n",
       "}});\n",
       "require([\"datatables\"], function(){\n",
       "    console.log(\"$('#table139699434077096-889335').dataTable()\");\n",
       "    \n",
       "jQuery.extend( jQuery.fn.dataTableExt.oSort, {\n",
       "    \"optionalnum-asc\": astropy_sort_num,\n",
       "    \"optionalnum-desc\": function (a,b) { return -astropy_sort_num(a, b); }\n",
       "});\n",
       "\n",
       "    $('#table139699434077096-889335').dataTable({\n",
       "        order: [],\n",
       "        pageLength: 50,\n",
       "        lengthMenu: [[10, 25, 50, 100, 500, 1000, -1], [10, 25, 50, 100, 500, 1000, 'All']],\n",
       "        pagingType: \"full_numbers\",\n",
       "        columnDefs: [{targets: [0, 4, 5, 6], type: \"optionalnum\"}]\n",
       "    });\n",
       "});\n",
       "</script>\n"
      ],
      "text/plain": [
       "<IPython.core.display.HTML object>"
      ]
     },
     "execution_count": 8,
     "metadata": {},
     "output_type": "execute_result"
    }
   ],
   "source": [
    "f_PA.show_in_notebook()"
   ]
  },
  {
   "cell_type": "code",
   "execution_count": 6,
   "id": "2ed1222e",
   "metadata": {},
   "outputs": [],
   "source": [
    "import os\n",
    "import subprocess"
   ]
  },
  {
   "cell_type": "code",
   "execution_count": 77,
   "id": "533d7a87",
   "metadata": {
    "scrolled": true
   },
   "outputs": [
    {
     "ename": "TypeError",
     "evalue": "__init__() got an unexpected keyword argument 'text'",
     "output_type": "error",
     "traceback": [
      "\u001b[0;31m---------------------------------------------------------------------------\u001b[0m",
      "\u001b[0;31mTypeError\u001b[0m                                 Traceback (most recent call last)",
      "\u001b[0;32m<ipython-input-77-fd82c512778e>\u001b[0m in \u001b[0;36m<module>\u001b[0;34m\u001b[0m\n\u001b[1;32m      1\u001b[0m \u001b[0mworking_directory\u001b[0m \u001b[0;34m=\u001b[0m \u001b[0;34m'/home/pinhsien/'\u001b[0m\u001b[0;34m\u001b[0m\u001b[0;34m\u001b[0m\u001b[0m\n\u001b[1;32m      2\u001b[0m \u001b[0mbash_cmd\u001b[0m \u001b[0;34m=\u001b[0m \u001b[0;34m'ls'\u001b[0m\u001b[0;34m\u001b[0m\u001b[0;34m\u001b[0m\u001b[0m\n\u001b[0;32m----> 3\u001b[0;31m \u001b[0mresult\u001b[0m \u001b[0;34m=\u001b[0m \u001b[0msubprocess\u001b[0m\u001b[0;34m.\u001b[0m\u001b[0mrun\u001b[0m\u001b[0;34m(\u001b[0m\u001b[0mbash_cmd\u001b[0m\u001b[0;34m,\u001b[0m \u001b[0mcwd\u001b[0m\u001b[0;34m=\u001b[0m\u001b[0mworking_directory\u001b[0m\u001b[0;34m,\u001b[0m \u001b[0mstdout\u001b[0m\u001b[0;34m=\u001b[0m\u001b[0msubprocess\u001b[0m\u001b[0;34m.\u001b[0m\u001b[0mPIPE\u001b[0m\u001b[0;34m,\u001b[0m \u001b[0mstderr\u001b[0m\u001b[0;34m=\u001b[0m\u001b[0msubprocess\u001b[0m\u001b[0;34m.\u001b[0m\u001b[0mPIPE\u001b[0m\u001b[0;34m,\u001b[0m \u001b[0mtext\u001b[0m\u001b[0;34m=\u001b[0m\u001b[0;32mTrue\u001b[0m\u001b[0;34m)\u001b[0m\u001b[0;34m\u001b[0m\u001b[0;34m\u001b[0m\u001b[0m\n\u001b[0m",
      "\u001b[0;32m~/Softwares/Anaconda/anaconda3/envs/Quasarpol/lib/python3.6/subprocess.py\u001b[0m in \u001b[0;36mrun\u001b[0;34m(input, timeout, check, *popenargs, **kwargs)\u001b[0m\n\u001b[1;32m    421\u001b[0m         \u001b[0mkwargs\u001b[0m\u001b[0;34m[\u001b[0m\u001b[0;34m'stdin'\u001b[0m\u001b[0;34m]\u001b[0m \u001b[0;34m=\u001b[0m \u001b[0mPIPE\u001b[0m\u001b[0;34m\u001b[0m\u001b[0;34m\u001b[0m\u001b[0m\n\u001b[1;32m    422\u001b[0m \u001b[0;34m\u001b[0m\u001b[0m\n\u001b[0;32m--> 423\u001b[0;31m     \u001b[0;32mwith\u001b[0m \u001b[0mPopen\u001b[0m\u001b[0;34m(\u001b[0m\u001b[0;34m*\u001b[0m\u001b[0mpopenargs\u001b[0m\u001b[0;34m,\u001b[0m \u001b[0;34m**\u001b[0m\u001b[0mkwargs\u001b[0m\u001b[0;34m)\u001b[0m \u001b[0;32mas\u001b[0m \u001b[0mprocess\u001b[0m\u001b[0;34m:\u001b[0m\u001b[0;34m\u001b[0m\u001b[0;34m\u001b[0m\u001b[0m\n\u001b[0m\u001b[1;32m    424\u001b[0m         \u001b[0;32mtry\u001b[0m\u001b[0;34m:\u001b[0m\u001b[0;34m\u001b[0m\u001b[0;34m\u001b[0m\u001b[0m\n\u001b[1;32m    425\u001b[0m             \u001b[0mstdout\u001b[0m\u001b[0;34m,\u001b[0m \u001b[0mstderr\u001b[0m \u001b[0;34m=\u001b[0m \u001b[0mprocess\u001b[0m\u001b[0;34m.\u001b[0m\u001b[0mcommunicate\u001b[0m\u001b[0;34m(\u001b[0m\u001b[0minput\u001b[0m\u001b[0;34m,\u001b[0m \u001b[0mtimeout\u001b[0m\u001b[0;34m=\u001b[0m\u001b[0mtimeout\u001b[0m\u001b[0;34m)\u001b[0m\u001b[0;34m\u001b[0m\u001b[0;34m\u001b[0m\u001b[0m\n",
      "\u001b[0;31mTypeError\u001b[0m: __init__() got an unexpected keyword argument 'text'"
     ]
    }
   ],
   "source": [
    "working_directory = '/home/pinhsien/'\n",
    "bash_cmd = 'ls'\n",
    "result = subprocess.run(bash_cmd, cwd=working_directory, stdout=subprocess.PIPE, stderr=subprocess.PIPE, text=True)"
   ]
  },
  {
   "cell_type": "code",
   "execution_count": 76,
   "id": "28f29966",
   "metadata": {},
   "outputs": [
    {
     "name": "stdout",
     "output_type": "stream",
     "text": [
      "ls\n",
      "<bound method CompletedProcess.check_returncode of CompletedProcess(args='ls', returncode=0, stdout=b'Desktop\\nDocuments\\nDownloads\\nMusic\\nPictures\\nPublic\\nResearch\\nSoftwares\\nTemplates\\nVideos\\n', stderr=b'')>\n",
      "0\n",
      "b''\n",
      "b'Desktop\\nDocuments\\nDownloads\\nMusic\\nPictures\\nPublic\\nResearch\\nSoftwares\\nTemplates\\nVideos\\n'\n"
     ]
    }
   ],
   "source": [
    "print(result.args)\n",
    "print(result.check_returncode)\n",
    "print(result.returncode)\n",
    "print(result.stderr)\n",
    "print(result.stdout)"
   ]
  },
  {
   "cell_type": "code",
   "execution_count": null,
   "id": "8fa711fe",
   "metadata": {},
   "outputs": [],
   "source": []
  }
 ],
 "metadata": {
  "kernelspec": {
   "display_name": "Python 3",
   "language": "python",
   "name": "python3"
  },
  "language_info": {
   "codemirror_mode": {
    "name": "ipython",
    "version": 3
   },
   "file_extension": ".py",
   "mimetype": "text/x-python",
   "name": "python",
   "nbconvert_exporter": "python",
   "pygments_lexer": "ipython3",
   "version": "3.6.13"
  }
 },
 "nbformat": 4,
 "nbformat_minor": 5
}
