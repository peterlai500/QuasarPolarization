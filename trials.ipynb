{
 "cells": [
  {
   "cell_type": "code",
   "execution_count": 1,
   "id": "e164e970-fb10-4ee6-9d50-6db314c87268",
   "metadata": {},
   "outputs": [],
   "source": [
    "from QuasarPol_Class import QuasarPol\n",
    "\n",
    "from astropy import units as u\n",
    "from astropy.table import Table\n",
    "from astropy.time import Time\n",
    "from astropy.coordinates import Angle, SkyCoord\n",
    "\n",
    "from astroplan import Observer\n",
    "\n",
    "import os\n",
    "from datetime import date, datetime\n",
    "import numpy as np\n",
    "\n",
    "from astroquery.alma import Alma\n",
    "alma=Alma()\n",
    "import os\n",
    "import subprocess\n",
    "import xml.etree.ElementTree as ET"
   ]
  },
  {
   "cell_type": "code",
   "execution_count": 2,
   "id": "070046ef-7013-4fef-9909-ea1f5583d97e",
   "metadata": {},
   "outputs": [],
   "source": [
    "target = 'J1924-2914'\n",
    "calibration = False\n",
    "polarization = 'Dual'\n",
    "data_length = 200000"
   ]
  },
  {
   "cell_type": "code",
   "execution_count": 3,
   "id": "96c6c3fb-3e29-49a5-b299-fd73716d9d4c",
   "metadata": {},
   "outputs": [],
   "source": [
    "result = QuasarPol(target, calibration, polarization, data_length)"
   ]
  },
  {
   "cell_type": "code",
   "execution_count": 4,
   "id": "19010f3e-90da-4b86-be8a-373f82b48733",
   "metadata": {},
   "outputs": [],
   "source": [
    "storage = '/run/media/pinhsien/Storage24TB/DATA'\n",
    "target_name = target.replace('+', 'p').replace('-', 'm')\n",
    "path = f'{storage}/{target_name}.20231119'"
   ]
  },
  {
   "cell_type": "code",
   "execution_count": 5,
   "id": "629e0794-26f2-4aed-bd59-1dd6295e42e6",
   "metadata": {},
   "outputs": [],
   "source": [
    "result.directory = path\n",
    "result.min_PA = -33.54\n",
    "result.Max_PA = -33.53"
   ]
  },
  {
   "cell_type": "code",
   "execution_count": 6,
   "id": "bc9219da-d561-4e04-9796-c242a3c404e6",
   "metadata": {},
   "outputs": [
    {
     "name": "stdout",
     "output_type": "stream",
     "text": [
      "Files at the /run/media/pinhsien/Storage24TB/DATA/J1924m2914.20231119 directory\n",
      "CASA version: 6.4.1.12\n",
      "casa641 --pipeline /run/media/pinhsien/Storage24TB/DATA/J1924m2914.20231119/2021.1.01209.S/science_goal.uid___A001_X2df9_X4d/group.uid___A001_X2df9_X54/member.uid___A001_X2df9_X55/script/member.uid___A001_X2df9_X55.scriptForPI.py\n"
     ]
    }
   ],
   "source": [
    "result.run_script()"
   ]
  }
 ],
 "metadata": {
  "kernelspec": {
   "display_name": "Python 3 (ipykernel)",
   "language": "python",
   "name": "python3"
  },
  "language_info": {
   "codemirror_mode": {
    "name": "ipython",
    "version": 3
   },
   "file_extension": ".py",
   "mimetype": "text/x-python",
   "name": "python",
   "nbconvert_exporter": "python",
   "pygments_lexer": "ipython3",
   "version": "3.8.18"
  }
 },
 "nbformat": 4,
 "nbformat_minor": 5
}
