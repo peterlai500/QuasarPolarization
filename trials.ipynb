{
 "cells": [
  {
   "cell_type": "code",
   "execution_count": 1,
   "id": "e164e970-fb10-4ee6-9d50-6db314c87268",
   "metadata": {},
   "outputs": [],
   "source": [
    "from QuasarPol_Class import QuasarPol\n",
    "\n",
    "from astropy import units as u\n",
    "from astropy.table import Table\n",
    "from astropy.time import Time\n",
    "from astropy.coordinates import Angle, SkyCoord\n",
    "\n",
    "from astroplan import Observer\n",
    "\n",
    "import os\n",
    "from datetime import date, datetime\n",
    "import numpy as np\n",
    "\n",
    "from astroquery.alma import Alma\n",
    "alma=Alma()\n",
    "import os\n",
    "import subprocess\n",
    "import xml.etree.ElementTree as ET"
   ]
  },
  {
   "cell_type": "code",
   "execution_count": 2,
   "id": "070046ef-7013-4fef-9909-ea1f5583d97e",
   "metadata": {},
   "outputs": [],
   "source": [
    "target = 'J1924-2914'\n",
    "calibration = False\n",
    "polarization = 'Dual'\n",
    "data_length = 200000"
   ]
  },
  {
   "cell_type": "code",
   "execution_count": 3,
   "id": "96c6c3fb-3e29-49a5-b299-fd73716d9d4c",
   "metadata": {},
   "outputs": [],
   "source": [
    "result = QuasarPol(target, calibration, polarization, data_length)"
   ]
  },
  {
   "cell_type": "code",
   "execution_count": 4,
   "id": "93e03f00-9ee1-4114-b770-6ebfae28d46c",
   "metadata": {},
   "outputs": [],
   "source": [
    "variable_name_to_modify = \"DOSPLIT\"\n",
    "new_value = True"
   ]
  },
  {
   "cell_type": "code",
   "execution_count": 6,
   "id": "5681af21-c1f7-412f-b95f-e3987223efae",
   "metadata": {},
   "outputs": [],
   "source": [
    "try:\n",
    "    with open(\"/home/pinhsien/Research/member.uid___A001_X2df9_X55.scriptForPI.py\", \"r\") as file:\n",
    "        lines = file.readlines()\n",
    "\n",
    "    for i, line in enumerate(lines):\n",
    "        if variable_name_to_modify in line:\n",
    "            if \"DOSPLIT = False\" == line:\n",
    "                lines[i] = f\"{variable_name_to_modify} = {new_value}\\n\"\n",
    "                break\n",
    "            else:\n",
    "                lines.insert(0, f\"{variable_name_to_modify} = {new_value}\\n\")\n",
    "                break\n",
    "    with open(\"/home/pinhsien/Research/member.uid___A001_X2df9_X55.scriptForPI.py\", \"w\") as file:\n",
    "        file.writelines(lines)\n",
    "except ImportError:\n",
    "    print(\"Error: The script file could not be imported.\")"
   ]
  }
 ],
 "metadata": {
  "kernelspec": {
   "display_name": "Python 3 (ipykernel)",
   "language": "python",
   "name": "python3"
  },
  "language_info": {
   "codemirror_mode": {
    "name": "ipython",
    "version": 3
   },
   "file_extension": ".py",
   "mimetype": "text/x-python",
   "name": "python",
   "nbconvert_exporter": "python",
   "pygments_lexer": "ipython3",
   "version": "3.8.18"
  }
 },
 "nbformat": 4,
 "nbformat_minor": 5
}
