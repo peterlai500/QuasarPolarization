{
 "cells": [
  {
   "cell_type": "code",
   "execution_count": 3,
   "id": "da56b4e4",
   "metadata": {},
   "outputs": [],
   "source": [
    "from astropy import coordinates\n",
    "from astropy import units as u\n",
    "from astropy.coordinates import Angle, SkyCoord, EarthLocation, AltAz\n",
    "from astropy.table import Table\n",
    "from astropy.time import Time\n",
    "\n",
    "from astropy.io import fits\n",
    "\n",
    "from astroquery.alma import Alma\n",
    "alma=Alma()\n",
    "\n",
    "import numpy as np\n",
    "import math\n",
    "\n",
    "from astroplan import Observer, FixedTarget\n",
    "\n",
    "from pytz import timezone\n",
    "import pytz\n",
    "\n",
    "alma.archive_url = 'https://almascience.eso.org'"
   ]
  },
  {
   "cell_type": "code",
   "execution_count": 4,
   "id": "a3f5bd6a",
   "metadata": {},
   "outputs": [],
   "source": [
    "source = 'J1924-2914'\n",
    "baobab = 'Hauyu Baobob Liu'"
   ]
  },
  {
   "cell_type": "code",
   "execution_count": 5,
   "id": "c3c25a4f",
   "metadata": {},
   "outputs": [
    {
     "name": "stderr",
     "output_type": "stream",
     "text": [
      "/home/Peter/Softwares/anaconda3/envs/DataQuery/lib/python3.10/site-packages/pyvo/dal/query.py:324: DALOverflowWarning: Partial result set. Potential causes MAXREC, async storage space, etc.\n",
      "  warn(\"Partial result set. Potential causes MAXREC, async storage space, etc.\",\n"
     ]
    }
   ],
   "source": [
    "# columns based on ObsCore model have time variables\n",
    "result_ObsCore = alma.query(payload=dict(source_name_alma=source), \n",
    "                            science=False,\n",
    "                            maxrec=500)"
   ]
  },
  {
   "cell_type": "code",
   "execution_count": 7,
   "id": "7560260c",
   "metadata": {
    "scrolled": false
   },
   "outputs": [
    {
     "name": "stderr",
     "output_type": "stream",
     "text": [
      "/home/Peter/Softwares/anaconda3/envs/DataQuery/lib/python3.10/site-packages/pyvo/dal/query.py:324: DALOverflowWarning: Partial result set. Potential causes MAXREC, async storage space, etc.\n",
      "  warn(\"Partial result set. Potential causes MAXREC, async storage space, etc.\",\n"
     ]
    },
    {
     "data": {
      "text/html": [
       "<div><i>Table length=100</i>\n",
       "<table id=\"table139863771496256\" class=\"table-striped table-bordered table-condensed\">\n",
       "<thead><tr><th>Project code</th><th>Source name</th><th>RA</th><th>Dec</th><th>Galactic longitude</th><th>Galactic latitude</th><th>Band</th><th>Footprint</th><th>Frequency resolution</th><th>Array</th><th>Mosaic</th><th>Integration</th><th>Release date</th><th>Frequency support</th><th>Velocity resolution</th><th>Pol products</th><th>Observation date</th><th>PI name</th><th>SB name</th><th>Proposal authors</th><th>Line sensitivity (10 km/s)</th><th>Continuum sensitivity</th><th>PWV</th><th>Group ous id</th><th>Member ous id</th><th>Asdm uid</th><th>Project title</th><th>Project type</th><th>Scan intent</th><th>Field of view</th><th>Largest angular scale</th><th>QA2 Status</th><th>Science keyword</th><th>Scientific category</th></tr></thead>\n",
       "<thead><tr><th></th><th></th><th>deg</th><th>deg</th><th>deg</th><th>deg</th><th></th><th></th><th>m</th><th></th><th></th><th>s</th><th></th><th>GHz</th><th>m / s</th><th></th><th></th><th></th><th></th><th></th><th>mJy / beam</th><th>mJy / beam</th><th>mm</th><th></th><th></th><th></th><th></th><th></th><th></th><th>deg</th><th>arcsec</th><th></th><th></th><th></th></tr></thead>\n",
       "<thead><tr><th>str64</th><th>str256</th><th>float64</th><th>float64</th><th>float64</th><th>float64</th><th>str30</th><th>object</th><th>float64</th><th>str660</th><th>str1</th><th>float64</th><th>object</th><th>str4000</th><th>float64</th><th>str64</th><th>str10</th><th>str256</th><th>str128</th><th>str2000</th><th>float64</th><th>float64</th><th>float32</th><th>str64</th><th>str64</th><th>str32</th><th>str256</th><th>str16</th><th>str256</th><th>float64</th><th>float64</th><th>str1</th><th>str200</th><th>str200</th></tr></thead>\n",
       "<tr><td>2015.1.00075.S</td><td>J1924-2914</td><td>291.21273315419313</td><td>-29.241700286113876</td><td>9.344108487771734</td><td>-19.606808049249732</td><td>7</td><td>Circle ICRS 291.212733 -29.241700 0.002790</td><td>169199090794078.9</td><td>A001:DA59 A002:DA49 A004:DA41 A006:DA61 A009:DV18 A010:DV25 A011:DV09 A015:DV04 A023:DA51 A027:DV07 A029:DV10 A030:DA65 A034:DA46 A036:DV16 A047:DA55 A048:DV15 A049:DV11 A052:DA47 A060:DA60 A061:DA62 A062:DA56 A063:DA44 A065:DV06 A067:DA42 A068:DA45 A069:DV14 A070:DV21 A071:DA43 A072:DV05 A073:DA54 A074:DA48 A075:DV24 A076:DA52 A077:DA58 A078:DV12 A080:DV23 A081:DA53 A086:DV08 A089:DA50 A090:DV01 A092:DV17</td><td>F</td><td>907.2</td><td>2018-01-12T00:00:00.000</td><td>[281.97..282.91GHz,564.45kHz,1.1mJy/beam@10km/s,109.8uJy/beam@native, XX YY] U [284.07..285.01GHz,564.45kHz,1.1mJy/beam@10km/s,110uJy/beam@native, XX YY] U [294.92..295.86GHz,564.45kHz,1.1mJy/beam@10km/s,114.8uJy/beam@native, XX YY] U [295.80..297.78GHz,31250.00kHz,1.1mJy/beam@10km/s,80.3uJy/beam@native, XX YY]</td><td>573.7128687110273</td><td>/XX/YY/</td><td>08-05-2016</td><td>ALMA</td><td>PKS1830-_h_07_TE</td><td>Marti-Vidal, Ivan; Gerin, Maryvonne; Beelen, Alexandre; Aalto, Susanne; Horellou, Cathy; Black, John; GUELIN, Michel; Combes, Francoise;</td><td>1.0955787528519167</td><td>0.05021603106859618</td><td>1.4688121</td><td>uid://A001/X2fe/X864</td><td>uid://A001/X2fe/X865</td><td>uid://A002/Xb2b000/X6ca1</td><td>Monitoring PKS1830-211: the submm activity of the blazar and the variability of the foreground absorption lines</td><td>S</td><td>BANDPASS WVR</td><td>0.005579944042328001</td><td>4.139689699211668</td><td>T</td><td>Active Galactic Nuclei (AGN)/Quasars (QSO), Galaxy chemistry</td><td>Active galaxies</td></tr>\n",
       "<tr><td>2015.1.00075.S</td><td>J1924-2914</td><td>291.21273315419313</td><td>-29.241700286113876</td><td>9.344108487771734</td><td>-19.606808049249732</td><td>7</td><td>Circle ICRS 291.212733 -29.241700 0.002790</td><td>169199090794078.9</td><td>A001:DA59 A002:DA49 A004:DA41 A006:DA61 A009:DV18 A010:DV25 A011:DV09 A015:DV04 A023:DA51 A027:DV07 A029:DV10 A030:DA65 A034:DA46 A036:DV16 A047:DA55 A048:DV15 A049:DV11 A052:DA47 A060:DA60 A061:DA62 A062:DA56 A063:DA44 A065:DV06 A067:DA42 A068:DA45 A069:DV14 A070:DV21 A071:DA43 A072:DV05 A073:DA54 A074:DA48 A075:DV24 A076:DA52 A077:DA58 A078:DV12 A080:DV23 A081:DA53 A086:DV08 A089:DA50 A090:DV01 A092:DV17</td><td>F</td><td>907.2</td><td>2018-01-12T00:00:00.000</td><td>[281.97..282.91GHz,564.45kHz,1.1mJy/beam@10km/s,109.8uJy/beam@native, XX YY] U [284.07..285.01GHz,564.45kHz,1.1mJy/beam@10km/s,110uJy/beam@native, XX YY] U [294.92..295.86GHz,564.45kHz,1.1mJy/beam@10km/s,114.8uJy/beam@native, XX YY] U [295.80..297.78GHz,31250.00kHz,1.1mJy/beam@10km/s,80.3uJy/beam@native, XX YY]</td><td>573.7128687110273</td><td>/XX/YY/</td><td>08-05-2016</td><td>ALMA</td><td>PKS1830-_h_07_TE</td><td>Marti-Vidal, Ivan; Gerin, Maryvonne; Beelen, Alexandre; Aalto, Susanne; Horellou, Cathy; Black, John; GUELIN, Michel; Combes, Francoise;</td><td>1.0929566182612214</td><td>0.05021603106859618</td><td>1.4688121</td><td>uid://A001/X2fe/X864</td><td>uid://A001/X2fe/X865</td><td>uid://A002/Xb2b000/X6ca1</td><td>Monitoring PKS1830-211: the submm activity of the blazar and the variability of the foreground absorption lines</td><td>S</td><td>BANDPASS WVR</td><td>0.005579944042328001</td><td>4.139689699211668</td><td>T</td><td>Active Galactic Nuclei (AGN)/Quasars (QSO), Galaxy chemistry</td><td>Active galaxies</td></tr>\n",
       "<tr><td>2015.1.00075.S</td><td>J1924-2914</td><td>291.21273315419313</td><td>-29.241700286113876</td><td>9.344108487771734</td><td>-19.606808049249732</td><td>7</td><td>Circle ICRS 291.212733 -29.241700 0.002790</td><td>169199090794078.9</td><td>A001:DA59 A002:DA49 A004:DA41 A006:DA61 A009:DV18 A010:DV25 A011:DV09 A015:DV04 A023:DA51 A027:DV07 A029:DV10 A030:DA65 A034:DA46 A036:DV16 A047:DA55 A048:DV15 A049:DV11 A052:DA47 A060:DA60 A061:DA62 A062:DA56 A063:DA44 A065:DV06 A067:DA42 A068:DA45 A069:DV14 A070:DV21 A071:DA43 A072:DV05 A073:DA54 A074:DA48 A075:DV24 A076:DA52 A077:DA58 A078:DV12 A080:DV23 A081:DA53 A086:DV08 A089:DA50 A090:DV01 A092:DV17</td><td>F</td><td>907.2</td><td>2018-01-12T00:00:00.000</td><td>[281.97..282.91GHz,564.45kHz,1.1mJy/beam@10km/s,109.8uJy/beam@native, XX YY] U [284.07..285.01GHz,564.45kHz,1.1mJy/beam@10km/s,110uJy/beam@native, XX YY] U [294.92..295.86GHz,564.45kHz,1.1mJy/beam@10km/s,114.8uJy/beam@native, XX YY] U [295.80..297.78GHz,31250.00kHz,1.1mJy/beam@10km/s,80.3uJy/beam@native, XX YY]</td><td>573.7128687110273</td><td>/XX/YY/</td><td>08-05-2016</td><td>ALMA</td><td>PKS1830-_h_07_TE</td><td>Marti-Vidal, Ivan; Gerin, Maryvonne; Beelen, Alexandre; Aalto, Susanne; Horellou, Cathy; Black, John; GUELIN, Michel; Combes, Francoise;</td><td>1.1413378521435136</td><td>0.05021603106859618</td><td>1.4688121</td><td>uid://A001/X2fe/X864</td><td>uid://A001/X2fe/X865</td><td>uid://A002/Xb2b000/X6ca1</td><td>Monitoring PKS1830-211: the submm activity of the blazar and the variability of the foreground absorption lines</td><td>S</td><td>BANDPASS WVR</td><td>0.005579944042328001</td><td>4.139689699211668</td><td>T</td><td>Active Galactic Nuclei (AGN)/Quasars (QSO), Galaxy chemistry</td><td>Active galaxies</td></tr>\n",
       "<tr><td>2015.1.00075.S</td><td>J1924-2914</td><td>291.21273315419313</td><td>-29.241700286113876</td><td>9.344108487771734</td><td>-19.606808049249732</td><td>7</td><td>Circle ICRS 291.212733 -29.241700 0.002790</td><td>169199090794078.9</td><td>A001:DA59 A002:DA49 A004:DA41 A006:DA61 A009:DV18 A010:DV25 A011:DV09 A015:DV04 A023:DA51 A027:DV07 A029:DV10 A030:DA65 A034:DA46 A036:DV16 A047:DA55 A048:DV15 A049:DV11 A052:DA47 A060:DA60 A061:DA62 A062:DA56 A063:DA44 A065:DV06 A067:DA42 A068:DA45 A069:DV14 A070:DV21 A071:DA43 A072:DV05 A073:DA54 A074:DA48 A075:DV24 A076:DA52 A077:DA58 A078:DV12 A080:DV23 A081:DA53 A086:DV08 A089:DA50 A090:DV01 A092:DV17</td><td>F</td><td>907.2</td><td>2018-01-12T00:00:00.000</td><td>[281.97..282.91GHz,564.45kHz,1.1mJy/beam@10km/s,109.8uJy/beam@native, XX YY] U [284.07..285.01GHz,564.45kHz,1.1mJy/beam@10km/s,110uJy/beam@native, XX YY] U [294.92..295.86GHz,564.45kHz,1.1mJy/beam@10km/s,114.8uJy/beam@native, XX YY] U [295.80..297.78GHz,31250.00kHz,1.1mJy/beam@10km/s,80.3uJy/beam@native, XX YY]</td><td>573.7128687110273</td><td>/XX/YY/</td><td>08-05-2016</td><td>ALMA</td><td>PKS1830-_h_07_TE</td><td>Marti-Vidal, Ivan; Gerin, Maryvonne; Beelen, Alexandre; Aalto, Susanne; Horellou, Cathy; Black, John; GUELIN, Michel; Combes, Francoise;</td><td>1.1197521490626317</td><td>0.05021603106859618</td><td>1.4688121</td><td>uid://A001/X2fe/X864</td><td>uid://A001/X2fe/X865</td><td>uid://A002/Xb2b000/X6ca1</td><td>Monitoring PKS1830-211: the submm activity of the blazar and the variability of the foreground absorption lines</td><td>S</td><td>BANDPASS WVR</td><td>0.005579944042328001</td><td>4.139689699211668</td><td>T</td><td>Active Galactic Nuclei (AGN)/Quasars (QSO), Galaxy chemistry</td><td>Active galaxies</td></tr>\n",
       "<tr><td>2012.1.00826.S</td><td>J1924-2914</td><td>291.2127330833333</td><td>-29.241700305555558</td><td>9.344108445158497</td><td>-19.606807998362562</td><td>7</td><td>Circle ICRS 291.212733 -29.241700 0.003964</td><td>36591048695253.37</td><td>J502:CM02 J503:CM03 J504:CM12 J505:CM08 J506:CM05 N601:CM07 N603:CM09 N604:CM11 N605:CM04 N606:CM06</td><td>F</td><td>907.2</td><td>2015-05-02T12:49:38.000</td><td>[342.73..342.98GHz,122.07kHz,15.2mJy/beam@10km/s,3.2mJy/beam@native, XX YY] U [345.19..345.44GHz,122.07kHz,15.1mJy/beam@10km/s,3.2mJy/beam@native, XX YY] U [354.32..354.57GHz,122.07kHz,13.6mJy/beam@10km/s,3mJy/beam@native, XX YY] U [356.55..356.80GHz,122.07kHz,13.6mJy/beam@10km/s,3mJy/beam@native, XX YY]</td><td>102.55414525482513</td><td>/XX/YY/</td><td>12-04-2014</td><td>ALMA</td><td>Group1_B7_ACA</td><td>Cooper, Heather; San Jose Garcia, Irene; Urquhart, James; Klaassen, Pamela; Bruderer, Simon; Hoare, Melvin; Lumsden, Stuart; Oudmaijer, Rene;</td><td>13.559367807303525</td><td>1.545256943566926</td><td>0.91</td><td>uid://A002/X6dddc4/X50</td><td>uid://A002/X6dddc4/X53</td><td>uid://A002/X7ef2fb/X498</td><td>The mass infall rate of massive young stellar objects</td><td>S</td><td>BANDPASS</td><td>0.007927723279545102</td><td>18.125837601654386</td><td>T</td><td>High-mass star formation</td><td>ISM and star formation</td></tr>\n",
       "<tr><td>2012.1.00826.S</td><td>J1924-2914</td><td>291.2127330833333</td><td>-29.241700305555558</td><td>9.344108445158497</td><td>-19.606807998362562</td><td>7</td><td>Circle ICRS 291.212733 -29.241700 0.003964</td><td>36591048695253.37</td><td>J502:CM02 J503:CM03 J504:CM12 J505:CM08 J506:CM05 N601:CM07 N603:CM09 N604:CM11 N605:CM04 N606:CM06</td><td>F</td><td>907.2</td><td>2015-05-02T12:49:38.000</td><td>[342.73..342.98GHz,122.07kHz,15.2mJy/beam@10km/s,3.2mJy/beam@native, XX YY] U [345.19..345.44GHz,122.07kHz,15.1mJy/beam@10km/s,3.2mJy/beam@native, XX YY] U [354.32..354.57GHz,122.07kHz,13.6mJy/beam@10km/s,3mJy/beam@native, XX YY] U [356.55..356.80GHz,122.07kHz,13.6mJy/beam@10km/s,3mJy/beam@native, XX YY]</td><td>102.55414525482513</td><td>/XX/YY/</td><td>12-04-2014</td><td>ALMA</td><td>Group1_B7_ACA</td><td>Cooper, Heather; San Jose Garcia, Irene; Urquhart, James; Klaassen, Pamela; Bruderer, Simon; Hoare, Melvin; Lumsden, Stuart; Oudmaijer, Rene;</td><td>13.586740436826954</td><td>1.545256943566926</td><td>0.91</td><td>uid://A002/X6dddc4/X50</td><td>uid://A002/X6dddc4/X53</td><td>uid://A002/X7ef2fb/X498</td><td>The mass infall rate of massive young stellar objects</td><td>S</td><td>BANDPASS</td><td>0.007927723279545102</td><td>18.125837601654386</td><td>T</td><td>High-mass star formation</td><td>ISM and star formation</td></tr>\n",
       "<tr><td>...</td><td>...</td><td>...</td><td>...</td><td>...</td><td>...</td><td>...</td><td>...</td><td>...</td><td>...</td><td>...</td><td>...</td><td>...</td><td>...</td><td>...</td><td>...</td><td>...</td><td>...</td><td>...</td><td>...</td><td>...</td><td>...</td><td>...</td><td>...</td><td>...</td><td>...</td><td>...</td><td>...</td><td>...</td><td>...</td><td>...</td><td>...</td><td>...</td><td>...</td></tr>\n",
       "<tr><td>2016.2.00025.S</td><td>J1924-2914</td><td>291.21273315422417</td><td>-29.241700286140624</td><td>9.34410848775542</td><td>-19.60680804928456</td><td>7</td><td>Circle ICRS 291.212733 -29.241700 0.004099</td><td>169214957898771.16</td><td>J501:CM10 J502:CM02 J503:CM03 J504:CM12 J505:CM08 J506:CM05 N601:CM07 N602:CM01 N604:CM11 N605:CM04 N606:CM06</td><td>F</td><td>846.72</td><td>2018-07-24T12:06:06.000</td><td>[330.29..331.29GHz,564.45kHz,25.2mJy/beam@10km/s,2.6mJy/beam@native, XX YY] U [331.29..333.29GHz,1128.91kHz,21.6mJy/beam@10km/s,1.6mJy/beam@native, XX YY] U [342.56..344.56GHz,1128.91kHz,17.4mJy/beam@10km/s,1.3mJy/beam@native, XX YY] U [345.14..346.14GHz,564.45kHz,19.3mJy/beam@10km/s,2.1mJy/beam@native, XX YY]</td><td>490.2749486405399</td><td>/XX/YY/</td><td>15-07-2017</td><td>ALMA</td><td>RT_Cap_a_07_7M</td><td>Sahai, Raghvendra; De Beck, Elvire; Lindqvist, Michael; Olofsson, Hans; Doan, Lam; Kerschbaum, Franz; Zijlstra, Albert; Quintana-Lacaci, Guillermo; Tafoya, Daniel; Groenewegen, Martin; Brunner, Magdalena; Perez Sanchez, Andres; Saberi, Maryam; Kastner, Joel; Hoefner, Susanne; Montez, Rodolfo; Khouri, Theo; Mecina, Marko; McDonald, Iain; Maercker, Matthias; Vlemmings, Wouter; Danilovich, Taissa;</td><td>19.283429669127262</td><td>0.8643396227760493</td><td>0.91</td><td>uid://A001/X1234/X2db</td><td>uid://A001/X1234/X2dc</td><td>uid://A002/Xc21a10/Xfcb</td><td>DEATH STAR: DEtermining Accurate mass-loss rates of THermally pulsing AGB STARs</td><td>S</td><td>PHASE WVR</td><td>0.00819840762684942</td><td>23.54337861266957</td><td>T</td><td>Asymptotic Giant Branch (AGB) stars</td><td>Stars and stellar evolution</td></tr>\n",
       "<tr><td>2016.2.00025.S</td><td>J1924-2914</td><td>291.21273315422417</td><td>-29.241700286140624</td><td>9.34410848775542</td><td>-19.60680804928456</td><td>7</td><td>Circle ICRS 291.212733 -29.241700 0.004099</td><td>169214957898771.16</td><td>J501:CM10 J502:CM02 J503:CM03 J504:CM12 J505:CM08 J506:CM05 N601:CM07 N602:CM01 N604:CM11 N605:CM04 N606:CM06</td><td>F</td><td>846.72</td><td>2018-07-24T12:06:06.000</td><td>[330.29..331.29GHz,564.45kHz,25.2mJy/beam@10km/s,2.6mJy/beam@native, XX YY] U [331.29..333.29GHz,1128.91kHz,21.6mJy/beam@10km/s,1.6mJy/beam@native, XX YY] U [342.56..344.56GHz,1128.91kHz,17.4mJy/beam@10km/s,1.3mJy/beam@native, XX YY] U [345.14..346.14GHz,564.45kHz,19.3mJy/beam@10km/s,2.1mJy/beam@native, XX YY]</td><td>490.2749486405399</td><td>/XX/YY/</td><td>15-07-2017</td><td>ALMA</td><td>RT_Cap_a_07_7M</td><td>Sahai, Raghvendra; De Beck, Elvire; Lindqvist, Michael; Olofsson, Hans; Doan, Lam; Kerschbaum, Franz; Zijlstra, Albert; Quintana-Lacaci, Guillermo; Tafoya, Daniel; Groenewegen, Martin; Brunner, Magdalena; Perez Sanchez, Andres; Saberi, Maryam; Kastner, Joel; Hoefner, Susanne; Montez, Rodolfo; Khouri, Theo; Mecina, Marko; McDonald, Iain; Maercker, Matthias; Vlemmings, Wouter; Danilovich, Taissa;</td><td>17.407077127198455</td><td>0.8643396227760493</td><td>0.91</td><td>uid://A001/X1234/X2db</td><td>uid://A001/X1234/X2dc</td><td>uid://A002/Xc21a10/Xfcb</td><td>DEATH STAR: DEtermining Accurate mass-loss rates of THermally pulsing AGB STARs</td><td>S</td><td>PHASE WVR</td><td>0.00819840762684942</td><td>23.54337861266957</td><td>T</td><td>Asymptotic Giant Branch (AGB) stars</td><td>Stars and stellar evolution</td></tr>\n",
       "<tr><td>2016.2.00025.S</td><td>J1924-2914</td><td>291.21273315422417</td><td>-29.241700286140624</td><td>9.34410848775542</td><td>-19.60680804928456</td><td>7</td><td>Circle ICRS 291.212733 -29.241700 0.004099</td><td>169214957898771.16</td><td>J501:CM10 J502:CM02 J503:CM03 J504:CM12 J505:CM08 J506:CM05 N601:CM07 N602:CM01 N604:CM11 N605:CM04 N606:CM06</td><td>F</td><td>846.72</td><td>2018-07-24T12:06:06.000</td><td>[330.29..331.29GHz,564.45kHz,25.2mJy/beam@10km/s,2.6mJy/beam@native, XX YY] U [331.29..333.29GHz,1128.91kHz,21.6mJy/beam@10km/s,1.6mJy/beam@native, XX YY] U [342.56..344.56GHz,1128.91kHz,17.4mJy/beam@10km/s,1.3mJy/beam@native, XX YY] U [345.14..346.14GHz,564.45kHz,19.3mJy/beam@10km/s,2.1mJy/beam@native, XX YY]</td><td>490.2749486405399</td><td>/XX/YY/</td><td>15-07-2017</td><td>ALMA</td><td>RT_Cap_a_07_7M</td><td>Sahai, Raghvendra; De Beck, Elvire; Lindqvist, Michael; Olofsson, Hans; Doan, Lam; Kerschbaum, Franz; Zijlstra, Albert; Quintana-Lacaci, Guillermo; Tafoya, Daniel; Groenewegen, Martin; Brunner, Magdalena; Perez Sanchez, Andres; Saberi, Maryam; Kastner, Joel; Hoefner, Susanne; Montez, Rodolfo; Khouri, Theo; Mecina, Marko; McDonald, Iain; Maercker, Matthias; Vlemmings, Wouter; Danilovich, Taissa;</td><td>25.15763300419833</td><td>0.8643396227760493</td><td>0.91</td><td>uid://A001/X1234/X2db</td><td>uid://A001/X1234/X2dc</td><td>uid://A002/Xc21a10/Xfcb</td><td>DEATH STAR: DEtermining Accurate mass-loss rates of THermally pulsing AGB STARs</td><td>S</td><td>PHASE WVR</td><td>0.00819840762684942</td><td>23.54337861266957</td><td>T</td><td>Asymptotic Giant Branch (AGB) stars</td><td>Stars and stellar evolution</td></tr>\n",
       "<tr><td>2016.2.00025.S</td><td>J1924-2914</td><td>291.21273315422417</td><td>-29.241700286140624</td><td>9.34410848775542</td><td>-19.60680804928456</td><td>7</td><td>Circle ICRS 291.212733 -29.241700 0.004099</td><td>169214957898771.16</td><td>J501:CM10 J502:CM02 J503:CM03 J504:CM12 J505:CM08 J506:CM05 N601:CM07 N602:CM01 N604:CM11 N605:CM04 N606:CM06</td><td>F</td><td>846.72</td><td>2018-07-24T12:06:06.000</td><td>[330.29..331.29GHz,564.45kHz,25.2mJy/beam@10km/s,2.6mJy/beam@native, XX YY] U [331.29..333.29GHz,1128.91kHz,21.6mJy/beam@10km/s,1.6mJy/beam@native, XX YY] U [342.56..344.56GHz,1128.91kHz,17.4mJy/beam@10km/s,1.3mJy/beam@native, XX YY] U [345.14..346.14GHz,564.45kHz,19.3mJy/beam@10km/s,2.1mJy/beam@native, XX YY]</td><td>490.2749486405399</td><td>/XX/YY/</td><td>15-07-2017</td><td>ALMA</td><td>RT_Cap_a_07_7M</td><td>Sahai, Raghvendra; De Beck, Elvire; Lindqvist, Michael; Olofsson, Hans; Doan, Lam; Kerschbaum, Franz; Zijlstra, Albert; Quintana-Lacaci, Guillermo; Tafoya, Daniel; Groenewegen, Martin; Brunner, Magdalena; Perez Sanchez, Andres; Saberi, Maryam; Kastner, Joel; Hoefner, Susanne; Montez, Rodolfo; Khouri, Theo; Mecina, Marko; McDonald, Iain; Maercker, Matthias; Vlemmings, Wouter; Danilovich, Taissa;</td><td>21.617217771861803</td><td>0.8643396227760493</td><td>0.91</td><td>uid://A001/X1234/X2db</td><td>uid://A001/X1234/X2dc</td><td>uid://A002/Xc21a10/Xfcb</td><td>DEATH STAR: DEtermining Accurate mass-loss rates of THermally pulsing AGB STARs</td><td>S</td><td>PHASE WVR</td><td>0.00819840762684942</td><td>23.54337861266957</td><td>T</td><td>Asymptotic Giant Branch (AGB) stars</td><td>Stars and stellar evolution</td></tr>\n",
       "<tr><td>2018.1.00088.S</td><td>J1924-2914</td><td>291.2127331499474</td><td>-29.241700294435866</td><td>9.344108478116596</td><td>-19.60680804874374</td><td>6</td><td>Circle ICRS 291.212733 -29.241700 0.003471</td><td>9367923584218572.0</td><td>A058:DA41 A094:DV14 A101:DA65 A104:DA43 A105:DA64 A108:PM04 A111:DV12 A115:DA46 A116:DV08 A118:DV07 A120:DV19 A121:PM03 A122:DA44 A123:DA48 A125:DA49 A126:PM01 A129:DV01 A130:DA58 A131:DV21 A133:DV10 A134:DA63 A135:PM02 A136:DV04 P401:DA59 P403:DA45 P408:DV17 P409:DV11 P410:DV06 P411:DA56 P412:DA60 P413:DV03 S301:DA54 S303:DV23 S306:DV20 S307:DA47 S308:DV22 S309:DA51 W201:DA50 W202:DA55 W203:DV16 W205:DA52 W207:DV25 W208:DV13 W209:DV05 W210:DA53</td><td>F</td><td>302.4</td><td>2020-10-08T20:40:12.000</td><td>[222.99..224.98GHz,31250.00kHz,1.3mJy/beam@10km/s,80.5uJy/beam@native, XX YY] U [224.99..226.98GHz,31250.00kHz,1.3mJy/beam@10km/s,77.3uJy/beam@native, XX YY] U [238.99..240.98GHz,31250.00kHz,1.3mJy/beam@10km/s,84.4uJy/beam@native, XX YY] U [240.99..242.98GHz,31250.00kHz,1.4mJy/beam@10km/s,90.1uJy/beam@native, XX YY]</td><td>38872.24324937599</td><td>/XX/YY/</td><td>22-06-2019</td><td>ALMA</td><td>V4334_Sg_e_06_TM1</td><td>Guzman-Ramirez, Lizette; Hajduk, Marcin; Kimeswenger, Stefan; Zijlstra, Albert; Tafoya, Daniel; Van de Steene, Griet; Avison, Adam; Barria, Daniela; Herwig, Falk;</td><td>1.3340936904634408</td><td>0.041334083428166794</td><td>1.1724751</td><td>uid://A001/X133d/Xbe3</td><td>uid://A001/X133d/Xbe4</td><td>uid://A002/Xddf4b5/X146f</td><td>Observing i process nucleosynthesis products in V4334 Sgr</td><td>S</td><td>BANDPASS FLUX WVR</td><td>0.006942437791450344</td><td>0.42211992081824895</td><td>T</td><td>Asymptotic Giant Branch (AGB) stars, Post-AGB stars</td><td>Stars and stellar evolution</td></tr>\n",
       "<tr><td>2018.1.00088.S</td><td>J1924-2914</td><td>291.2127331499474</td><td>-29.241700294435866</td><td>9.344108478116596</td><td>-19.60680804874374</td><td>6</td><td>Circle ICRS 291.212733 -29.241700 0.003471</td><td>9367923584218572.0</td><td>A058:DA41 A094:DV14 A101:DA65 A104:DA43 A105:DA64 A108:PM04 A111:DV12 A115:DA46 A116:DV08 A118:DV07 A120:DV19 A121:PM03 A122:DA44 A123:DA48 A125:DA49 A126:PM01 A129:DV01 A130:DA58 A131:DV21 A133:DV10 A134:DA63 A135:PM02 A136:DV04 P401:DA59 P403:DA45 P408:DV17 P409:DV11 P410:DV06 P411:DA56 P412:DA60 P413:DV03 S301:DA54 S303:DV23 S306:DV20 S307:DA47 S308:DV22 S309:DA51 W201:DA50 W202:DA55 W203:DV16 W205:DA52 W207:DV25 W208:DV13 W209:DV05 W210:DA53</td><td>F</td><td>302.4</td><td>2020-10-08T20:40:12.000</td><td>[222.99..224.98GHz,31250.00kHz,1.3mJy/beam@10km/s,80.5uJy/beam@native, XX YY] U [224.99..226.98GHz,31250.00kHz,1.3mJy/beam@10km/s,77.3uJy/beam@native, XX YY] U [238.99..240.98GHz,31250.00kHz,1.3mJy/beam@10km/s,84.4uJy/beam@native, XX YY] U [240.99..242.98GHz,31250.00kHz,1.4mJy/beam@10km/s,90.1uJy/beam@native, XX YY]</td><td>38872.24324937599</td><td>/XX/YY/</td><td>22-06-2019</td><td>ALMA</td><td>V4334_Sg_e_06_TM1</td><td>Guzman-Ramirez, Lizette; Hajduk, Marcin; Kimeswenger, Stefan; Zijlstra, Albert; Tafoya, Daniel; Van de Steene, Griet; Avison, Adam; Barria, Daniela; Herwig, Falk;</td><td>1.417485736937496</td><td>0.041334083428166794</td><td>1.1724751</td><td>uid://A001/X133d/Xbe3</td><td>uid://A001/X133d/Xbe4</td><td>uid://A002/Xddf4b5/X146f</td><td>Observing i process nucleosynthesis products in V4334 Sgr</td><td>S</td><td>BANDPASS FLUX WVR</td><td>0.006942437791450344</td><td>0.42211992081824895</td><td>T</td><td>Asymptotic Giant Branch (AGB) stars, Post-AGB stars</td><td>Stars and stellar evolution</td></tr>\n",
       "</table></div>"
      ],
      "text/plain": [
       "<Table length=100>\n",
       " Project code  Source name ...     Scientific category    \n",
       "                           ...                            \n",
       "    str64         str256   ...            str200          \n",
       "-------------- ----------- ... ---------------------------\n",
       "2015.1.00075.S  J1924-2914 ...             Active galaxies\n",
       "2015.1.00075.S  J1924-2914 ...             Active galaxies\n",
       "2015.1.00075.S  J1924-2914 ...             Active galaxies\n",
       "2015.1.00075.S  J1924-2914 ...             Active galaxies\n",
       "2012.1.00826.S  J1924-2914 ...      ISM and star formation\n",
       "2012.1.00826.S  J1924-2914 ...      ISM and star formation\n",
       "           ...         ... ...                         ...\n",
       "2016.2.00025.S  J1924-2914 ... Stars and stellar evolution\n",
       "2016.2.00025.S  J1924-2914 ... Stars and stellar evolution\n",
       "2016.2.00025.S  J1924-2914 ... Stars and stellar evolution\n",
       "2016.2.00025.S  J1924-2914 ... Stars and stellar evolution\n",
       "2018.1.00088.S  J1924-2914 ... Stars and stellar evolution\n",
       "2018.1.00088.S  J1924-2914 ... Stars and stellar evolution"
      ]
     },
     "execution_count": 7,
     "metadata": {},
     "output_type": "execute_result"
    }
   ],
   "source": [
    "#columns based on ALMA advanced query have date\n",
    "result_ALMA = alma.query(payload=dict(source_name_alma=source), \n",
    "                         science=False, \n",
    "                         legacy_columns=True,\n",
    "                         maxrec=100)\n",
    "result_ALMA"
   ]
  },
  {
   "cell_type": "code",
   "execution_count": 7,
   "id": "70f31950",
   "metadata": {},
   "outputs": [],
   "source": [
    "# for convenience use first column to analysis"
   ]
  },
  {
   "cell_type": "code",
   "execution_count": 8,
   "id": "ac477755",
   "metadata": {},
   "outputs": [],
   "source": [
    "# Get source coordinate\n",
    "\n",
    "Ra = result_ALMA['RA'][1]\n",
    "Dec = result_ALMA['Dec'][1]\n",
    "\n",
    "target_coord = SkyCoord(ra=Ra*u.deg, dec=Dec*u.deg)"
   ]
  },
  {
   "cell_type": "code",
   "execution_count": 9,
   "id": "ecfc34c1",
   "metadata": {},
   "outputs": [],
   "source": [
    "# Get observation time information\n",
    "\n",
    "start_time = result_ObsCore['t_min'][1]          # the time is the exact second start observation\n",
    "duration_time = result_ObsCore['t_exptime'][1]\n",
    "\n",
    "# transform into the format we can understand (UTC)\n",
    "hours = int(start_time / 3600)\n",
    "remaining_seconds = start_time % 3600\n",
    "minutes = int(remaining_seconds / 60)\n",
    "seconds = remaining_seconds - minutes * 60\n",
    "\n",
    "obs_start_time = str(hours)+':'+str(minutes)+':'+str(seconds)"
   ]
  },
  {
   "cell_type": "code",
   "execution_count": 10,
   "id": "c644718d",
   "metadata": {},
   "outputs": [],
   "source": [
    "# get date\n",
    "\n",
    "date = result_ALMA['Observation date'][1]\n",
    "[day, month, year] = date.split('-')\n",
    "obs_date = year + '-' + month + '-' + day"
   ]
  },
  {
   "cell_type": "code",
   "execution_count": 11,
   "id": "7e1758c6",
   "metadata": {},
   "outputs": [],
   "source": [
    "# combine time and date\n",
    "\n",
    "obs_init_Datetime = Time(obs_date + ' ' + obs_start_time)"
   ]
  },
  {
   "cell_type": "code",
   "execution_count": 12,
   "id": "3a556d04",
   "metadata": {},
   "outputs": [],
   "source": [
    "ALMA = Observer.at_site(\"ALMA\")"
   ]
  },
  {
   "cell_type": "code",
   "execution_count": 16,
   "id": "09cfbdcf",
   "metadata": {},
   "outputs": [],
   "source": [
    "init_PA = Angle(ALMA.parallactic_angle(obs_init_Datetime, target_coord), u.deg)"
   ]
  },
  {
   "cell_type": "code",
   "execution_count": 14,
   "id": "b6f30386",
   "metadata": {},
   "outputs": [],
   "source": [
    "end_time = start_time + duration_time\n",
    "\n",
    "hours = int(end_time / 3600)\n",
    "remaining_seconds = end_time % 3600\n",
    "minutes = int(remaining_seconds / 60)\n",
    "seconds = remaining_seconds - minutes * 60\n",
    "obs_end_time = str(hours)+':'+str(minutes)+':'+str(seconds)\n",
    "\n",
    "obs_end_Datetime = Time(obs_date + ' ' + obs_end_time)\n",
    "\n",
    "end_PA = Angle(ALMA.parallactic_angle(obs_end_Datetime, target_coord), u.deg)"
   ]
  }
 ],
 "metadata": {
  "kernelspec": {
   "display_name": "Python 3 (ipykernel)",
   "language": "python",
   "name": "python3"
  },
  "language_info": {
   "codemirror_mode": {
    "name": "ipython",
    "version": 3
   },
   "file_extension": ".py",
   "mimetype": "text/x-python",
   "name": "python",
   "nbconvert_exporter": "python",
   "pygments_lexer": "ipython3",
   "version": "3.10.8"
  }
 },
 "nbformat": 4,
 "nbformat_minor": 5
}
