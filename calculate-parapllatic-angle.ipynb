{
 "cells": [
  {
   "cell_type": "code",
   "execution_count": 3,
   "id": "da56b4e4",
   "metadata": {},
   "outputs": [],
   "source": [
    "from astropy import coordinates\n",
    "from astropy import units as u\n",
    "from astropy.coordinates import Angle, SkyCoord, EarthLocation, AltAz\n",
    "from astropy.table import Table\n",
    "from astropy.time import Time\n",
    "\n",
    "from astropy.io import fits\n",
    "\n",
    "from astroquery.alma import Alma\n",
    "alma=Alma()\n",
    "\n",
    "import numpy as np\n",
    "import math\n",
    "\n",
    "from astroplan import Observer, FixedTarget\n",
    "\n",
    "from pytz import timezone\n",
    "import pytz\n",
    "\n",
    "alma.archive_url = 'https://almascience.eso.org'"
   ]
  },
  {
   "cell_type": "code",
   "execution_count": 4,
   "id": "a3f5bd6a",
   "metadata": {},
   "outputs": [],
   "source": [
    "source = 'J1924-2914'\n",
    "baobab = 'Hauyu Baobob Liu'"
   ]
  },
  {
   "cell_type": "code",
   "execution_count": 5,
   "id": "c3c25a4f",
   "metadata": {
    "scrolled": false
   },
   "outputs": [
    {
     "name": "stderr",
     "output_type": "stream",
     "text": [
      "/home/Peter/Softwares/anaconda3/envs/DataQuery/lib/python3.10/site-packages/pyvo/dal/query.py:324: DALOverflowWarning: Partial result set. Potential causes MAXREC, async storage space, etc.\n",
      "  warn(\"Partial result set. Potential causes MAXREC, async storage space, etc.\",\n"
     ]
    }
   ],
   "source": [
    "# columns based on ObsCore model have time variables\n",
    "result_ObsCore = alma.query(payload=dict(source_name_alma=source), \n",
    "                            science=False,\n",
    "                            maxrec=100)"
   ]
  },
  {
   "cell_type": "code",
   "execution_count": 6,
   "id": "7560260c",
   "metadata": {},
   "outputs": [
    {
     "name": "stderr",
     "output_type": "stream",
     "text": [
      "/home/Peter/Softwares/anaconda3/envs/DataQuery/lib/python3.10/site-packages/pyvo/dal/query.py:324: DALOverflowWarning: Partial result set. Potential causes MAXREC, async storage space, etc.\n",
      "  warn(\"Partial result set. Potential causes MAXREC, async storage space, etc.\",\n"
     ]
    }
   ],
   "source": [
    "#columns based on ALMA advanced query have date\n",
    "result_ALMA = alma.query(payload=dict(source_name_alma=source), \n",
    "                         science=False, \n",
    "                         legacy_columns=True,\n",
    "                         maxrec=100)"
   ]
  },
  {
   "cell_type": "code",
   "execution_count": 7,
   "id": "70f31950",
   "metadata": {},
   "outputs": [],
   "source": [
    "# for convenience use first column to analysis"
   ]
  },
  {
   "cell_type": "code",
   "execution_count": 8,
   "id": "ac477755",
   "metadata": {},
   "outputs": [],
   "source": [
    "# Get source coordinate\n",
    "\n",
    "Ra = result_ALMA['RA'][1]\n",
    "Dec = result_ALMA['Dec'][1]\n",
    "\n",
    "target_coord = SkyCoord(ra=Ra*u.deg, dec=Dec*u.deg)"
   ]
  },
  {
   "cell_type": "code",
   "execution_count": 9,
   "id": "ecfc34c1",
   "metadata": {},
   "outputs": [],
   "source": [
    "# Get observation time information\n",
    "\n",
    "start_time = result_ObsCore['t_min'][1]          # the time is the exact second start observation\n",
    "duration_time = result_ObsCore['t_exptime'][1]\n",
    "\n",
    "# transform into the format we can understand (UTC)\n",
    "hours = int(start_time / 3600)\n",
    "remaining_seconds = start_time % 3600\n",
    "minutes = int(remaining_seconds / 60)\n",
    "seconds = remaining_seconds - minutes * 60\n",
    "\n",
    "obs_start_time = str(hours)+':'+str(minutes)+':'+str(seconds)"
   ]
  },
  {
   "cell_type": "code",
   "execution_count": 10,
   "id": "c644718d",
   "metadata": {},
   "outputs": [],
   "source": [
    "# get date\n",
    "\n",
    "date = result_ALMA['Observation date'][1]\n",
    "[day, month, year] = date.split('-')\n",
    "obs_date = year + '-' + month + '-' + day"
   ]
  },
  {
   "cell_type": "code",
   "execution_count": 11,
   "id": "7e1758c6",
   "metadata": {},
   "outputs": [],
   "source": [
    "# combine time and date\n",
    "\n",
    "obs_init_Datetime = Time(obs_date + ' ' + obs_start_time)"
   ]
  },
  {
   "cell_type": "code",
   "execution_count": 12,
   "id": "3a556d04",
   "metadata": {},
   "outputs": [],
   "source": [
    "ALMA = Observer.at_site(\"ALMA\")"
   ]
  },
  {
   "cell_type": "code",
   "execution_count": 16,
   "id": "09cfbdcf",
   "metadata": {},
   "outputs": [],
   "source": [
    "init_PA = Angle(ALMA.parallactic_angle(obs_init_Datetime, target_coord), u.deg)"
   ]
  },
  {
   "cell_type": "code",
   "execution_count": 14,
   "id": "b6f30386",
   "metadata": {},
   "outputs": [],
   "source": [
    "end_time = start_time + duration_time\n",
    "\n",
    "hours = int(end_time / 3600)\n",
    "remaining_seconds = end_time % 3600\n",
    "minutes = int(remaining_seconds / 60)\n",
    "seconds = remaining_seconds - minutes * 60\n",
    "obs_end_time = str(hours)+':'+str(minutes)+':'+str(seconds)\n",
    "\n",
    "obs_end_Datetime = Time(obs_date + ' ' + obs_end_time)\n",
    "\n",
    "end_PA = Angle(ALMA.parallactic_angle(obs_end_Datetime, target_coord), u.deg)"
   ]
  }
 ],
 "metadata": {
  "kernelspec": {
   "display_name": "Python 3 (ipykernel)",
   "language": "python",
   "name": "python3"
  },
  "language_info": {
   "codemirror_mode": {
    "name": "ipython",
    "version": 3
   },
   "file_extension": ".py",
   "mimetype": "text/x-python",
   "name": "python",
   "nbconvert_exporter": "python",
   "pygments_lexer": "ipython3",
   "version": "3.10.8"
  }
 },
 "nbformat": 4,
 "nbformat_minor": 5
}
